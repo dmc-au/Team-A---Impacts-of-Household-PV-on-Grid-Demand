{
 "cells": [
  {
   "cell_type": "markdown",
   "source": [
    "# Using XGBoost to Forecast NSW Energy Demand\n",
    "This notebook will be used for developing an XGBoost model that will be used for forecasting the demand in NSW, with the particular goal of looking at how residential (small scale) solar PV impacts the daily maximum, minimum and range of demand in NSW."
   ],
   "metadata": {
    "collapsed": false
   }
  },
  {
   "cell_type": "code",
   "execution_count": 1,
   "outputs": [],
   "source": [
    "import matplotlib.pyplot as plt\n",
    "import pandas as pd\n",
    "import numpy as np\n",
    "import seaborn as sns\n",
    "import xgboost as xgb\n",
    "from sklearn.metrics import mean_squared_error\n",
    "from sklearn.model_selection import TimeSeriesSplit, GridSearchCV\n",
    "import multiprocessing"
   ],
   "metadata": {
    "collapsed": false
   }
  },
  {
   "cell_type": "code",
   "execution_count": 2,
   "outputs": [],
   "source": [
    "# set style for plots\n",
    "sns.set_theme()"
   ],
   "metadata": {
    "collapsed": false
   }
  },
  {
   "cell_type": "code",
   "execution_count": 3,
   "outputs": [
    {
     "data": {
      "text/plain": "            demand_min  demand_max  temp_min  temp_max  temp_mean  \\\ndatetime                                                            \n2010-01-01     6157.36     8922.42      22.1      28.8  25.094000   \n2010-01-02     6112.73     9326.64      21.6      29.4  24.765385   \n2010-01-03     6014.91     8277.85      17.9      21.5  19.429825   \n2010-01-04     6023.79     9522.30      17.9      23.9  20.625926   \n2010-01-05     6287.12    10728.72      15.4      27.7  22.660417   \n\n                  units     cum_units       output    cum_output    population  \ndatetime                                                                        \n2010-01-01  1790.000000  21518.000000  2767.019000  30362.926000  7.144292e+06  \n2010-01-02  1810.677419  21596.419355  2811.171258  30496.336935  7.144495e+06  \n2010-01-03  1831.354839  21674.838710  2855.323516  30629.747871  7.144699e+06  \n2010-01-04  1852.032258  21753.258065  2899.475774  30763.158806  7.144902e+06  \n2010-01-05  1872.709677  21831.677419  2943.628032  30896.569742  7.145106e+06  ",
      "text/html": "<div>\n<style scoped>\n    .dataframe tbody tr th:only-of-type {\n        vertical-align: middle;\n    }\n\n    .dataframe tbody tr th {\n        vertical-align: top;\n    }\n\n    .dataframe thead th {\n        text-align: right;\n    }\n</style>\n<table border=\"1\" class=\"dataframe\">\n  <thead>\n    <tr style=\"text-align: right;\">\n      <th></th>\n      <th>demand_min</th>\n      <th>demand_max</th>\n      <th>temp_min</th>\n      <th>temp_max</th>\n      <th>temp_mean</th>\n      <th>units</th>\n      <th>cum_units</th>\n      <th>output</th>\n      <th>cum_output</th>\n      <th>population</th>\n    </tr>\n    <tr>\n      <th>datetime</th>\n      <th></th>\n      <th></th>\n      <th></th>\n      <th></th>\n      <th></th>\n      <th></th>\n      <th></th>\n      <th></th>\n      <th></th>\n      <th></th>\n    </tr>\n  </thead>\n  <tbody>\n    <tr>\n      <th>2010-01-01</th>\n      <td>6157.36</td>\n      <td>8922.42</td>\n      <td>22.1</td>\n      <td>28.8</td>\n      <td>25.094000</td>\n      <td>1790.000000</td>\n      <td>21518.000000</td>\n      <td>2767.019000</td>\n      <td>30362.926000</td>\n      <td>7.144292e+06</td>\n    </tr>\n    <tr>\n      <th>2010-01-02</th>\n      <td>6112.73</td>\n      <td>9326.64</td>\n      <td>21.6</td>\n      <td>29.4</td>\n      <td>24.765385</td>\n      <td>1810.677419</td>\n      <td>21596.419355</td>\n      <td>2811.171258</td>\n      <td>30496.336935</td>\n      <td>7.144495e+06</td>\n    </tr>\n    <tr>\n      <th>2010-01-03</th>\n      <td>6014.91</td>\n      <td>8277.85</td>\n      <td>17.9</td>\n      <td>21.5</td>\n      <td>19.429825</td>\n      <td>1831.354839</td>\n      <td>21674.838710</td>\n      <td>2855.323516</td>\n      <td>30629.747871</td>\n      <td>7.144699e+06</td>\n    </tr>\n    <tr>\n      <th>2010-01-04</th>\n      <td>6023.79</td>\n      <td>9522.30</td>\n      <td>17.9</td>\n      <td>23.9</td>\n      <td>20.625926</td>\n      <td>1852.032258</td>\n      <td>21753.258065</td>\n      <td>2899.475774</td>\n      <td>30763.158806</td>\n      <td>7.144902e+06</td>\n    </tr>\n    <tr>\n      <th>2010-01-05</th>\n      <td>6287.12</td>\n      <td>10728.72</td>\n      <td>15.4</td>\n      <td>27.7</td>\n      <td>22.660417</td>\n      <td>1872.709677</td>\n      <td>21831.677419</td>\n      <td>2943.628032</td>\n      <td>30896.569742</td>\n      <td>7.145106e+06</td>\n    </tr>\n  </tbody>\n</table>\n</div>"
     },
     "execution_count": 3,
     "metadata": {},
     "output_type": "execute_result"
    }
   ],
   "source": [
    "# read in data\n",
    "df = pd.read_csv('../data/raw/all_data.csv')\n",
    "df['datetime'] = pd.to_datetime(df['datetime'])\n",
    "df.set_index('datetime', inplace=True)\n",
    "df.sort_index()\n",
    "df.head()"
   ],
   "metadata": {
    "collapsed": false
   }
  },
  {
   "cell_type": "code",
   "execution_count": 4,
   "outputs": [],
   "source": [
    "def create_date_predictors(dataframe):\n",
    "    df = dataframe.copy()\n",
    "    df['dayofweek'] = df.index.dayofweek\n",
    "    df['month'] = df.index.month\n",
    "    df['year'] = df.index.year\n",
    "    df['dayofyear'] = df.index.dayofyear\n",
    "    df['dayofmonth'] = df.index.day\n",
    "    return df"
   ],
   "metadata": {
    "collapsed": false
   }
  },
  {
   "cell_type": "code",
   "execution_count": 5,
   "outputs": [],
   "source": [
    "# Add in datetime predictors\n",
    "df = create_date_predictors(df)"
   ],
   "metadata": {
    "collapsed": false
   }
  },
  {
   "cell_type": "code",
   "execution_count": 6,
   "outputs": [
    {
     "data": {
      "text/plain": "            demand_min  demand_max  temp_min  temp_max  temp_mean  \\\ndatetime                                                            \n2010-01-01     6157.36     8922.42      22.1      28.8  25.094000   \n2010-01-02     6112.73     9326.64      21.6      29.4  24.765385   \n2010-01-03     6014.91     8277.85      17.9      21.5  19.429825   \n2010-01-04     6023.79     9522.30      17.9      23.9  20.625926   \n2010-01-05     6287.12    10728.72      15.4      27.7  22.660417   \n\n                  units     cum_units       output    cum_output  \\\ndatetime                                                           \n2010-01-01  1790.000000  21518.000000  2767.019000  30362.926000   \n2010-01-02  1810.677419  21596.419355  2811.171258  30496.336935   \n2010-01-03  1831.354839  21674.838710  2855.323516  30629.747871   \n2010-01-04  1852.032258  21753.258065  2899.475774  30763.158806   \n2010-01-05  1872.709677  21831.677419  2943.628032  30896.569742   \n\n              population  dayofweek  month  year  dayofyear  dayofmonth  \ndatetime                                                                 \n2010-01-01  7.144292e+06          4      1  2010          1           1  \n2010-01-02  7.144495e+06          5      1  2010          2           2  \n2010-01-03  7.144699e+06          6      1  2010          3           3  \n2010-01-04  7.144902e+06          0      1  2010          4           4  \n2010-01-05  7.145106e+06          1      1  2010          5           5  ",
      "text/html": "<div>\n<style scoped>\n    .dataframe tbody tr th:only-of-type {\n        vertical-align: middle;\n    }\n\n    .dataframe tbody tr th {\n        vertical-align: top;\n    }\n\n    .dataframe thead th {\n        text-align: right;\n    }\n</style>\n<table border=\"1\" class=\"dataframe\">\n  <thead>\n    <tr style=\"text-align: right;\">\n      <th></th>\n      <th>demand_min</th>\n      <th>demand_max</th>\n      <th>temp_min</th>\n      <th>temp_max</th>\n      <th>temp_mean</th>\n      <th>units</th>\n      <th>cum_units</th>\n      <th>output</th>\n      <th>cum_output</th>\n      <th>population</th>\n      <th>dayofweek</th>\n      <th>month</th>\n      <th>year</th>\n      <th>dayofyear</th>\n      <th>dayofmonth</th>\n    </tr>\n    <tr>\n      <th>datetime</th>\n      <th></th>\n      <th></th>\n      <th></th>\n      <th></th>\n      <th></th>\n      <th></th>\n      <th></th>\n      <th></th>\n      <th></th>\n      <th></th>\n      <th></th>\n      <th></th>\n      <th></th>\n      <th></th>\n      <th></th>\n    </tr>\n  </thead>\n  <tbody>\n    <tr>\n      <th>2010-01-01</th>\n      <td>6157.36</td>\n      <td>8922.42</td>\n      <td>22.1</td>\n      <td>28.8</td>\n      <td>25.094000</td>\n      <td>1790.000000</td>\n      <td>21518.000000</td>\n      <td>2767.019000</td>\n      <td>30362.926000</td>\n      <td>7.144292e+06</td>\n      <td>4</td>\n      <td>1</td>\n      <td>2010</td>\n      <td>1</td>\n      <td>1</td>\n    </tr>\n    <tr>\n      <th>2010-01-02</th>\n      <td>6112.73</td>\n      <td>9326.64</td>\n      <td>21.6</td>\n      <td>29.4</td>\n      <td>24.765385</td>\n      <td>1810.677419</td>\n      <td>21596.419355</td>\n      <td>2811.171258</td>\n      <td>30496.336935</td>\n      <td>7.144495e+06</td>\n      <td>5</td>\n      <td>1</td>\n      <td>2010</td>\n      <td>2</td>\n      <td>2</td>\n    </tr>\n    <tr>\n      <th>2010-01-03</th>\n      <td>6014.91</td>\n      <td>8277.85</td>\n      <td>17.9</td>\n      <td>21.5</td>\n      <td>19.429825</td>\n      <td>1831.354839</td>\n      <td>21674.838710</td>\n      <td>2855.323516</td>\n      <td>30629.747871</td>\n      <td>7.144699e+06</td>\n      <td>6</td>\n      <td>1</td>\n      <td>2010</td>\n      <td>3</td>\n      <td>3</td>\n    </tr>\n    <tr>\n      <th>2010-01-04</th>\n      <td>6023.79</td>\n      <td>9522.30</td>\n      <td>17.9</td>\n      <td>23.9</td>\n      <td>20.625926</td>\n      <td>1852.032258</td>\n      <td>21753.258065</td>\n      <td>2899.475774</td>\n      <td>30763.158806</td>\n      <td>7.144902e+06</td>\n      <td>0</td>\n      <td>1</td>\n      <td>2010</td>\n      <td>4</td>\n      <td>4</td>\n    </tr>\n    <tr>\n      <th>2010-01-05</th>\n      <td>6287.12</td>\n      <td>10728.72</td>\n      <td>15.4</td>\n      <td>27.7</td>\n      <td>22.660417</td>\n      <td>1872.709677</td>\n      <td>21831.677419</td>\n      <td>2943.628032</td>\n      <td>30896.569742</td>\n      <td>7.145106e+06</td>\n      <td>1</td>\n      <td>1</td>\n      <td>2010</td>\n      <td>5</td>\n      <td>5</td>\n    </tr>\n  </tbody>\n</table>\n</div>"
     },
     "execution_count": 6,
     "metadata": {},
     "output_type": "execute_result"
    }
   ],
   "source": [
    "df.head()"
   ],
   "metadata": {
    "collapsed": false
   }
  },
  {
   "cell_type": "code",
   "execution_count": 7,
   "outputs": [],
   "source": [
    "# Create 5, 1 year splits\n",
    "splits = TimeSeriesSplit(n_splits=5, test_size=365)\n",
    "# set up data for model\n",
    "y_min = df['demand_min']\n",
    "y_max = df['demand_max']\n",
    "X = df.drop(['demand_max', 'demand_min'], axis=1)"
   ],
   "metadata": {
    "collapsed": false
   }
  },
  {
   "cell_type": "code",
   "execution_count": 19,
   "outputs": [],
   "source": [
    "# set up model\n",
    "search_params = {'max_depth': [2, 4, 6, 8], 'n_estimators':[100, 250, 500, 750, 1000], 'learning_rate': [0.01, 0.05, 0.1]}\n",
    "xgb_model = xgb.XGBRegressor(n_jobs=multiprocessing.cpu_count()//2)\n",
    "clf_max = GridSearchCV(estimator=xgb_model,\n",
    "                       param_grid=search_params,\n",
    "                       cv=splits,\n",
    "                       n_jobs=2,\n",
    "                       verbose=True)"
   ],
   "metadata": {
    "collapsed": false
   }
  },
  {
   "cell_type": "code",
   "execution_count": 20,
   "outputs": [
    {
     "name": "stdout",
     "output_type": "stream",
     "text": [
      "Fitting 5 folds for each of 60 candidates, totalling 300 fits\n"
     ]
    },
    {
     "data": {
      "text/plain": "GridSearchCV(cv=TimeSeriesSplit(gap=0, max_train_size=None, n_splits=5, test_size=365),\n             estimator=XGBRegressor(base_score=None, booster=None,\n                                    callbacks=None, colsample_bylevel=None,\n                                    colsample_bynode=None,\n                                    colsample_bytree=None,\n                                    early_stopping_rounds=None,\n                                    enable_categorical=False, eval_metric=None,\n                                    feature_types=None, gamma=None, gpu_id=None,\n                                    grow_policy=None, impo...\n                                    max_cat_threshold=None,\n                                    max_cat_to_onehot=None, max_delta_step=None,\n                                    max_depth=None, max_leaves=None,\n                                    min_child_weight=None, missing=nan,\n                                    monotone_constraints=None, n_estimators=100,\n                                    n_jobs=8, num_parallel_tree=None,\n                                    predictor=None, random_state=None, ...),\n             n_jobs=2,\n             param_grid={'learning_rate': [0.01, 0.05, 0.1],\n                         'max_depth': [2, 4, 6, 8],\n                         'n_estimators': [100, 250, 500, 750, 1000]},\n             verbose=True)",
      "text/html": "<style>#sk-container-id-4 {color: black;background-color: white;}#sk-container-id-4 pre{padding: 0;}#sk-container-id-4 div.sk-toggleable {background-color: white;}#sk-container-id-4 label.sk-toggleable__label {cursor: pointer;display: block;width: 100%;margin-bottom: 0;padding: 0.3em;box-sizing: border-box;text-align: center;}#sk-container-id-4 label.sk-toggleable__label-arrow:before {content: \"▸\";float: left;margin-right: 0.25em;color: #696969;}#sk-container-id-4 label.sk-toggleable__label-arrow:hover:before {color: black;}#sk-container-id-4 div.sk-estimator:hover label.sk-toggleable__label-arrow:before {color: black;}#sk-container-id-4 div.sk-toggleable__content {max-height: 0;max-width: 0;overflow: hidden;text-align: left;background-color: #f0f8ff;}#sk-container-id-4 div.sk-toggleable__content pre {margin: 0.2em;color: black;border-radius: 0.25em;background-color: #f0f8ff;}#sk-container-id-4 input.sk-toggleable__control:checked~div.sk-toggleable__content {max-height: 200px;max-width: 100%;overflow: auto;}#sk-container-id-4 input.sk-toggleable__control:checked~label.sk-toggleable__label-arrow:before {content: \"▾\";}#sk-container-id-4 div.sk-estimator input.sk-toggleable__control:checked~label.sk-toggleable__label {background-color: #d4ebff;}#sk-container-id-4 div.sk-label input.sk-toggleable__control:checked~label.sk-toggleable__label {background-color: #d4ebff;}#sk-container-id-4 input.sk-hidden--visually {border: 0;clip: rect(1px 1px 1px 1px);clip: rect(1px, 1px, 1px, 1px);height: 1px;margin: -1px;overflow: hidden;padding: 0;position: absolute;width: 1px;}#sk-container-id-4 div.sk-estimator {font-family: monospace;background-color: #f0f8ff;border: 1px dotted black;border-radius: 0.25em;box-sizing: border-box;margin-bottom: 0.5em;}#sk-container-id-4 div.sk-estimator:hover {background-color: #d4ebff;}#sk-container-id-4 div.sk-parallel-item::after {content: \"\";width: 100%;border-bottom: 1px solid gray;flex-grow: 1;}#sk-container-id-4 div.sk-label:hover label.sk-toggleable__label {background-color: #d4ebff;}#sk-container-id-4 div.sk-serial::before {content: \"\";position: absolute;border-left: 1px solid gray;box-sizing: border-box;top: 0;bottom: 0;left: 50%;z-index: 0;}#sk-container-id-4 div.sk-serial {display: flex;flex-direction: column;align-items: center;background-color: white;padding-right: 0.2em;padding-left: 0.2em;position: relative;}#sk-container-id-4 div.sk-item {position: relative;z-index: 1;}#sk-container-id-4 div.sk-parallel {display: flex;align-items: stretch;justify-content: center;background-color: white;position: relative;}#sk-container-id-4 div.sk-item::before, #sk-container-id-4 div.sk-parallel-item::before {content: \"\";position: absolute;border-left: 1px solid gray;box-sizing: border-box;top: 0;bottom: 0;left: 50%;z-index: -1;}#sk-container-id-4 div.sk-parallel-item {display: flex;flex-direction: column;z-index: 1;position: relative;background-color: white;}#sk-container-id-4 div.sk-parallel-item:first-child::after {align-self: flex-end;width: 50%;}#sk-container-id-4 div.sk-parallel-item:last-child::after {align-self: flex-start;width: 50%;}#sk-container-id-4 div.sk-parallel-item:only-child::after {width: 0;}#sk-container-id-4 div.sk-dashed-wrapped {border: 1px dashed gray;margin: 0 0.4em 0.5em 0.4em;box-sizing: border-box;padding-bottom: 0.4em;background-color: white;}#sk-container-id-4 div.sk-label label {font-family: monospace;font-weight: bold;display: inline-block;line-height: 1.2em;}#sk-container-id-4 div.sk-label-container {text-align: center;}#sk-container-id-4 div.sk-container {/* jupyter's `normalize.less` sets `[hidden] { display: none; }` but bootstrap.min.css set `[hidden] { display: none !important; }` so we also need the `!important` here to be able to override the default hidden behavior on the sphinx rendered scikit-learn.org. See: https://github.com/scikit-learn/scikit-learn/issues/21755 */display: inline-block !important;position: relative;}#sk-container-id-4 div.sk-text-repr-fallback {display: none;}</style><div id=\"sk-container-id-4\" class=\"sk-top-container\"><div class=\"sk-text-repr-fallback\"><pre>GridSearchCV(cv=TimeSeriesSplit(gap=0, max_train_size=None, n_splits=5, test_size=365),\n             estimator=XGBRegressor(base_score=None, booster=None,\n                                    callbacks=None, colsample_bylevel=None,\n                                    colsample_bynode=None,\n                                    colsample_bytree=None,\n                                    early_stopping_rounds=None,\n                                    enable_categorical=False, eval_metric=None,\n                                    feature_types=None, gamma=None, gpu_id=None,\n                                    grow_policy=None, impo...\n                                    max_cat_threshold=None,\n                                    max_cat_to_onehot=None, max_delta_step=None,\n                                    max_depth=None, max_leaves=None,\n                                    min_child_weight=None, missing=nan,\n                                    monotone_constraints=None, n_estimators=100,\n                                    n_jobs=8, num_parallel_tree=None,\n                                    predictor=None, random_state=None, ...),\n             n_jobs=2,\n             param_grid={&#x27;learning_rate&#x27;: [0.01, 0.05, 0.1],\n                         &#x27;max_depth&#x27;: [2, 4, 6, 8],\n                         &#x27;n_estimators&#x27;: [100, 250, 500, 750, 1000]},\n             verbose=True)</pre><b>In a Jupyter environment, please rerun this cell to show the HTML representation or trust the notebook. <br />On GitHub, the HTML representation is unable to render, please try loading this page with nbviewer.org.</b></div><div class=\"sk-container\" hidden><div class=\"sk-item sk-dashed-wrapped\"><div class=\"sk-label-container\"><div class=\"sk-label sk-toggleable\"><input class=\"sk-toggleable__control sk-hidden--visually\" id=\"sk-estimator-id-10\" type=\"checkbox\" ><label for=\"sk-estimator-id-10\" class=\"sk-toggleable__label sk-toggleable__label-arrow\">GridSearchCV</label><div class=\"sk-toggleable__content\"><pre>GridSearchCV(cv=TimeSeriesSplit(gap=0, max_train_size=None, n_splits=5, test_size=365),\n             estimator=XGBRegressor(base_score=None, booster=None,\n                                    callbacks=None, colsample_bylevel=None,\n                                    colsample_bynode=None,\n                                    colsample_bytree=None,\n                                    early_stopping_rounds=None,\n                                    enable_categorical=False, eval_metric=None,\n                                    feature_types=None, gamma=None, gpu_id=None,\n                                    grow_policy=None, impo...\n                                    max_cat_threshold=None,\n                                    max_cat_to_onehot=None, max_delta_step=None,\n                                    max_depth=None, max_leaves=None,\n                                    min_child_weight=None, missing=nan,\n                                    monotone_constraints=None, n_estimators=100,\n                                    n_jobs=8, num_parallel_tree=None,\n                                    predictor=None, random_state=None, ...),\n             n_jobs=2,\n             param_grid={&#x27;learning_rate&#x27;: [0.01, 0.05, 0.1],\n                         &#x27;max_depth&#x27;: [2, 4, 6, 8],\n                         &#x27;n_estimators&#x27;: [100, 250, 500, 750, 1000]},\n             verbose=True)</pre></div></div></div><div class=\"sk-parallel\"><div class=\"sk-parallel-item\"><div class=\"sk-item\"><div class=\"sk-label-container\"><div class=\"sk-label sk-toggleable\"><input class=\"sk-toggleable__control sk-hidden--visually\" id=\"sk-estimator-id-11\" type=\"checkbox\" ><label for=\"sk-estimator-id-11\" class=\"sk-toggleable__label sk-toggleable__label-arrow\">estimator: XGBRegressor</label><div class=\"sk-toggleable__content\"><pre>XGBRegressor(base_score=None, booster=None, callbacks=None,\n             colsample_bylevel=None, colsample_bynode=None,\n             colsample_bytree=None, early_stopping_rounds=None,\n             enable_categorical=False, eval_metric=None, feature_types=None,\n             gamma=None, gpu_id=None, grow_policy=None, importance_type=None,\n             interaction_constraints=None, learning_rate=None, max_bin=None,\n             max_cat_threshold=None, max_cat_to_onehot=None,\n             max_delta_step=None, max_depth=None, max_leaves=None,\n             min_child_weight=None, missing=nan, monotone_constraints=None,\n             n_estimators=100, n_jobs=8, num_parallel_tree=None, predictor=None,\n             random_state=None, ...)</pre></div></div></div><div class=\"sk-serial\"><div class=\"sk-item\"><div class=\"sk-estimator sk-toggleable\"><input class=\"sk-toggleable__control sk-hidden--visually\" id=\"sk-estimator-id-12\" type=\"checkbox\" ><label for=\"sk-estimator-id-12\" class=\"sk-toggleable__label sk-toggleable__label-arrow\">XGBRegressor</label><div class=\"sk-toggleable__content\"><pre>XGBRegressor(base_score=None, booster=None, callbacks=None,\n             colsample_bylevel=None, colsample_bynode=None,\n             colsample_bytree=None, early_stopping_rounds=None,\n             enable_categorical=False, eval_metric=None, feature_types=None,\n             gamma=None, gpu_id=None, grow_policy=None, importance_type=None,\n             interaction_constraints=None, learning_rate=None, max_bin=None,\n             max_cat_threshold=None, max_cat_to_onehot=None,\n             max_delta_step=None, max_depth=None, max_leaves=None,\n             min_child_weight=None, missing=nan, monotone_constraints=None,\n             n_estimators=100, n_jobs=8, num_parallel_tree=None, predictor=None,\n             random_state=None, ...)</pre></div></div></div></div></div></div></div></div></div></div>"
     },
     "execution_count": 20,
     "metadata": {},
     "output_type": "execute_result"
    }
   ],
   "source": [
    "clf_max.fit(X, y_max, verbose=100)"
   ],
   "metadata": {
    "collapsed": false
   }
  },
  {
   "cell_type": "code",
   "execution_count": 21,
   "outputs": [
    {
     "data": {
      "text/plain": "{'learning_rate': 0.1, 'max_depth': 4, 'n_estimators': 100}"
     },
     "execution_count": 21,
     "metadata": {},
     "output_type": "execute_result"
    }
   ],
   "source": [
    "clf_max.best_params_"
   ],
   "metadata": {
    "collapsed": false
   }
  }
 ],
 "metadata": {
  "kernelspec": {
   "display_name": "Python 3",
   "language": "python",
   "name": "python3"
  },
  "language_info": {
   "codemirror_mode": {
    "name": "ipython",
    "version": 2
   },
   "file_extension": ".py",
   "mimetype": "text/x-python",
   "name": "python",
   "nbconvert_exporter": "python",
   "pygments_lexer": "ipython2",
   "version": "2.7.6"
  }
 },
 "nbformat": 4,
 "nbformat_minor": 0
}
