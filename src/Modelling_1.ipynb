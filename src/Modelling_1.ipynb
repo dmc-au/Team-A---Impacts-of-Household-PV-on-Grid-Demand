{
 "cells": [
  {
   "cell_type": "markdown",
   "source": [
    "# Initial Modelling\n",
    "We are going to make some basic models to predict both Min and Max demands for a day using findings from the EDA phase of the projects.\n",
    "Models will start simple using a few datasets to predict and then get more complex.\n",
    "Models will be using RMSE and MAE to evaluate and compare."
   ],
   "metadata": {
    "collapsed": false
   }
  },
  {
   "cell_type": "code",
   "execution_count": 1,
   "outputs": [],
   "source": [
    "# Import general packages\n",
    "import pandas as pd\n",
    "import numpy as np\n",
    "import matplotlib.pyplot as plt\n",
    "import seaborn as sns\n",
    "from sklearn.metrics import mean_squared_error, mean_absolute_error"
   ],
   "metadata": {
    "collapsed": false
   }
  },
  {
   "cell_type": "markdown",
   "source": [
    "## Load Data and Format for Modelling\n",
    "To begin with we will load in the:\n",
    "- Total Demand Dataset\n",
    "- NSW Temperature Dataset\n",
    "- NSW Residential Solar Data\n",
    "- NSW Population Data\n",
    "\n",
    "Seeing as the Residential Solar Data only goes up to 2020 and Demand Data is only from 2010, when doing the train test split data from 2010-2018 will be used for training, 2019 and 2020 will be used for test. Other data will be discarded for now.\n",
    "\n",
    "Data that have recording interval periods greater than 1 day will be linearly interpolated for now for simplicity."
   ],
   "metadata": {
    "collapsed": false
   }
  },
  {
   "cell_type": "code",
   "execution_count": 2,
   "outputs": [
    {
     "data": {
      "text/plain": "            demand_min  demand_max\ndatetime                          \n2010-01-01     6157.36     8922.42\n2010-01-02     6112.73     9326.64\n2010-01-03     6014.91     8277.85\n2010-01-04     6023.79     9522.30\n2010-01-05     6287.12    10728.72",
      "text/html": "<div>\n<style scoped>\n    .dataframe tbody tr th:only-of-type {\n        vertical-align: middle;\n    }\n\n    .dataframe tbody tr th {\n        vertical-align: top;\n    }\n\n    .dataframe thead th {\n        text-align: right;\n    }\n</style>\n<table border=\"1\" class=\"dataframe\">\n  <thead>\n    <tr style=\"text-align: right;\">\n      <th></th>\n      <th>demand_min</th>\n      <th>demand_max</th>\n    </tr>\n    <tr>\n      <th>datetime</th>\n      <th></th>\n      <th></th>\n    </tr>\n  </thead>\n  <tbody>\n    <tr>\n      <th>2010-01-01</th>\n      <td>6157.36</td>\n      <td>8922.42</td>\n    </tr>\n    <tr>\n      <th>2010-01-02</th>\n      <td>6112.73</td>\n      <td>9326.64</td>\n    </tr>\n    <tr>\n      <th>2010-01-03</th>\n      <td>6014.91</td>\n      <td>8277.85</td>\n    </tr>\n    <tr>\n      <th>2010-01-04</th>\n      <td>6023.79</td>\n      <td>9522.30</td>\n    </tr>\n    <tr>\n      <th>2010-01-05</th>\n      <td>6287.12</td>\n      <td>10728.72</td>\n    </tr>\n  </tbody>\n</table>\n</div>"
     },
     "execution_count": 2,
     "metadata": {},
     "output_type": "execute_result"
    }
   ],
   "source": [
    "# Import demand dataset\n",
    "demand_df = pd.read_csv('../data/raw/totaldemand_nsw.csv', names=['datetime', 'region', 'demand'], header=0)\n",
    "demand_df['datetime'] = pd.to_datetime(demand_df['datetime'])\n",
    "demand_df = demand_df.resample('D', on='datetime')['demand'].agg(['min', 'max'])\n",
    "demand_df.rename(columns={'min':'demand_min', 'max':'demand_max'}, inplace=True)\n",
    "demand_df.head()"
   ],
   "metadata": {
    "collapsed": false
   }
  },
  {
   "cell_type": "code",
   "execution_count": 3,
   "outputs": [
    {
     "data": {
      "text/plain": "            temp_min  temp_max  temp_mean\ndatetime                                 \n2010-01-01      22.1      28.8  25.094000\n2010-01-02      21.6      29.4  24.765385\n2010-01-03      17.9      21.5  19.429825\n2010-01-04      17.9      23.9  20.625926\n2010-01-05      15.4      27.7  22.660417",
      "text/html": "<div>\n<style scoped>\n    .dataframe tbody tr th:only-of-type {\n        vertical-align: middle;\n    }\n\n    .dataframe tbody tr th {\n        vertical-align: top;\n    }\n\n    .dataframe thead th {\n        text-align: right;\n    }\n</style>\n<table border=\"1\" class=\"dataframe\">\n  <thead>\n    <tr style=\"text-align: right;\">\n      <th></th>\n      <th>temp_min</th>\n      <th>temp_max</th>\n      <th>temp_mean</th>\n    </tr>\n    <tr>\n      <th>datetime</th>\n      <th></th>\n      <th></th>\n      <th></th>\n    </tr>\n  </thead>\n  <tbody>\n    <tr>\n      <th>2010-01-01</th>\n      <td>22.1</td>\n      <td>28.8</td>\n      <td>25.094000</td>\n    </tr>\n    <tr>\n      <th>2010-01-02</th>\n      <td>21.6</td>\n      <td>29.4</td>\n      <td>24.765385</td>\n    </tr>\n    <tr>\n      <th>2010-01-03</th>\n      <td>17.9</td>\n      <td>21.5</td>\n      <td>19.429825</td>\n    </tr>\n    <tr>\n      <th>2010-01-04</th>\n      <td>17.9</td>\n      <td>23.9</td>\n      <td>20.625926</td>\n    </tr>\n    <tr>\n      <th>2010-01-05</th>\n      <td>15.4</td>\n      <td>27.7</td>\n      <td>22.660417</td>\n    </tr>\n  </tbody>\n</table>\n</div>"
     },
     "execution_count": 3,
     "metadata": {},
     "output_type": "execute_result"
    }
   ],
   "source": [
    "# Import temperature data\n",
    "temp_df = pd.read_csv('../data/raw/temperature_nsw.csv', names=['datetime', 'location', 'temp'], header=0)\n",
    "temp_df['datetime'] = pd.to_datetime(temp_df['datetime'])\n",
    "temp_df.drop(temp_df[temp_df['temp'] <= -9999].index, inplace = True)\n",
    "temp_df = temp_df.resample('D', on='datetime')['temp'].agg(['min', 'max', 'mean'])\n",
    "temp_df.rename(columns={'min':'temp_min', 'max':'temp_max', 'mean':'temp_mean'}, inplace=True)\n",
    "temp_df.head()"
   ],
   "metadata": {
    "collapsed": false
   }
  },
  {
   "cell_type": "code",
   "execution_count": 4,
   "outputs": [
    {
     "data": {
      "text/plain": "                 units    cum_units      output   cum_output\ndatetime                                                    \n2008-01-01  127.000000  1882.000000  287.946000  2710.745000\n2008-01-02  128.451613  1887.548387  286.983677  2719.071258\n2008-01-03  129.903226  1893.096774  286.021355  2727.397516\n2008-01-04  131.354839  1898.645161  285.059032  2735.723774\n2008-01-05  132.806452  1904.193548  284.096710  2744.050032",
      "text/html": "<div>\n<style scoped>\n    .dataframe tbody tr th:only-of-type {\n        vertical-align: middle;\n    }\n\n    .dataframe tbody tr th {\n        vertical-align: top;\n    }\n\n    .dataframe thead th {\n        text-align: right;\n    }\n</style>\n<table border=\"1\" class=\"dataframe\">\n  <thead>\n    <tr style=\"text-align: right;\">\n      <th></th>\n      <th>units</th>\n      <th>cum_units</th>\n      <th>output</th>\n      <th>cum_output</th>\n    </tr>\n    <tr>\n      <th>datetime</th>\n      <th></th>\n      <th></th>\n      <th></th>\n      <th></th>\n    </tr>\n  </thead>\n  <tbody>\n    <tr>\n      <th>2008-01-01</th>\n      <td>127.000000</td>\n      <td>1882.000000</td>\n      <td>287.946000</td>\n      <td>2710.745000</td>\n    </tr>\n    <tr>\n      <th>2008-01-02</th>\n      <td>128.451613</td>\n      <td>1887.548387</td>\n      <td>286.983677</td>\n      <td>2719.071258</td>\n    </tr>\n    <tr>\n      <th>2008-01-03</th>\n      <td>129.903226</td>\n      <td>1893.096774</td>\n      <td>286.021355</td>\n      <td>2727.397516</td>\n    </tr>\n    <tr>\n      <th>2008-01-04</th>\n      <td>131.354839</td>\n      <td>1898.645161</td>\n      <td>285.059032</td>\n      <td>2735.723774</td>\n    </tr>\n    <tr>\n      <th>2008-01-05</th>\n      <td>132.806452</td>\n      <td>1904.193548</td>\n      <td>284.096710</td>\n      <td>2744.050032</td>\n    </tr>\n  </tbody>\n</table>\n</div>"
     },
     "execution_count": 4,
     "metadata": {},
     "output_type": "execute_result"
    }
   ],
   "source": [
    "# Import solar data\n",
    "solar_df = pd.read_csv('../data/raw/nsw_residential_solar.csv', names=['datetime', 'units', 'cum_units', 'output', 'cum_output'], header=0)\n",
    "solar_df['datetime'] = pd.to_datetime(solar_df['datetime'])\n",
    "# Interpolate to get daily data\n",
    "solar_df = solar_df.set_index('datetime').resample('D', convention='end').interpolate(method='linear')\n",
    "solar_df.head()"
   ],
   "metadata": {
    "collapsed": false
   }
  },
  {
   "cell_type": "code",
   "execution_count": 5,
   "outputs": [
    {
     "data": {
      "text/plain": "              population\ndatetime                \n2001-01-01  6.530349e+06\n2001-01-02  6.530487e+06\n2001-01-03  6.530625e+06\n2001-01-04  6.530764e+06\n2001-01-05  6.530902e+06",
      "text/html": "<div>\n<style scoped>\n    .dataframe tbody tr th:only-of-type {\n        vertical-align: middle;\n    }\n\n    .dataframe tbody tr th {\n        vertical-align: top;\n    }\n\n    .dataframe thead th {\n        text-align: right;\n    }\n</style>\n<table border=\"1\" class=\"dataframe\">\n  <thead>\n    <tr style=\"text-align: right;\">\n      <th></th>\n      <th>population</th>\n    </tr>\n    <tr>\n      <th>datetime</th>\n      <th></th>\n    </tr>\n  </thead>\n  <tbody>\n    <tr>\n      <th>2001-01-01</th>\n      <td>6.530349e+06</td>\n    </tr>\n    <tr>\n      <th>2001-01-02</th>\n      <td>6.530487e+06</td>\n    </tr>\n    <tr>\n      <th>2001-01-03</th>\n      <td>6.530625e+06</td>\n    </tr>\n    <tr>\n      <th>2001-01-04</th>\n      <td>6.530764e+06</td>\n    </tr>\n    <tr>\n      <th>2001-01-05</th>\n      <td>6.530902e+06</td>\n    </tr>\n  </tbody>\n</table>\n</div>"
     },
     "execution_count": 5,
     "metadata": {},
     "output_type": "execute_result"
    }
   ],
   "source": [
    "# Import population data\n",
    "pop_df = pd.read_csv('../data/raw/NSW_population.csv', usecols=['TIME_PERIOD: Time Period', 'OBS_VALUE'], header=0)\n",
    "pop_df.rename(columns={'TIME_PERIOD: Time Period':'datetime', 'OBS_VALUE':'population'}, inplace=True)\n",
    "pop_df['datetime'] = pd.to_datetime(pop_df['datetime'], format='%Y')\n",
    "pop_df.head()\n",
    "pop_df = pop_df.set_index('datetime').resample('D', convention='start').interpolate(method='linear')\n",
    "pop_df.head()"
   ],
   "metadata": {
    "collapsed": false
   }
  },
  {
   "cell_type": "code",
   "execution_count": 6,
   "outputs": [],
   "source": [
    "# Merge data frames and split into train/test sets. Start with untransformed data then add models with transformations eg sqrt(temp), ln(solar output)"
   ],
   "metadata": {
    "collapsed": false
   }
  },
  {
   "cell_type": "markdown",
   "source": [
    "## Linear Regression Models\n",
    "Now that we have all the data entered, let's build some preliminary linear regression models\n",
    "- untransformed models\n",
    "    - add normalisation\n",
    "- transformed models with normalisation\n",
    "- add in interactions between variables e.g. temp-solaroutput\n",
    "... later look at other ML algorithms and data that could improve model"
   ],
   "metadata": {
    "collapsed": false
   }
  },
  {
   "cell_type": "code",
   "execution_count": 7,
   "outputs": [
    {
     "name": "stderr",
     "output_type": "stream",
     "text": [
      "C:\\Users\\sambo\\anaconda3\\lib\\site-packages\\statsmodels\\tsa\\base\\tsa_model.py:7: FutureWarning: pandas.Int64Index is deprecated and will be removed from pandas in a future version. Use pandas.Index with the appropriate dtype instead.\n",
      "  from pandas import (to_datetime, Int64Index, DatetimeIndex, Period,\n",
      "C:\\Users\\sambo\\anaconda3\\lib\\site-packages\\statsmodels\\tsa\\base\\tsa_model.py:7: FutureWarning: pandas.Float64Index is deprecated and will be removed from pandas in a future version. Use pandas.Index with the appropriate dtype instead.\n",
      "  from pandas import (to_datetime, Int64Index, DatetimeIndex, Period,\n"
     ]
    }
   ],
   "source": [
    "import statsmodels.api as sm\n",
    "import statsmodels.formula.api as smf\n"
   ],
   "metadata": {
    "collapsed": false
   }
  }
 ],
 "metadata": {
  "kernelspec": {
   "display_name": "Python 3",
   "language": "python",
   "name": "python3"
  },
  "language_info": {
   "codemirror_mode": {
    "name": "ipython",
    "version": 2
   },
   "file_extension": ".py",
   "mimetype": "text/x-python",
   "name": "python",
   "nbconvert_exporter": "python",
   "pygments_lexer": "ipython2",
   "version": "2.7.6"
  }
 },
 "nbformat": 4,
 "nbformat_minor": 0
}
