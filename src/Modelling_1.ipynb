{
 "cells": [
  {
   "cell_type": "markdown",
   "source": [
    "# Initial Modelling\n",
    "We are going to make some basic models to predict both Min and Max demands for a day using findings from the EDA phase of the projects.\n",
    "Models will start simple using a few datasets to predict and then get more complex.\n",
    "Models will be using RMSE and MAE to evaluate and compare."
   ],
   "metadata": {
    "collapsed": false
   }
  },
  {
   "cell_type": "code",
   "execution_count": 1,
   "outputs": [],
   "source": [
    "# Import general packages\n",
    "import pandas as pd\n",
    "import numpy as np\n",
    "import matplotlib.pyplot as plt\n",
    "import seaborn as sns\n",
    "from sklearn.metrics import mean_squared_error, mean_absolute_error"
   ],
   "metadata": {
    "collapsed": false
   }
  },
  {
   "cell_type": "markdown",
   "source": [
    "## Load Data and Format for Modelling\n",
    "To begin with we will load in the:\n",
    "- Total Demand Dataset\n",
    "- NSW Temperature Dataset\n",
    "- NSW Residential Solar Data\n",
    "- NSW Population Data\n",
    "\n",
    "Seeing as the Residential Solar Data only goes up to 2020 and Demand Data is only from 2010, when doing the train test split data from 2010-2018 will be used for training, 2019 and 2020 will be used for test. Other data will be discarded for now.\n",
    "\n",
    "Data that have recording interval periods greater than 1 day will be linearly interpolated for now for simplicity."
   ],
   "metadata": {
    "collapsed": false
   }
  },
  {
   "cell_type": "code",
   "execution_count": 2,
   "outputs": [
    {
     "data": {
      "text/plain": "            demand_min  demand_max\ndatetime                          \n2010-01-01     6157.36     8922.42\n2010-01-02     6112.73     9326.64\n2010-01-03     6014.91     8277.85\n2010-01-04     6023.79     9522.30\n2010-01-05     6287.12    10728.72",
      "text/html": "<div>\n<style scoped>\n    .dataframe tbody tr th:only-of-type {\n        vertical-align: middle;\n    }\n\n    .dataframe tbody tr th {\n        vertical-align: top;\n    }\n\n    .dataframe thead th {\n        text-align: right;\n    }\n</style>\n<table border=\"1\" class=\"dataframe\">\n  <thead>\n    <tr style=\"text-align: right;\">\n      <th></th>\n      <th>demand_min</th>\n      <th>demand_max</th>\n    </tr>\n    <tr>\n      <th>datetime</th>\n      <th></th>\n      <th></th>\n    </tr>\n  </thead>\n  <tbody>\n    <tr>\n      <th>2010-01-01</th>\n      <td>6157.36</td>\n      <td>8922.42</td>\n    </tr>\n    <tr>\n      <th>2010-01-02</th>\n      <td>6112.73</td>\n      <td>9326.64</td>\n    </tr>\n    <tr>\n      <th>2010-01-03</th>\n      <td>6014.91</td>\n      <td>8277.85</td>\n    </tr>\n    <tr>\n      <th>2010-01-04</th>\n      <td>6023.79</td>\n      <td>9522.30</td>\n    </tr>\n    <tr>\n      <th>2010-01-05</th>\n      <td>6287.12</td>\n      <td>10728.72</td>\n    </tr>\n  </tbody>\n</table>\n</div>"
     },
     "execution_count": 2,
     "metadata": {},
     "output_type": "execute_result"
    }
   ],
   "source": [
    "# Import demand dataset\n",
    "demand_df = pd.read_csv('../data/raw/totaldemand_nsw.csv', names=['datetime', 'region', 'demand'], header=0)\n",
    "demand_df['datetime'] = pd.to_datetime(demand_df['datetime'])\n",
    "demand_df = demand_df.resample('D', on='datetime')['demand'].agg(['min', 'max'])\n",
    "demand_df.rename(columns={'min':'demand_min', 'max':'demand_max'}, inplace=True)\n",
    "demand_df.head()"
   ],
   "metadata": {
    "collapsed": false
   }
  },
  {
   "cell_type": "code",
   "execution_count": 3,
   "outputs": [
    {
     "data": {
      "text/plain": "            temp_min  temp_max  temp_mean\ndatetime                                 \n2010-01-01      22.1      28.8  25.094000\n2010-01-02      21.6      29.4  24.765385\n2010-01-03      17.9      21.5  19.429825\n2010-01-04      17.9      23.9  20.625926\n2010-01-05      15.4      27.7  22.660417",
      "text/html": "<div>\n<style scoped>\n    .dataframe tbody tr th:only-of-type {\n        vertical-align: middle;\n    }\n\n    .dataframe tbody tr th {\n        vertical-align: top;\n    }\n\n    .dataframe thead th {\n        text-align: right;\n    }\n</style>\n<table border=\"1\" class=\"dataframe\">\n  <thead>\n    <tr style=\"text-align: right;\">\n      <th></th>\n      <th>temp_min</th>\n      <th>temp_max</th>\n      <th>temp_mean</th>\n    </tr>\n    <tr>\n      <th>datetime</th>\n      <th></th>\n      <th></th>\n      <th></th>\n    </tr>\n  </thead>\n  <tbody>\n    <tr>\n      <th>2010-01-01</th>\n      <td>22.1</td>\n      <td>28.8</td>\n      <td>25.094000</td>\n    </tr>\n    <tr>\n      <th>2010-01-02</th>\n      <td>21.6</td>\n      <td>29.4</td>\n      <td>24.765385</td>\n    </tr>\n    <tr>\n      <th>2010-01-03</th>\n      <td>17.9</td>\n      <td>21.5</td>\n      <td>19.429825</td>\n    </tr>\n    <tr>\n      <th>2010-01-04</th>\n      <td>17.9</td>\n      <td>23.9</td>\n      <td>20.625926</td>\n    </tr>\n    <tr>\n      <th>2010-01-05</th>\n      <td>15.4</td>\n      <td>27.7</td>\n      <td>22.660417</td>\n    </tr>\n  </tbody>\n</table>\n</div>"
     },
     "execution_count": 3,
     "metadata": {},
     "output_type": "execute_result"
    }
   ],
   "source": [
    "# Import temperature data\n",
    "temp_df = pd.read_csv('../data/raw/temperature_nsw.csv', names=['datetime', 'location', 'temp'], header=0)\n",
    "temp_df['datetime'] = pd.to_datetime(temp_df['datetime'])\n",
    "temp_df.drop(temp_df[temp_df['temp'] <= -9999].index, inplace = True)\n",
    "temp_df = temp_df.resample('D', on='datetime')['temp'].agg(['min', 'max', 'mean'])\n",
    "temp_df.rename(columns={'min':'temp_min', 'max':'temp_max', 'mean':'temp_mean'}, inplace=True)\n",
    "temp_df.head()"
   ],
   "metadata": {
    "collapsed": false
   }
  },
  {
   "cell_type": "code",
   "execution_count": 4,
   "outputs": [
    {
     "data": {
      "text/plain": "                 units    cum_units      output   cum_output\ndatetime                                                    \n2008-01-01  127.000000  1882.000000  287.946000  2710.745000\n2008-01-02  128.451613  1887.548387  286.983677  2719.071258\n2008-01-03  129.903226  1893.096774  286.021355  2727.397516\n2008-01-04  131.354839  1898.645161  285.059032  2735.723774\n2008-01-05  132.806452  1904.193548  284.096710  2744.050032",
      "text/html": "<div>\n<style scoped>\n    .dataframe tbody tr th:only-of-type {\n        vertical-align: middle;\n    }\n\n    .dataframe tbody tr th {\n        vertical-align: top;\n    }\n\n    .dataframe thead th {\n        text-align: right;\n    }\n</style>\n<table border=\"1\" class=\"dataframe\">\n  <thead>\n    <tr style=\"text-align: right;\">\n      <th></th>\n      <th>units</th>\n      <th>cum_units</th>\n      <th>output</th>\n      <th>cum_output</th>\n    </tr>\n    <tr>\n      <th>datetime</th>\n      <th></th>\n      <th></th>\n      <th></th>\n      <th></th>\n    </tr>\n  </thead>\n  <tbody>\n    <tr>\n      <th>2008-01-01</th>\n      <td>127.000000</td>\n      <td>1882.000000</td>\n      <td>287.946000</td>\n      <td>2710.745000</td>\n    </tr>\n    <tr>\n      <th>2008-01-02</th>\n      <td>128.451613</td>\n      <td>1887.548387</td>\n      <td>286.983677</td>\n      <td>2719.071258</td>\n    </tr>\n    <tr>\n      <th>2008-01-03</th>\n      <td>129.903226</td>\n      <td>1893.096774</td>\n      <td>286.021355</td>\n      <td>2727.397516</td>\n    </tr>\n    <tr>\n      <th>2008-01-04</th>\n      <td>131.354839</td>\n      <td>1898.645161</td>\n      <td>285.059032</td>\n      <td>2735.723774</td>\n    </tr>\n    <tr>\n      <th>2008-01-05</th>\n      <td>132.806452</td>\n      <td>1904.193548</td>\n      <td>284.096710</td>\n      <td>2744.050032</td>\n    </tr>\n  </tbody>\n</table>\n</div>"
     },
     "execution_count": 4,
     "metadata": {},
     "output_type": "execute_result"
    }
   ],
   "source": [
    "# Import solar data\n",
    "solar_df = pd.read_csv('../data/raw/nsw_residential_solar.csv', names=['datetime', 'units', 'cum_units', 'output', 'cum_output'], header=0)\n",
    "solar_df['datetime'] = pd.to_datetime(solar_df['datetime'])\n",
    "# Interpolate to get daily data\n",
    "solar_df = solar_df.set_index('datetime').resample('D', convention='end').interpolate(method='linear')\n",
    "solar_df.head()"
   ],
   "metadata": {
    "collapsed": false
   }
  },
  {
   "cell_type": "code",
   "execution_count": 5,
   "outputs": [
    {
     "data": {
      "text/plain": "              population\ndatetime                \n2001-01-01  6.530349e+06\n2001-01-02  6.530487e+06\n2001-01-03  6.530625e+06\n2001-01-04  6.530764e+06\n2001-01-05  6.530902e+06",
      "text/html": "<div>\n<style scoped>\n    .dataframe tbody tr th:only-of-type {\n        vertical-align: middle;\n    }\n\n    .dataframe tbody tr th {\n        vertical-align: top;\n    }\n\n    .dataframe thead th {\n        text-align: right;\n    }\n</style>\n<table border=\"1\" class=\"dataframe\">\n  <thead>\n    <tr style=\"text-align: right;\">\n      <th></th>\n      <th>population</th>\n    </tr>\n    <tr>\n      <th>datetime</th>\n      <th></th>\n    </tr>\n  </thead>\n  <tbody>\n    <tr>\n      <th>2001-01-01</th>\n      <td>6.530349e+06</td>\n    </tr>\n    <tr>\n      <th>2001-01-02</th>\n      <td>6.530487e+06</td>\n    </tr>\n    <tr>\n      <th>2001-01-03</th>\n      <td>6.530625e+06</td>\n    </tr>\n    <tr>\n      <th>2001-01-04</th>\n      <td>6.530764e+06</td>\n    </tr>\n    <tr>\n      <th>2001-01-05</th>\n      <td>6.530902e+06</td>\n    </tr>\n  </tbody>\n</table>\n</div>"
     },
     "execution_count": 5,
     "metadata": {},
     "output_type": "execute_result"
    }
   ],
   "source": [
    "# Import population data\n",
    "pop_df = pd.read_csv('../data/raw/NSW_population.csv', usecols=['TIME_PERIOD: Time Period', 'OBS_VALUE'], header=0)\n",
    "pop_df.rename(columns={'TIME_PERIOD: Time Period':'datetime', 'OBS_VALUE':'population'}, inplace=True)\n",
    "pop_df['datetime'] = pd.to_datetime(pop_df['datetime'], format='%Y')\n",
    "pop_df.head()\n",
    "pop_df = pop_df.set_index('datetime').resample('D', convention='start').interpolate(method='linear')\n",
    "pop_df.head()"
   ],
   "metadata": {
    "collapsed": false
   }
  },
  {
   "cell_type": "code",
   "execution_count": 6,
   "outputs": [
    {
     "data": {
      "text/plain": "            demand_min  demand_max  temp_min  temp_max  temp_mean  units  \\\ndatetime                                                                   \n2001-01-01         NaN         NaN       NaN       NaN        NaN    NaN   \n2001-01-02         NaN         NaN       NaN       NaN        NaN    NaN   \n2001-01-03         NaN         NaN       NaN       NaN        NaN    NaN   \n2001-01-04         NaN         NaN       NaN       NaN        NaN    NaN   \n2001-01-05         NaN         NaN       NaN       NaN        NaN    NaN   \n\n            cum_units  output  cum_output    population  \ndatetime                                                 \n2001-01-01        NaN     NaN         NaN  6.530349e+06  \n2001-01-02        NaN     NaN         NaN  6.530487e+06  \n2001-01-03        NaN     NaN         NaN  6.530625e+06  \n2001-01-04        NaN     NaN         NaN  6.530764e+06  \n2001-01-05        NaN     NaN         NaN  6.530902e+06  ",
      "text/html": "<div>\n<style scoped>\n    .dataframe tbody tr th:only-of-type {\n        vertical-align: middle;\n    }\n\n    .dataframe tbody tr th {\n        vertical-align: top;\n    }\n\n    .dataframe thead th {\n        text-align: right;\n    }\n</style>\n<table border=\"1\" class=\"dataframe\">\n  <thead>\n    <tr style=\"text-align: right;\">\n      <th></th>\n      <th>demand_min</th>\n      <th>demand_max</th>\n      <th>temp_min</th>\n      <th>temp_max</th>\n      <th>temp_mean</th>\n      <th>units</th>\n      <th>cum_units</th>\n      <th>output</th>\n      <th>cum_output</th>\n      <th>population</th>\n    </tr>\n    <tr>\n      <th>datetime</th>\n      <th></th>\n      <th></th>\n      <th></th>\n      <th></th>\n      <th></th>\n      <th></th>\n      <th></th>\n      <th></th>\n      <th></th>\n      <th></th>\n    </tr>\n  </thead>\n  <tbody>\n    <tr>\n      <th>2001-01-01</th>\n      <td>NaN</td>\n      <td>NaN</td>\n      <td>NaN</td>\n      <td>NaN</td>\n      <td>NaN</td>\n      <td>NaN</td>\n      <td>NaN</td>\n      <td>NaN</td>\n      <td>NaN</td>\n      <td>6.530349e+06</td>\n    </tr>\n    <tr>\n      <th>2001-01-02</th>\n      <td>NaN</td>\n      <td>NaN</td>\n      <td>NaN</td>\n      <td>NaN</td>\n      <td>NaN</td>\n      <td>NaN</td>\n      <td>NaN</td>\n      <td>NaN</td>\n      <td>NaN</td>\n      <td>6.530487e+06</td>\n    </tr>\n    <tr>\n      <th>2001-01-03</th>\n      <td>NaN</td>\n      <td>NaN</td>\n      <td>NaN</td>\n      <td>NaN</td>\n      <td>NaN</td>\n      <td>NaN</td>\n      <td>NaN</td>\n      <td>NaN</td>\n      <td>NaN</td>\n      <td>6.530625e+06</td>\n    </tr>\n    <tr>\n      <th>2001-01-04</th>\n      <td>NaN</td>\n      <td>NaN</td>\n      <td>NaN</td>\n      <td>NaN</td>\n      <td>NaN</td>\n      <td>NaN</td>\n      <td>NaN</td>\n      <td>NaN</td>\n      <td>NaN</td>\n      <td>6.530764e+06</td>\n    </tr>\n    <tr>\n      <th>2001-01-05</th>\n      <td>NaN</td>\n      <td>NaN</td>\n      <td>NaN</td>\n      <td>NaN</td>\n      <td>NaN</td>\n      <td>NaN</td>\n      <td>NaN</td>\n      <td>NaN</td>\n      <td>NaN</td>\n      <td>6.530902e+06</td>\n    </tr>\n  </tbody>\n</table>\n</div>"
     },
     "execution_count": 6,
     "metadata": {},
     "output_type": "execute_result"
    }
   ],
   "source": [
    "# Merge data frames and split into train/test sets. Start with untransformed data then add models with transformations eg sqrt(temp), ln(solar output)\n",
    "full_df = demand_df.merge(temp_df, on='datetime', how='outer')\n",
    "full_df = full_df.merge(solar_df, on='datetime', how='outer')\n",
    "full_df = full_df.merge(pop_df, on='datetime', how='outer')\n",
    "full_df.sort_index(inplace=True)\n",
    "full_df.head()"
   ],
   "metadata": {
    "collapsed": false
   }
  },
  {
   "cell_type": "code",
   "execution_count": 7,
   "outputs": [],
   "source": [
    "# Filter dataframe and split into train-test sets\n",
    "train_mask = (full_df.index >= '2010-01-01') & (full_df.index < '2019-01-01')\n",
    "test_mask = (full_df.index >= '2019-01-01') & (full_df.index < '2020-12-01') # interpolation didn't fill to the end of 2020 for solar_df\n",
    "\n",
    "train_df = full_df[train_mask]\n",
    "test_df = full_df[test_mask]"
   ],
   "metadata": {
    "collapsed": false
   }
  },
  {
   "cell_type": "code",
   "execution_count": 44,
   "outputs": [],
   "source": [
    "# Output bounded full df\n",
    "bounds_mask = (full_df.index >= '2010-01-01') & (full_df.index < '2020-12-01')\n",
    "full_df[bounds_mask].to_csv('../data/raw/all_data.csv')"
   ],
   "metadata": {
    "collapsed": false
   }
  },
  {
   "cell_type": "code",
   "execution_count": 8,
   "outputs": [
    {
     "data": {
      "text/plain": "            demand_min  demand_max  temp_min  temp_max  temp_mean  \\\ndatetime                                                            \n2010-01-01     6157.36     8922.42      22.1      28.8  25.094000   \n2010-01-02     6112.73     9326.64      21.6      29.4  24.765385   \n2010-01-03     6014.91     8277.85      17.9      21.5  19.429825   \n2010-01-04     6023.79     9522.30      17.9      23.9  20.625926   \n2010-01-05     6287.12    10728.72      15.4      27.7  22.660417   \n...                ...         ...       ...       ...        ...   \n2018-12-27     6001.25    11050.31      17.9      32.1  23.083077   \n2018-12-28     6269.06    11347.41      19.0      33.6  26.010417   \n2018-12-29     6306.77    10910.29      18.6      33.9  25.675000   \n2018-12-30     6317.15    10250.37      19.2      35.4  25.783333   \n2018-12-31     6445.07    10718.77      19.9      32.8  24.238095   \n\n                  units      cum_units        output    cum_output  \\\ndatetime                                                             \n2010-01-01  1790.000000   21518.000000   2767.019000  3.036293e+04   \n2010-01-02  1810.677419   21596.419355   2811.171258  3.049634e+04   \n2010-01-03  1831.354839   21674.838710   2855.323516  3.062975e+04   \n2010-01-04  1852.032258   21753.258065   2899.475774  3.076316e+04   \n2010-01-05  1872.709677   21831.677419   2943.628032  3.089657e+04   \n...                 ...            ...           ...           ...   \n2018-12-27  4677.258065  485574.903226  34342.086194  1.972439e+06   \n2018-12-28  4624.806452  485717.322581  33666.076355  1.973437e+06   \n2018-12-29  4572.354839  485859.741935  32990.066516  1.974436e+06   \n2018-12-30  4519.903226  486002.161290  32314.056677  1.975435e+06   \n2018-12-31  4467.451613  486144.580645  31638.046839  1.976434e+06   \n\n              population  \ndatetime                  \n2010-01-01  7.144292e+06  \n2010-01-02  7.144495e+06  \n2010-01-03  7.144699e+06  \n2010-01-04  7.144902e+06  \n2010-01-05  7.145106e+06  \n...                  ...  \n2018-12-27  8.033090e+06  \n2018-12-28  8.033333e+06  \n2018-12-29  8.033576e+06  \n2018-12-30  8.033819e+06  \n2018-12-31  8.034062e+06  \n\n[3287 rows x 10 columns]",
      "text/html": "<div>\n<style scoped>\n    .dataframe tbody tr th:only-of-type {\n        vertical-align: middle;\n    }\n\n    .dataframe tbody tr th {\n        vertical-align: top;\n    }\n\n    .dataframe thead th {\n        text-align: right;\n    }\n</style>\n<table border=\"1\" class=\"dataframe\">\n  <thead>\n    <tr style=\"text-align: right;\">\n      <th></th>\n      <th>demand_min</th>\n      <th>demand_max</th>\n      <th>temp_min</th>\n      <th>temp_max</th>\n      <th>temp_mean</th>\n      <th>units</th>\n      <th>cum_units</th>\n      <th>output</th>\n      <th>cum_output</th>\n      <th>population</th>\n    </tr>\n    <tr>\n      <th>datetime</th>\n      <th></th>\n      <th></th>\n      <th></th>\n      <th></th>\n      <th></th>\n      <th></th>\n      <th></th>\n      <th></th>\n      <th></th>\n      <th></th>\n    </tr>\n  </thead>\n  <tbody>\n    <tr>\n      <th>2010-01-01</th>\n      <td>6157.36</td>\n      <td>8922.42</td>\n      <td>22.1</td>\n      <td>28.8</td>\n      <td>25.094000</td>\n      <td>1790.000000</td>\n      <td>21518.000000</td>\n      <td>2767.019000</td>\n      <td>3.036293e+04</td>\n      <td>7.144292e+06</td>\n    </tr>\n    <tr>\n      <th>2010-01-02</th>\n      <td>6112.73</td>\n      <td>9326.64</td>\n      <td>21.6</td>\n      <td>29.4</td>\n      <td>24.765385</td>\n      <td>1810.677419</td>\n      <td>21596.419355</td>\n      <td>2811.171258</td>\n      <td>3.049634e+04</td>\n      <td>7.144495e+06</td>\n    </tr>\n    <tr>\n      <th>2010-01-03</th>\n      <td>6014.91</td>\n      <td>8277.85</td>\n      <td>17.9</td>\n      <td>21.5</td>\n      <td>19.429825</td>\n      <td>1831.354839</td>\n      <td>21674.838710</td>\n      <td>2855.323516</td>\n      <td>3.062975e+04</td>\n      <td>7.144699e+06</td>\n    </tr>\n    <tr>\n      <th>2010-01-04</th>\n      <td>6023.79</td>\n      <td>9522.30</td>\n      <td>17.9</td>\n      <td>23.9</td>\n      <td>20.625926</td>\n      <td>1852.032258</td>\n      <td>21753.258065</td>\n      <td>2899.475774</td>\n      <td>3.076316e+04</td>\n      <td>7.144902e+06</td>\n    </tr>\n    <tr>\n      <th>2010-01-05</th>\n      <td>6287.12</td>\n      <td>10728.72</td>\n      <td>15.4</td>\n      <td>27.7</td>\n      <td>22.660417</td>\n      <td>1872.709677</td>\n      <td>21831.677419</td>\n      <td>2943.628032</td>\n      <td>3.089657e+04</td>\n      <td>7.145106e+06</td>\n    </tr>\n    <tr>\n      <th>...</th>\n      <td>...</td>\n      <td>...</td>\n      <td>...</td>\n      <td>...</td>\n      <td>...</td>\n      <td>...</td>\n      <td>...</td>\n      <td>...</td>\n      <td>...</td>\n      <td>...</td>\n    </tr>\n    <tr>\n      <th>2018-12-27</th>\n      <td>6001.25</td>\n      <td>11050.31</td>\n      <td>17.9</td>\n      <td>32.1</td>\n      <td>23.083077</td>\n      <td>4677.258065</td>\n      <td>485574.903226</td>\n      <td>34342.086194</td>\n      <td>1.972439e+06</td>\n      <td>8.033090e+06</td>\n    </tr>\n    <tr>\n      <th>2018-12-28</th>\n      <td>6269.06</td>\n      <td>11347.41</td>\n      <td>19.0</td>\n      <td>33.6</td>\n      <td>26.010417</td>\n      <td>4624.806452</td>\n      <td>485717.322581</td>\n      <td>33666.076355</td>\n      <td>1.973437e+06</td>\n      <td>8.033333e+06</td>\n    </tr>\n    <tr>\n      <th>2018-12-29</th>\n      <td>6306.77</td>\n      <td>10910.29</td>\n      <td>18.6</td>\n      <td>33.9</td>\n      <td>25.675000</td>\n      <td>4572.354839</td>\n      <td>485859.741935</td>\n      <td>32990.066516</td>\n      <td>1.974436e+06</td>\n      <td>8.033576e+06</td>\n    </tr>\n    <tr>\n      <th>2018-12-30</th>\n      <td>6317.15</td>\n      <td>10250.37</td>\n      <td>19.2</td>\n      <td>35.4</td>\n      <td>25.783333</td>\n      <td>4519.903226</td>\n      <td>486002.161290</td>\n      <td>32314.056677</td>\n      <td>1.975435e+06</td>\n      <td>8.033819e+06</td>\n    </tr>\n    <tr>\n      <th>2018-12-31</th>\n      <td>6445.07</td>\n      <td>10718.77</td>\n      <td>19.9</td>\n      <td>32.8</td>\n      <td>24.238095</td>\n      <td>4467.451613</td>\n      <td>486144.580645</td>\n      <td>31638.046839</td>\n      <td>1.976434e+06</td>\n      <td>8.034062e+06</td>\n    </tr>\n  </tbody>\n</table>\n<p>3287 rows × 10 columns</p>\n</div>"
     },
     "execution_count": 8,
     "metadata": {},
     "output_type": "execute_result"
    }
   ],
   "source": [
    "train_df"
   ],
   "metadata": {
    "collapsed": false
   }
  },
  {
   "cell_type": "code",
   "execution_count": 9,
   "outputs": [
    {
     "data": {
      "text/plain": "            demand_min  demand_max  temp_min  temp_max  temp_mean  \\\ndatetime                                                            \n2019-01-01     6162.55    10674.41      21.7      32.8  26.456863   \n2019-01-02     6412.74    10978.13      21.3      28.9  23.941667   \n2019-01-03     6487.59    10593.87      21.6      27.2  23.968750   \n2019-01-04     6450.30    11916.46      19.0      29.8  24.429630   \n2019-01-05     6692.19    10882.52      19.3      37.9  23.664865   \n...                ...         ...       ...       ...        ...   \n2020-11-26     6051.38    10871.75      14.8      32.5  22.887500   \n2020-11-27     6152.19    10173.41      18.6      26.3  21.774510   \n2020-11-28     6284.18    12421.83      18.3      40.4  30.079167   \n2020-11-29     6835.45    11955.44      19.7      40.1  28.787500   \n2020-11-30     6074.96     8821.67      18.6      22.6  20.279167   \n\n                   units      cum_units         output    cum_output  \\\ndatetime                                                               \n2019-01-01   4415.000000  486287.000000   30962.037000  1.977433e+06   \n2019-01-02   4460.709677  486475.129032   31341.130548  1.978810e+06   \n2019-01-03   4506.419355  486663.258065   31720.224097  1.980188e+06   \n2019-01-04   4552.129032  486851.387097   32099.317645  1.981566e+06   \n2019-01-05   4597.838710  487039.516129   32478.411194  1.982944e+06   \n...                  ...            ...            ...           ...   \n2020-11-26  11807.666667  677597.833333  110116.752667  3.490182e+06   \n2020-11-27  11792.333333  677988.866667  110417.842533  3.493903e+06   \n2020-11-28  11777.000000  678379.900000  110718.932400  3.497624e+06   \n2020-11-29  11761.666667  678770.933333  111020.022267  3.501344e+06   \n2020-11-30  11746.333333  679161.966667  111321.112133  3.505065e+06   \n\n              population  \ndatetime                  \n2019-01-01  8.034305e+06  \n2019-01-02  8.034469e+06  \n2019-01-03  8.034634e+06  \n2019-01-04  8.034798e+06  \n2019-01-05  8.034963e+06  \n...                  ...  \n2020-11-26  8.093864e+06  \n2020-11-27  8.093863e+06  \n2020-11-28  8.093862e+06  \n2020-11-29  8.093860e+06  \n2020-11-30  8.093859e+06  \n\n[700 rows x 10 columns]",
      "text/html": "<div>\n<style scoped>\n    .dataframe tbody tr th:only-of-type {\n        vertical-align: middle;\n    }\n\n    .dataframe tbody tr th {\n        vertical-align: top;\n    }\n\n    .dataframe thead th {\n        text-align: right;\n    }\n</style>\n<table border=\"1\" class=\"dataframe\">\n  <thead>\n    <tr style=\"text-align: right;\">\n      <th></th>\n      <th>demand_min</th>\n      <th>demand_max</th>\n      <th>temp_min</th>\n      <th>temp_max</th>\n      <th>temp_mean</th>\n      <th>units</th>\n      <th>cum_units</th>\n      <th>output</th>\n      <th>cum_output</th>\n      <th>population</th>\n    </tr>\n    <tr>\n      <th>datetime</th>\n      <th></th>\n      <th></th>\n      <th></th>\n      <th></th>\n      <th></th>\n      <th></th>\n      <th></th>\n      <th></th>\n      <th></th>\n      <th></th>\n    </tr>\n  </thead>\n  <tbody>\n    <tr>\n      <th>2019-01-01</th>\n      <td>6162.55</td>\n      <td>10674.41</td>\n      <td>21.7</td>\n      <td>32.8</td>\n      <td>26.456863</td>\n      <td>4415.000000</td>\n      <td>486287.000000</td>\n      <td>30962.037000</td>\n      <td>1.977433e+06</td>\n      <td>8.034305e+06</td>\n    </tr>\n    <tr>\n      <th>2019-01-02</th>\n      <td>6412.74</td>\n      <td>10978.13</td>\n      <td>21.3</td>\n      <td>28.9</td>\n      <td>23.941667</td>\n      <td>4460.709677</td>\n      <td>486475.129032</td>\n      <td>31341.130548</td>\n      <td>1.978810e+06</td>\n      <td>8.034469e+06</td>\n    </tr>\n    <tr>\n      <th>2019-01-03</th>\n      <td>6487.59</td>\n      <td>10593.87</td>\n      <td>21.6</td>\n      <td>27.2</td>\n      <td>23.968750</td>\n      <td>4506.419355</td>\n      <td>486663.258065</td>\n      <td>31720.224097</td>\n      <td>1.980188e+06</td>\n      <td>8.034634e+06</td>\n    </tr>\n    <tr>\n      <th>2019-01-04</th>\n      <td>6450.30</td>\n      <td>11916.46</td>\n      <td>19.0</td>\n      <td>29.8</td>\n      <td>24.429630</td>\n      <td>4552.129032</td>\n      <td>486851.387097</td>\n      <td>32099.317645</td>\n      <td>1.981566e+06</td>\n      <td>8.034798e+06</td>\n    </tr>\n    <tr>\n      <th>2019-01-05</th>\n      <td>6692.19</td>\n      <td>10882.52</td>\n      <td>19.3</td>\n      <td>37.9</td>\n      <td>23.664865</td>\n      <td>4597.838710</td>\n      <td>487039.516129</td>\n      <td>32478.411194</td>\n      <td>1.982944e+06</td>\n      <td>8.034963e+06</td>\n    </tr>\n    <tr>\n      <th>...</th>\n      <td>...</td>\n      <td>...</td>\n      <td>...</td>\n      <td>...</td>\n      <td>...</td>\n      <td>...</td>\n      <td>...</td>\n      <td>...</td>\n      <td>...</td>\n      <td>...</td>\n    </tr>\n    <tr>\n      <th>2020-11-26</th>\n      <td>6051.38</td>\n      <td>10871.75</td>\n      <td>14.8</td>\n      <td>32.5</td>\n      <td>22.887500</td>\n      <td>11807.666667</td>\n      <td>677597.833333</td>\n      <td>110116.752667</td>\n      <td>3.490182e+06</td>\n      <td>8.093864e+06</td>\n    </tr>\n    <tr>\n      <th>2020-11-27</th>\n      <td>6152.19</td>\n      <td>10173.41</td>\n      <td>18.6</td>\n      <td>26.3</td>\n      <td>21.774510</td>\n      <td>11792.333333</td>\n      <td>677988.866667</td>\n      <td>110417.842533</td>\n      <td>3.493903e+06</td>\n      <td>8.093863e+06</td>\n    </tr>\n    <tr>\n      <th>2020-11-28</th>\n      <td>6284.18</td>\n      <td>12421.83</td>\n      <td>18.3</td>\n      <td>40.4</td>\n      <td>30.079167</td>\n      <td>11777.000000</td>\n      <td>678379.900000</td>\n      <td>110718.932400</td>\n      <td>3.497624e+06</td>\n      <td>8.093862e+06</td>\n    </tr>\n    <tr>\n      <th>2020-11-29</th>\n      <td>6835.45</td>\n      <td>11955.44</td>\n      <td>19.7</td>\n      <td>40.1</td>\n      <td>28.787500</td>\n      <td>11761.666667</td>\n      <td>678770.933333</td>\n      <td>111020.022267</td>\n      <td>3.501344e+06</td>\n      <td>8.093860e+06</td>\n    </tr>\n    <tr>\n      <th>2020-11-30</th>\n      <td>6074.96</td>\n      <td>8821.67</td>\n      <td>18.6</td>\n      <td>22.6</td>\n      <td>20.279167</td>\n      <td>11746.333333</td>\n      <td>679161.966667</td>\n      <td>111321.112133</td>\n      <td>3.505065e+06</td>\n      <td>8.093859e+06</td>\n    </tr>\n  </tbody>\n</table>\n<p>700 rows × 10 columns</p>\n</div>"
     },
     "execution_count": 9,
     "metadata": {},
     "output_type": "execute_result"
    }
   ],
   "source": [
    "test_df"
   ],
   "metadata": {
    "collapsed": false
   }
  },
  {
   "cell_type": "markdown",
   "source": [
    "## Linear Regression Models\n",
    "Now that we have all the data entered, let's build some preliminary linear regression models\n",
    "- untransformed models\n",
    "    - add normalisation\n",
    "- transformed models with normalisation\n",
    "- add in interactions between variables e.g. temp-solaroutput\n",
    "... later look at other ML algorithms and data that could improve model"
   ],
   "metadata": {
    "collapsed": false
   }
  },
  {
   "cell_type": "code",
   "execution_count": 10,
   "outputs": [
    {
     "name": "stderr",
     "output_type": "stream",
     "text": [
      "C:\\Users\\sambo\\anaconda3\\lib\\site-packages\\statsmodels\\tsa\\base\\tsa_model.py:7: FutureWarning: pandas.Int64Index is deprecated and will be removed from pandas in a future version. Use pandas.Index with the appropriate dtype instead.\n",
      "  from pandas import (to_datetime, Int64Index, DatetimeIndex, Period,\n",
      "C:\\Users\\sambo\\anaconda3\\lib\\site-packages\\statsmodels\\tsa\\base\\tsa_model.py:7: FutureWarning: pandas.Float64Index is deprecated and will be removed from pandas in a future version. Use pandas.Index with the appropriate dtype instead.\n",
      "  from pandas import (to_datetime, Int64Index, DatetimeIndex, Period,\n"
     ]
    }
   ],
   "source": [
    "import statsmodels.api as sm\n",
    "import statsmodels.formula.api as smf"
   ],
   "metadata": {
    "collapsed": false
   }
  },
  {
   "cell_type": "code",
   "execution_count": 54,
   "outputs": [],
   "source": [
    "lm1_min = smf.ols('demand_min ~ temp_min + temp_max + np.log(cum_output) + np.log(population)', data = train_df).fit()\n",
    "lm1_max = smf.ols('demand_max ~ temp_min + temp_max + np.log(cum_output) + np.log(population)', data = train_df).fit()"
   ],
   "metadata": {
    "collapsed": false
   }
  },
  {
   "cell_type": "code",
   "execution_count": 55,
   "outputs": [
    {
     "data": {
      "text/plain": "<class 'statsmodels.iolib.summary.Summary'>\n\"\"\"\n                            OLS Regression Results                            \n==============================================================================\nDep. Variable:             demand_min   R-squared:                       0.279\nModel:                            OLS   Adj. R-squared:                  0.278\nMethod:                 Least Squares   F-statistic:                     317.4\nDate:                Sat, 25 Mar 2023   Prob (F-statistic):          4.28e-231\nTime:                        09:45:36   Log-Likelihood:                -24081.\nNo. Observations:                3284   AIC:                         4.817e+04\nDf Residuals:                    3279   BIC:                         4.820e+04\nDf Model:                           4                                         \nCovariance Type:            nonrobust                                         \n======================================================================================\n                         coef    std err          t      P>|t|      [0.025      0.975]\n--------------------------------------------------------------------------------------\nIntercept          -2.873e+04   6136.304     -4.681      0.000   -4.08e+04   -1.67e+04\ntemp_min             -26.6785      1.671    -15.962      0.000     -29.956     -23.401\ntemp_max              -9.7389      1.761     -5.531      0.000     -13.191      -6.287\nnp.log(cum_output)  -257.1365     15.975    -16.096      0.000    -288.458    -225.815\nnp.log(population)  2459.0646    399.516      6.155      0.000    1675.738    3242.391\n==============================================================================\nOmnibus:                      175.582   Durbin-Watson:                   0.366\nProb(Omnibus):                  0.000   Jarque-Bera (JB):              237.209\nSkew:                           0.501   Prob(JB):                     3.09e-52\nKurtosis:                       3.855   Cond. No.                     3.20e+04\n==============================================================================\n\nNotes:\n[1] Standard Errors assume that the covariance matrix of the errors is correctly specified.\n[2] The condition number is large, 3.2e+04. This might indicate that there are\nstrong multicollinearity or other numerical problems.\n\"\"\"",
      "text/html": "<table class=\"simpletable\">\n<caption>OLS Regression Results</caption>\n<tr>\n  <th>Dep. Variable:</th>       <td>demand_min</td>    <th>  R-squared:         </th> <td>   0.279</td> \n</tr>\n<tr>\n  <th>Model:</th>                   <td>OLS</td>       <th>  Adj. R-squared:    </th> <td>   0.278</td> \n</tr>\n<tr>\n  <th>Method:</th>             <td>Least Squares</td>  <th>  F-statistic:       </th> <td>   317.4</td> \n</tr>\n<tr>\n  <th>Date:</th>             <td>Sat, 25 Mar 2023</td> <th>  Prob (F-statistic):</th> <td>4.28e-231</td>\n</tr>\n<tr>\n  <th>Time:</th>                 <td>09:45:36</td>     <th>  Log-Likelihood:    </th> <td> -24081.</td> \n</tr>\n<tr>\n  <th>No. Observations:</th>      <td>  3284</td>      <th>  AIC:               </th> <td>4.817e+04</td>\n</tr>\n<tr>\n  <th>Df Residuals:</th>          <td>  3279</td>      <th>  BIC:               </th> <td>4.820e+04</td>\n</tr>\n<tr>\n  <th>Df Model:</th>              <td>     4</td>      <th>                     </th>     <td> </td>    \n</tr>\n<tr>\n  <th>Covariance Type:</th>      <td>nonrobust</td>    <th>                     </th>     <td> </td>    \n</tr>\n</table>\n<table class=\"simpletable\">\n<tr>\n           <td></td>             <th>coef</th>     <th>std err</th>      <th>t</th>      <th>P>|t|</th>  <th>[0.025</th>    <th>0.975]</th>  \n</tr>\n<tr>\n  <th>Intercept</th>          <td>-2.873e+04</td> <td> 6136.304</td> <td>   -4.681</td> <td> 0.000</td> <td>-4.08e+04</td> <td>-1.67e+04</td>\n</tr>\n<tr>\n  <th>temp_min</th>           <td>  -26.6785</td> <td>    1.671</td> <td>  -15.962</td> <td> 0.000</td> <td>  -29.956</td> <td>  -23.401</td>\n</tr>\n<tr>\n  <th>temp_max</th>           <td>   -9.7389</td> <td>    1.761</td> <td>   -5.531</td> <td> 0.000</td> <td>  -13.191</td> <td>   -6.287</td>\n</tr>\n<tr>\n  <th>np.log(cum_output)</th> <td> -257.1365</td> <td>   15.975</td> <td>  -16.096</td> <td> 0.000</td> <td> -288.458</td> <td> -225.815</td>\n</tr>\n<tr>\n  <th>np.log(population)</th> <td> 2459.0646</td> <td>  399.516</td> <td>    6.155</td> <td> 0.000</td> <td> 1675.738</td> <td> 3242.391</td>\n</tr>\n</table>\n<table class=\"simpletable\">\n<tr>\n  <th>Omnibus:</th>       <td>175.582</td> <th>  Durbin-Watson:     </th> <td>   0.366</td>\n</tr>\n<tr>\n  <th>Prob(Omnibus):</th> <td> 0.000</td>  <th>  Jarque-Bera (JB):  </th> <td> 237.209</td>\n</tr>\n<tr>\n  <th>Skew:</th>          <td> 0.501</td>  <th>  Prob(JB):          </th> <td>3.09e-52</td>\n</tr>\n<tr>\n  <th>Kurtosis:</th>      <td> 3.855</td>  <th>  Cond. No.          </th> <td>3.20e+04</td>\n</tr>\n</table><br/><br/>Notes:<br/>[1] Standard Errors assume that the covariance matrix of the errors is correctly specified.<br/>[2] The condition number is large, 3.2e+04. This might indicate that there are<br/>strong multicollinearity or other numerical problems."
     },
     "execution_count": 55,
     "metadata": {},
     "output_type": "execute_result"
    }
   ],
   "source": [
    "lm1_min.summary()"
   ],
   "metadata": {
    "collapsed": false
   }
  },
  {
   "cell_type": "code",
   "execution_count": 56,
   "outputs": [
    {
     "data": {
      "text/plain": "<class 'statsmodels.iolib.summary.Summary'>\n\"\"\"\n                            OLS Regression Results                            \n==============================================================================\nDep. Variable:             demand_max   R-squared:                       0.142\nModel:                            OLS   Adj. R-squared:                  0.141\nMethod:                 Least Squares   F-statistic:                     136.2\nDate:                Sat, 25 Mar 2023   Prob (F-statistic):          8.61e-108\nTime:                        09:46:08   Log-Likelihood:                -27652.\nNo. Observations:                3284   AIC:                         5.531e+04\nDf Residuals:                    3279   BIC:                         5.534e+04\nDf Model:                           4                                         \nCovariance Type:            nonrobust                                         \n======================================================================================\n                         coef    std err          t      P>|t|      [0.025      0.975]\n--------------------------------------------------------------------------------------\nIntercept          -4.881e+04   1.82e+04     -2.682      0.007   -8.45e+04   -1.31e+04\ntemp_min             -73.7257      4.958    -14.871      0.000     -83.446     -64.006\ntemp_max              25.9312      5.222      4.965      0.000      15.692      36.171\nnp.log(cum_output)  -524.1588     47.384    -11.062      0.000    -617.064    -431.254\nnp.log(population)  4158.2885   1185.024      3.509      0.000    1834.826    6481.751\n==============================================================================\nOmnibus:                      217.439   Durbin-Watson:                   0.506\nProb(Omnibus):                  0.000   Jarque-Bera (JB):              278.677\nSkew:                           0.610   Prob(JB):                     3.06e-61\nKurtosis:                       3.739   Cond. No.                     3.20e+04\n==============================================================================\n\nNotes:\n[1] Standard Errors assume that the covariance matrix of the errors is correctly specified.\n[2] The condition number is large, 3.2e+04. This might indicate that there are\nstrong multicollinearity or other numerical problems.\n\"\"\"",
      "text/html": "<table class=\"simpletable\">\n<caption>OLS Regression Results</caption>\n<tr>\n  <th>Dep. Variable:</th>       <td>demand_max</td>    <th>  R-squared:         </th> <td>   0.142</td> \n</tr>\n<tr>\n  <th>Model:</th>                   <td>OLS</td>       <th>  Adj. R-squared:    </th> <td>   0.141</td> \n</tr>\n<tr>\n  <th>Method:</th>             <td>Least Squares</td>  <th>  F-statistic:       </th> <td>   136.2</td> \n</tr>\n<tr>\n  <th>Date:</th>             <td>Sat, 25 Mar 2023</td> <th>  Prob (F-statistic):</th> <td>8.61e-108</td>\n</tr>\n<tr>\n  <th>Time:</th>                 <td>09:46:08</td>     <th>  Log-Likelihood:    </th> <td> -27652.</td> \n</tr>\n<tr>\n  <th>No. Observations:</th>      <td>  3284</td>      <th>  AIC:               </th> <td>5.531e+04</td>\n</tr>\n<tr>\n  <th>Df Residuals:</th>          <td>  3279</td>      <th>  BIC:               </th> <td>5.534e+04</td>\n</tr>\n<tr>\n  <th>Df Model:</th>              <td>     4</td>      <th>                     </th>     <td> </td>    \n</tr>\n<tr>\n  <th>Covariance Type:</th>      <td>nonrobust</td>    <th>                     </th>     <td> </td>    \n</tr>\n</table>\n<table class=\"simpletable\">\n<tr>\n           <td></td>             <th>coef</th>     <th>std err</th>      <th>t</th>      <th>P>|t|</th>  <th>[0.025</th>    <th>0.975]</th>  \n</tr>\n<tr>\n  <th>Intercept</th>          <td>-4.881e+04</td> <td> 1.82e+04</td> <td>   -2.682</td> <td> 0.007</td> <td>-8.45e+04</td> <td>-1.31e+04</td>\n</tr>\n<tr>\n  <th>temp_min</th>           <td>  -73.7257</td> <td>    4.958</td> <td>  -14.871</td> <td> 0.000</td> <td>  -83.446</td> <td>  -64.006</td>\n</tr>\n<tr>\n  <th>temp_max</th>           <td>   25.9312</td> <td>    5.222</td> <td>    4.965</td> <td> 0.000</td> <td>   15.692</td> <td>   36.171</td>\n</tr>\n<tr>\n  <th>np.log(cum_output)</th> <td> -524.1588</td> <td>   47.384</td> <td>  -11.062</td> <td> 0.000</td> <td> -617.064</td> <td> -431.254</td>\n</tr>\n<tr>\n  <th>np.log(population)</th> <td> 4158.2885</td> <td> 1185.024</td> <td>    3.509</td> <td> 0.000</td> <td> 1834.826</td> <td> 6481.751</td>\n</tr>\n</table>\n<table class=\"simpletable\">\n<tr>\n  <th>Omnibus:</th>       <td>217.439</td> <th>  Durbin-Watson:     </th> <td>   0.506</td>\n</tr>\n<tr>\n  <th>Prob(Omnibus):</th> <td> 0.000</td>  <th>  Jarque-Bera (JB):  </th> <td> 278.677</td>\n</tr>\n<tr>\n  <th>Skew:</th>          <td> 0.610</td>  <th>  Prob(JB):          </th> <td>3.06e-61</td>\n</tr>\n<tr>\n  <th>Kurtosis:</th>      <td> 3.739</td>  <th>  Cond. No.          </th> <td>3.20e+04</td>\n</tr>\n</table><br/><br/>Notes:<br/>[1] Standard Errors assume that the covariance matrix of the errors is correctly specified.<br/>[2] The condition number is large, 3.2e+04. This might indicate that there are<br/>strong multicollinearity or other numerical problems."
     },
     "execution_count": 56,
     "metadata": {},
     "output_type": "execute_result"
    }
   ],
   "source": [
    "lm1_max.summary()"
   ],
   "metadata": {
    "collapsed": false
   }
  },
  {
   "cell_type": "code",
   "execution_count": 60,
   "outputs": [
    {
     "data": {
      "text/plain": "451.56744733747433"
     },
     "execution_count": 60,
     "metadata": {},
     "output_type": "execute_result"
    }
   ],
   "source": [
    "# Calc RMSE for model for min model 1\n",
    "np.sqrt(mean_squared_error(test_df['demand_min'],lm1_min.predict(test_df)))"
   ],
   "metadata": {
    "collapsed": false
   }
  },
  {
   "cell_type": "code",
   "execution_count": 61,
   "outputs": [
    {
     "data": {
      "text/plain": "1256.507859296469"
     },
     "execution_count": 61,
     "metadata": {},
     "output_type": "execute_result"
    }
   ],
   "source": [
    "# Calc RMSE for model for max model 1\n",
    "np.sqrt(mean_squared_error(test_df['demand_max'],lm1_max.predict(test_df)))"
   ],
   "metadata": {
    "collapsed": false
   }
  },
  {
   "cell_type": "code",
   "execution_count": 66,
   "outputs": [
    {
     "name": "stderr",
     "output_type": "stream",
     "text": [
      "C:\\Users\\sambo\\AppData\\Local\\Temp\\ipykernel_9004\\17397179.py:2: SettingWithCopyWarning: \n",
      "A value is trying to be set on a copy of a slice from a DataFrame.\n",
      "Try using .loc[row_indexer,col_indexer] = value instead\n",
      "\n",
      "See the caveats in the documentation: https://pandas.pydata.org/pandas-docs/stable/user_guide/indexing.html#returning-a-view-versus-a-copy\n",
      "  train_df['day'] = train_df.index.to_series().dt.day.values\n",
      "C:\\Users\\sambo\\AppData\\Local\\Temp\\ipykernel_9004\\17397179.py:3: SettingWithCopyWarning: \n",
      "A value is trying to be set on a copy of a slice from a DataFrame.\n",
      "Try using .loc[row_indexer,col_indexer] = value instead\n",
      "\n",
      "See the caveats in the documentation: https://pandas.pydata.org/pandas-docs/stable/user_guide/indexing.html#returning-a-view-versus-a-copy\n",
      "  train_df['month'] = train_df.index.to_series().dt.month.values\n",
      "C:\\Users\\sambo\\AppData\\Local\\Temp\\ipykernel_9004\\17397179.py:4: SettingWithCopyWarning: \n",
      "A value is trying to be set on a copy of a slice from a DataFrame.\n",
      "Try using .loc[row_indexer,col_indexer] = value instead\n",
      "\n",
      "See the caveats in the documentation: https://pandas.pydata.org/pandas-docs/stable/user_guide/indexing.html#returning-a-view-versus-a-copy\n",
      "  train_df['year'] = train_df.index.to_series().dt.year.values\n",
      "C:\\Users\\sambo\\AppData\\Local\\Temp\\ipykernel_9004\\17397179.py:6: SettingWithCopyWarning: \n",
      "A value is trying to be set on a copy of a slice from a DataFrame.\n",
      "Try using .loc[row_indexer,col_indexer] = value instead\n",
      "\n",
      "See the caveats in the documentation: https://pandas.pydata.org/pandas-docs/stable/user_guide/indexing.html#returning-a-view-versus-a-copy\n",
      "  test_df['day'] = test_df.index.to_series().dt.day.values\n",
      "C:\\Users\\sambo\\AppData\\Local\\Temp\\ipykernel_9004\\17397179.py:7: SettingWithCopyWarning: \n",
      "A value is trying to be set on a copy of a slice from a DataFrame.\n",
      "Try using .loc[row_indexer,col_indexer] = value instead\n",
      "\n",
      "See the caveats in the documentation: https://pandas.pydata.org/pandas-docs/stable/user_guide/indexing.html#returning-a-view-versus-a-copy\n",
      "  test_df['month'] = test_df.index.to_series().dt.month.values\n",
      "C:\\Users\\sambo\\AppData\\Local\\Temp\\ipykernel_9004\\17397179.py:8: SettingWithCopyWarning: \n",
      "A value is trying to be set on a copy of a slice from a DataFrame.\n",
      "Try using .loc[row_indexer,col_indexer] = value instead\n",
      "\n",
      "See the caveats in the documentation: https://pandas.pydata.org/pandas-docs/stable/user_guide/indexing.html#returning-a-view-versus-a-copy\n",
      "  test_df['year'] = test_df.index.to_series().dt.year.values\n"
     ]
    }
   ],
   "source": [
    "# Create day/month/year variables\n",
    "train_df['day'] = train_df.index.to_series().dt.day.values\n",
    "train_df['month'] = train_df.index.to_series().dt.month.values\n",
    "train_df['year'] = train_df.index.to_series().dt.year.values\n",
    "\n",
    "test_df['day'] = test_df.index.to_series().dt.day.values\n",
    "test_df['month'] = test_df.index.to_series().dt.month.values\n",
    "test_df['year'] = test_df.index.to_series().dt.year.values"
   ],
   "metadata": {
    "collapsed": false
   }
  },
  {
   "cell_type": "code",
   "execution_count": 62,
   "outputs": [],
   "source": [
    "lm2_min = smf.ols('demand_min ~ (temp_min)*(temp_max) * np.log(cum_output) + np.log(population) + day * month * year', data = train_df).fit()\n",
    "lm2_max = smf.ols('demand_max ~ (temp_min)*(temp_max) * np.log(cum_output) + np.log(population) + day * month * year', data = train_df).fit()"
   ],
   "metadata": {
    "collapsed": false
   }
  },
  {
   "cell_type": "code",
   "execution_count": 63,
   "outputs": [
    {
     "data": {
      "text/plain": "<class 'statsmodels.iolib.summary.Summary'>\n\"\"\"\n                            OLS Regression Results                            \n==============================================================================\nDep. Variable:             demand_min   R-squared:                       0.566\nModel:                            OLS   Adj. R-squared:                  0.564\nMethod:                 Least Squares   F-statistic:                     283.9\nDate:                Sat, 25 Mar 2023   Prob (F-statistic):               0.00\nTime:                        09:55:30   Log-Likelihood:                -23249.\nNo. Observations:                3284   AIC:                         4.653e+04\nDf Residuals:                    3268   BIC:                         4.663e+04\nDf Model:                          15                                         \nCovariance Type:            nonrobust                                         \n========================================================================================================\n                                           coef    std err          t      P>|t|      [0.025      0.975]\n--------------------------------------------------------------------------------------------------------\nIntercept                             1.118e+05   8.11e+04      1.379      0.168   -4.72e+04    2.71e+05\ntemp_min                              -231.8738     66.653     -3.479      0.001    -362.560    -101.187\ntemp_max                              -231.3926     49.419     -4.682      0.000    -328.289    -134.496\ntemp_min:temp_max                        9.5030      2.949      3.222      0.001       3.720      15.286\nnp.log(cum_output)                    -336.0697     75.956     -4.425      0.000    -484.996    -187.144\ntemp_min:np.log(cum_output)              0.6582      4.974      0.132      0.895      -9.093      10.410\ntemp_max:np.log(cum_output)              7.1940      3.680      1.955      0.051      -0.021      14.409\ntemp_min:temp_max:np.log(cum_output)    -0.0436      0.220     -0.198      0.843      -0.475       0.388\nnp.log(population)                    1.071e+04   5667.117      1.890      0.059    -400.227    2.18e+04\nday                                   1480.6355    962.563      1.538      0.124    -406.652    3367.923\nmonth                                  583.9557   2418.611      0.241      0.809   -4158.192    5326.103\nday:month                             -196.4265    129.755     -1.514      0.130    -450.836      57.983\nyear                                  -132.8363     84.269     -1.576      0.115    -298.062      32.389\nday:year                                -0.7325      0.478     -1.533      0.125      -1.670       0.205\nmonth:year                              -0.2955      1.201     -0.246      0.806      -2.649       2.058\nday:month:year                           0.0971      0.064      1.507      0.132      -0.029       0.223\n==============================================================================\nOmnibus:                       18.717   Durbin-Watson:                   0.792\nProb(Omnibus):                  0.000   Jarque-Bera (JB):               21.051\nSkew:                           0.130   Prob(JB):                     2.68e-05\nKurtosis:                       3.293   Cond. No.                     4.39e+09\n==============================================================================\n\nNotes:\n[1] Standard Errors assume that the covariance matrix of the errors is correctly specified.\n[2] The condition number is large, 4.39e+09. This might indicate that there are\nstrong multicollinearity or other numerical problems.\n\"\"\"",
      "text/html": "<table class=\"simpletable\">\n<caption>OLS Regression Results</caption>\n<tr>\n  <th>Dep. Variable:</th>       <td>demand_min</td>    <th>  R-squared:         </th> <td>   0.566</td> \n</tr>\n<tr>\n  <th>Model:</th>                   <td>OLS</td>       <th>  Adj. R-squared:    </th> <td>   0.564</td> \n</tr>\n<tr>\n  <th>Method:</th>             <td>Least Squares</td>  <th>  F-statistic:       </th> <td>   283.9</td> \n</tr>\n<tr>\n  <th>Date:</th>             <td>Sat, 25 Mar 2023</td> <th>  Prob (F-statistic):</th>  <td>  0.00</td>  \n</tr>\n<tr>\n  <th>Time:</th>                 <td>09:55:30</td>     <th>  Log-Likelihood:    </th> <td> -23249.</td> \n</tr>\n<tr>\n  <th>No. Observations:</th>      <td>  3284</td>      <th>  AIC:               </th> <td>4.653e+04</td>\n</tr>\n<tr>\n  <th>Df Residuals:</th>          <td>  3268</td>      <th>  BIC:               </th> <td>4.663e+04</td>\n</tr>\n<tr>\n  <th>Df Model:</th>              <td>    15</td>      <th>                     </th>     <td> </td>    \n</tr>\n<tr>\n  <th>Covariance Type:</th>      <td>nonrobust</td>    <th>                     </th>     <td> </td>    \n</tr>\n</table>\n<table class=\"simpletable\">\n<tr>\n                    <td></td>                      <th>coef</th>     <th>std err</th>      <th>t</th>      <th>P>|t|</th>  <th>[0.025</th>    <th>0.975]</th>  \n</tr>\n<tr>\n  <th>Intercept</th>                            <td> 1.118e+05</td> <td> 8.11e+04</td> <td>    1.379</td> <td> 0.168</td> <td>-4.72e+04</td> <td> 2.71e+05</td>\n</tr>\n<tr>\n  <th>temp_min</th>                             <td> -231.8738</td> <td>   66.653</td> <td>   -3.479</td> <td> 0.001</td> <td> -362.560</td> <td> -101.187</td>\n</tr>\n<tr>\n  <th>temp_max</th>                             <td> -231.3926</td> <td>   49.419</td> <td>   -4.682</td> <td> 0.000</td> <td> -328.289</td> <td> -134.496</td>\n</tr>\n<tr>\n  <th>temp_min:temp_max</th>                    <td>    9.5030</td> <td>    2.949</td> <td>    3.222</td> <td> 0.001</td> <td>    3.720</td> <td>   15.286</td>\n</tr>\n<tr>\n  <th>np.log(cum_output)</th>                   <td> -336.0697</td> <td>   75.956</td> <td>   -4.425</td> <td> 0.000</td> <td> -484.996</td> <td> -187.144</td>\n</tr>\n<tr>\n  <th>temp_min:np.log(cum_output)</th>          <td>    0.6582</td> <td>    4.974</td> <td>    0.132</td> <td> 0.895</td> <td>   -9.093</td> <td>   10.410</td>\n</tr>\n<tr>\n  <th>temp_max:np.log(cum_output)</th>          <td>    7.1940</td> <td>    3.680</td> <td>    1.955</td> <td> 0.051</td> <td>   -0.021</td> <td>   14.409</td>\n</tr>\n<tr>\n  <th>temp_min:temp_max:np.log(cum_output)</th> <td>   -0.0436</td> <td>    0.220</td> <td>   -0.198</td> <td> 0.843</td> <td>   -0.475</td> <td>    0.388</td>\n</tr>\n<tr>\n  <th>np.log(population)</th>                   <td> 1.071e+04</td> <td> 5667.117</td> <td>    1.890</td> <td> 0.059</td> <td> -400.227</td> <td> 2.18e+04</td>\n</tr>\n<tr>\n  <th>day</th>                                  <td> 1480.6355</td> <td>  962.563</td> <td>    1.538</td> <td> 0.124</td> <td> -406.652</td> <td> 3367.923</td>\n</tr>\n<tr>\n  <th>month</th>                                <td>  583.9557</td> <td> 2418.611</td> <td>    0.241</td> <td> 0.809</td> <td>-4158.192</td> <td> 5326.103</td>\n</tr>\n<tr>\n  <th>day:month</th>                            <td> -196.4265</td> <td>  129.755</td> <td>   -1.514</td> <td> 0.130</td> <td> -450.836</td> <td>   57.983</td>\n</tr>\n<tr>\n  <th>year</th>                                 <td> -132.8363</td> <td>   84.269</td> <td>   -1.576</td> <td> 0.115</td> <td> -298.062</td> <td>   32.389</td>\n</tr>\n<tr>\n  <th>day:year</th>                             <td>   -0.7325</td> <td>    0.478</td> <td>   -1.533</td> <td> 0.125</td> <td>   -1.670</td> <td>    0.205</td>\n</tr>\n<tr>\n  <th>month:year</th>                           <td>   -0.2955</td> <td>    1.201</td> <td>   -0.246</td> <td> 0.806</td> <td>   -2.649</td> <td>    2.058</td>\n</tr>\n<tr>\n  <th>day:month:year</th>                       <td>    0.0971</td> <td>    0.064</td> <td>    1.507</td> <td> 0.132</td> <td>   -0.029</td> <td>    0.223</td>\n</tr>\n</table>\n<table class=\"simpletable\">\n<tr>\n  <th>Omnibus:</th>       <td>18.717</td> <th>  Durbin-Watson:     </th> <td>   0.792</td>\n</tr>\n<tr>\n  <th>Prob(Omnibus):</th> <td> 0.000</td> <th>  Jarque-Bera (JB):  </th> <td>  21.051</td>\n</tr>\n<tr>\n  <th>Skew:</th>          <td> 0.130</td> <th>  Prob(JB):          </th> <td>2.68e-05</td>\n</tr>\n<tr>\n  <th>Kurtosis:</th>      <td> 3.293</td> <th>  Cond. No.          </th> <td>4.39e+09</td>\n</tr>\n</table><br/><br/>Notes:<br/>[1] Standard Errors assume that the covariance matrix of the errors is correctly specified.<br/>[2] The condition number is large, 4.39e+09. This might indicate that there are<br/>strong multicollinearity or other numerical problems."
     },
     "execution_count": 63,
     "metadata": {},
     "output_type": "execute_result"
    }
   ],
   "source": [
    "lm2_min.summary()"
   ],
   "metadata": {
    "collapsed": false
   }
  },
  {
   "cell_type": "code",
   "execution_count": 64,
   "outputs": [
    {
     "data": {
      "text/plain": "<class 'statsmodels.iolib.summary.Summary'>\n\"\"\"\n                            OLS Regression Results                            \n==============================================================================\nDep. Variable:             demand_max   R-squared:                       0.617\nModel:                            OLS   Adj. R-squared:                  0.615\nMethod:                 Least Squares   F-statistic:                     350.4\nDate:                Sat, 25 Mar 2023   Prob (F-statistic):               0.00\nTime:                        09:55:42   Log-Likelihood:                -26330.\nNo. Observations:                3284   AIC:                         5.269e+04\nDf Residuals:                    3268   BIC:                         5.279e+04\nDf Model:                          15                                         \nCovariance Type:            nonrobust                                         \n========================================================================================================\n                                           coef    std err          t      P>|t|      [0.025      0.975]\n--------------------------------------------------------------------------------------------------------\nIntercept                             6.683e+05   2.07e+05      3.223      0.001    2.62e+05    1.07e+06\ntemp_min                              -384.7535    170.338     -2.259      0.024    -718.733     -50.774\ntemp_max                              -531.9715    126.295     -4.212      0.000    -779.598    -284.346\ntemp_min:temp_max                       19.6491      7.537      2.607      0.009       4.871      34.427\nnp.log(cum_output)                    -296.0667    194.111     -1.525      0.127    -676.659      84.525\ntemp_min:np.log(cum_output)            -28.1812     12.710     -2.217      0.027     -53.102      -3.260\ntemp_max:np.log(cum_output)              8.9273      9.404      0.949      0.343      -9.510      27.365\ntemp_min:temp_max:np.log(cum_output)     0.8625      0.562      1.535      0.125      -0.239       1.964\nnp.log(population)                    5.008e+04   1.45e+04      3.458      0.001    2.17e+04    7.85e+04\nday                                   3767.6683   2459.905      1.532      0.126   -1055.443    8590.779\nmonth                                  166.0306   6180.950      0.027      0.979    -1.2e+04    1.23e+04\nday:month                             -302.0507    331.599     -0.911      0.362    -952.214     348.113\nyear                                  -713.9217    215.356     -3.315      0.001   -1136.169    -291.675\nday:year                                -1.8652      1.221     -1.527      0.127      -4.260       0.530\nmonth:year                              -0.1226      3.068     -0.040      0.968      -6.138       5.893\nday:month:year                           0.1490      0.165      0.905      0.365      -0.174       0.472\n==============================================================================\nOmnibus:                        4.499   Durbin-Watson:                   0.999\nProb(Omnibus):                  0.105   Jarque-Bera (JB):                4.697\nSkew:                           0.052   Prob(JB):                       0.0955\nKurtosis:                       3.154   Cond. No.                     4.39e+09\n==============================================================================\n\nNotes:\n[1] Standard Errors assume that the covariance matrix of the errors is correctly specified.\n[2] The condition number is large, 4.39e+09. This might indicate that there are\nstrong multicollinearity or other numerical problems.\n\"\"\"",
      "text/html": "<table class=\"simpletable\">\n<caption>OLS Regression Results</caption>\n<tr>\n  <th>Dep. Variable:</th>       <td>demand_max</td>    <th>  R-squared:         </th> <td>   0.617</td> \n</tr>\n<tr>\n  <th>Model:</th>                   <td>OLS</td>       <th>  Adj. R-squared:    </th> <td>   0.615</td> \n</tr>\n<tr>\n  <th>Method:</th>             <td>Least Squares</td>  <th>  F-statistic:       </th> <td>   350.4</td> \n</tr>\n<tr>\n  <th>Date:</th>             <td>Sat, 25 Mar 2023</td> <th>  Prob (F-statistic):</th>  <td>  0.00</td>  \n</tr>\n<tr>\n  <th>Time:</th>                 <td>09:55:42</td>     <th>  Log-Likelihood:    </th> <td> -26330.</td> \n</tr>\n<tr>\n  <th>No. Observations:</th>      <td>  3284</td>      <th>  AIC:               </th> <td>5.269e+04</td>\n</tr>\n<tr>\n  <th>Df Residuals:</th>          <td>  3268</td>      <th>  BIC:               </th> <td>5.279e+04</td>\n</tr>\n<tr>\n  <th>Df Model:</th>              <td>    15</td>      <th>                     </th>     <td> </td>    \n</tr>\n<tr>\n  <th>Covariance Type:</th>      <td>nonrobust</td>    <th>                     </th>     <td> </td>    \n</tr>\n</table>\n<table class=\"simpletable\">\n<tr>\n                    <td></td>                      <th>coef</th>     <th>std err</th>      <th>t</th>      <th>P>|t|</th>  <th>[0.025</th>    <th>0.975]</th>  \n</tr>\n<tr>\n  <th>Intercept</th>                            <td> 6.683e+05</td> <td> 2.07e+05</td> <td>    3.223</td> <td> 0.001</td> <td> 2.62e+05</td> <td> 1.07e+06</td>\n</tr>\n<tr>\n  <th>temp_min</th>                             <td> -384.7535</td> <td>  170.338</td> <td>   -2.259</td> <td> 0.024</td> <td> -718.733</td> <td>  -50.774</td>\n</tr>\n<tr>\n  <th>temp_max</th>                             <td> -531.9715</td> <td>  126.295</td> <td>   -4.212</td> <td> 0.000</td> <td> -779.598</td> <td> -284.346</td>\n</tr>\n<tr>\n  <th>temp_min:temp_max</th>                    <td>   19.6491</td> <td>    7.537</td> <td>    2.607</td> <td> 0.009</td> <td>    4.871</td> <td>   34.427</td>\n</tr>\n<tr>\n  <th>np.log(cum_output)</th>                   <td> -296.0667</td> <td>  194.111</td> <td>   -1.525</td> <td> 0.127</td> <td> -676.659</td> <td>   84.525</td>\n</tr>\n<tr>\n  <th>temp_min:np.log(cum_output)</th>          <td>  -28.1812</td> <td>   12.710</td> <td>   -2.217</td> <td> 0.027</td> <td>  -53.102</td> <td>   -3.260</td>\n</tr>\n<tr>\n  <th>temp_max:np.log(cum_output)</th>          <td>    8.9273</td> <td>    9.404</td> <td>    0.949</td> <td> 0.343</td> <td>   -9.510</td> <td>   27.365</td>\n</tr>\n<tr>\n  <th>temp_min:temp_max:np.log(cum_output)</th> <td>    0.8625</td> <td>    0.562</td> <td>    1.535</td> <td> 0.125</td> <td>   -0.239</td> <td>    1.964</td>\n</tr>\n<tr>\n  <th>np.log(population)</th>                   <td> 5.008e+04</td> <td> 1.45e+04</td> <td>    3.458</td> <td> 0.001</td> <td> 2.17e+04</td> <td> 7.85e+04</td>\n</tr>\n<tr>\n  <th>day</th>                                  <td> 3767.6683</td> <td> 2459.905</td> <td>    1.532</td> <td> 0.126</td> <td>-1055.443</td> <td> 8590.779</td>\n</tr>\n<tr>\n  <th>month</th>                                <td>  166.0306</td> <td> 6180.950</td> <td>    0.027</td> <td> 0.979</td> <td> -1.2e+04</td> <td> 1.23e+04</td>\n</tr>\n<tr>\n  <th>day:month</th>                            <td> -302.0507</td> <td>  331.599</td> <td>   -0.911</td> <td> 0.362</td> <td> -952.214</td> <td>  348.113</td>\n</tr>\n<tr>\n  <th>year</th>                                 <td> -713.9217</td> <td>  215.356</td> <td>   -3.315</td> <td> 0.001</td> <td>-1136.169</td> <td> -291.675</td>\n</tr>\n<tr>\n  <th>day:year</th>                             <td>   -1.8652</td> <td>    1.221</td> <td>   -1.527</td> <td> 0.127</td> <td>   -4.260</td> <td>    0.530</td>\n</tr>\n<tr>\n  <th>month:year</th>                           <td>   -0.1226</td> <td>    3.068</td> <td>   -0.040</td> <td> 0.968</td> <td>   -6.138</td> <td>    5.893</td>\n</tr>\n<tr>\n  <th>day:month:year</th>                       <td>    0.1490</td> <td>    0.165</td> <td>    0.905</td> <td> 0.365</td> <td>   -0.174</td> <td>    0.472</td>\n</tr>\n</table>\n<table class=\"simpletable\">\n<tr>\n  <th>Omnibus:</th>       <td> 4.499</td> <th>  Durbin-Watson:     </th> <td>   0.999</td>\n</tr>\n<tr>\n  <th>Prob(Omnibus):</th> <td> 0.105</td> <th>  Jarque-Bera (JB):  </th> <td>   4.697</td>\n</tr>\n<tr>\n  <th>Skew:</th>          <td> 0.052</td> <th>  Prob(JB):          </th> <td>  0.0955</td>\n</tr>\n<tr>\n  <th>Kurtosis:</th>      <td> 3.154</td> <th>  Cond. No.          </th> <td>4.39e+09</td>\n</tr>\n</table><br/><br/>Notes:<br/>[1] Standard Errors assume that the covariance matrix of the errors is correctly specified.<br/>[2] The condition number is large, 4.39e+09. This might indicate that there are<br/>strong multicollinearity or other numerical problems."
     },
     "execution_count": 64,
     "metadata": {},
     "output_type": "execute_result"
    }
   ],
   "source": [
    "lm2_max.summary()"
   ],
   "metadata": {
    "collapsed": false
   }
  },
  {
   "cell_type": "code",
   "execution_count": 67,
   "outputs": [
    {
     "data": {
      "text/plain": "424.9391030752395"
     },
     "execution_count": 67,
     "metadata": {},
     "output_type": "execute_result"
    }
   ],
   "source": [
    "# Calc RMSE for model for min model 2\n",
    "np.sqrt(mean_squared_error(test_df['demand_min'],lm2_min.predict(test_df)))"
   ],
   "metadata": {
    "collapsed": false
   }
  },
  {
   "cell_type": "code",
   "execution_count": 68,
   "outputs": [
    {
     "data": {
      "text/plain": "1197.1213689273125"
     },
     "execution_count": 68,
     "metadata": {},
     "output_type": "execute_result"
    }
   ],
   "source": [
    "# Calc RMSE for model for max model 2\n",
    "np.sqrt(mean_squared_error(test_df['demand_max'],lm2_max.predict(test_df)))"
   ],
   "metadata": {
    "collapsed": false
   }
  },
  {
   "cell_type": "markdown",
   "source": [
    "We can see a large improvement in the R^2 values in the new model, but little change in the performance of the model in terms of RMSE"
   ],
   "metadata": {
    "collapsed": false
   }
  },
  {
   "cell_type": "code",
   "execution_count": 80,
   "outputs": [],
   "source": [
    "lm3_min = smf.ols('demand_min ~ (temp_min) * I(temp_min**2) * (temp_max) * I(temp_max**2) * np.log(cum_output) + np.log(population) + day * month * year', data = train_df).fit()\n",
    "lm3_max = smf.ols('demand_max ~ (temp_min) * I(temp_min**2) * (temp_max) * I(temp_max**2) * np.log(cum_output) + np.log(population) + day * month * year', data = train_df).fit()"
   ],
   "metadata": {
    "collapsed": false
   }
  },
  {
   "cell_type": "code",
   "execution_count": 81,
   "outputs": [
    {
     "data": {
      "text/plain": "<class 'statsmodels.iolib.summary.Summary'>\n\"\"\"\n                            OLS Regression Results                            \n==============================================================================\nDep. Variable:             demand_min   R-squared:                       0.613\nModel:                            OLS   Adj. R-squared:                  0.608\nMethod:                 Least Squares   F-statistic:                     131.7\nDate:                Sat, 25 Mar 2023   Prob (F-statistic):               0.00\nTime:                        10:13:27   Log-Likelihood:                -23060.\nNo. Observations:                3284   AIC:                         4.620e+04\nDf Residuals:                    3244   BIC:                         4.644e+04\nDf Model:                          39                                         \nCovariance Type:            nonrobust                                         \n==========================================================================================================================================\n                                                                             coef    std err          t      P>|t|      [0.025      0.975]\n------------------------------------------------------------------------------------------------------------------------------------------\nIntercept                                                                2.61e+05    9.2e+04      2.837      0.005    8.07e+04    4.41e+05\ntemp_min                                                               -2.119e+04   1.08e+04     -1.970      0.049   -4.23e+04    -101.748\nI(temp_min ** 2)                                                        1721.1786    833.180      2.066      0.039      87.566    3354.792\ntemp_min:I(temp_min ** 2)                                                -45.0489     22.199     -2.029      0.043     -88.574      -1.524\ntemp_max                                                               -1.648e+04   7628.819     -2.161      0.031   -3.14e+04   -1526.902\ntemp_min:temp_max                                                       3103.1014   1565.806      1.982      0.048      33.032    6173.171\nI(temp_min ** 2):temp_max                                               -233.8287    112.652     -2.076      0.038    -454.706     -12.952\ntemp_min:I(temp_min ** 2):temp_max                                         5.8010      2.791      2.079      0.038       0.329      11.273\nI(temp_max ** 2)                                                         839.0999    390.581      2.148      0.032      73.289    1604.910\ntemp_min:I(temp_max ** 2)                                               -154.5457     75.729     -2.041      0.041    -303.027      -6.064\nI(temp_min ** 2):I(temp_max ** 2)                                         10.8714      5.084      2.138      0.033       0.902      20.840\ntemp_min:I(temp_min ** 2):I(temp_max ** 2)                                -0.2556      0.118     -2.173      0.030      -0.486      -0.025\ntemp_max:I(temp_max ** 2)                                                -14.5855      6.591     -2.213      0.027     -27.509      -1.662\ntemp_min:temp_max:I(temp_max ** 2)                                         2.6565      1.217      2.182      0.029       0.269       5.044\nI(temp_min ** 2):temp_max:I(temp_max ** 2)                                -0.1769      0.077     -2.300      0.021      -0.328      -0.026\ntemp_min:I(temp_min ** 2):temp_max:I(temp_max ** 2)                        0.0040      0.002      2.374      0.018       0.001       0.007\nnp.log(cum_output)                                                     -8935.1335   3666.570     -2.437      0.015   -1.61e+04   -1746.106\ntemp_min:np.log(cum_output)                                             1735.2342    808.039      2.147      0.032     150.916    3319.552\nI(temp_min ** 2):np.log(cum_output)                                     -137.3818     62.993     -2.181      0.029    -260.891     -13.873\ntemp_min:I(temp_min ** 2):np.log(cum_output)                               3.4958      1.684      2.075      0.038       0.193       6.799\ntemp_max:np.log(cum_output)                                             1313.5399    565.717      2.322      0.020     204.341    2422.739\ntemp_min:temp_max:np.log(cum_output)                                    -250.3658    116.756     -2.144      0.032    -479.288     -21.444\nI(temp_min ** 2):temp_max:np.log(cum_output)                              18.4112      8.452      2.178      0.029       1.840      34.982\ntemp_min:I(temp_min ** 2):temp_max:np.log(cum_output)                     -0.4452      0.210     -2.115      0.034      -0.858      -0.033\nI(temp_max ** 2):np.log(cum_output)                                      -66.2797     28.828     -2.299      0.022    -122.802      -9.758\ntemp_min:I(temp_max ** 2):np.log(cum_output)                              12.2600      5.609      2.186      0.029       1.262      23.257\nI(temp_min ** 2):I(temp_max ** 2):np.log(cum_output)                      -0.8457      0.378     -2.235      0.026      -1.588      -0.104\ntemp_min:I(temp_min ** 2):I(temp_max ** 2):np.log(cum_output)              0.0195      0.009      2.212      0.027       0.002       0.037\ntemp_max:I(temp_max ** 2):np.log(cum_output)                               1.1402      0.485      2.352      0.019       0.190       2.091\ntemp_min:temp_max:I(temp_max ** 2):np.log(cum_output)                     -0.2078      0.090     -2.317      0.021      -0.384      -0.032\nI(temp_min ** 2):temp_max:I(temp_max ** 2):np.log(cum_output)              0.0136      0.006      2.401      0.016       0.002       0.025\ntemp_min:I(temp_min ** 2):temp_max:I(temp_max ** 2):np.log(cum_output)    -0.0003      0.000     -2.426      0.015      -0.001   -5.76e-05\nnp.log(population)                                                      1.313e+04   5414.233      2.425      0.015    2516.162    2.37e+04\nday                                                                     1212.3083    919.479      1.318      0.187    -590.509    3015.126\nmonth                                                                  -1144.7755   2314.898     -0.495      0.621   -5683.586    3394.035\nday:month                                                               -146.2260    123.609     -1.183      0.237    -388.585      96.133\nyear                                                                    -173.9852     80.506     -2.161      0.031    -331.833     -16.137\nday:year                                                                  -0.5996      0.457     -1.313      0.189      -1.495       0.296\nmonth:year                                                                 0.5622      1.149      0.489      0.625      -1.691       2.815\nday:month:year                                                             0.0722      0.061      1.176      0.240      -0.048       0.193\n==============================================================================\nOmnibus:                        5.107   Durbin-Watson:                   0.809\nProb(Omnibus):                  0.078   Jarque-Bera (JB):                5.793\nSkew:                           0.009   Prob(JB):                       0.0552\nKurtosis:                       3.205   Cond. No.                     2.74e+13\n==============================================================================\n\nNotes:\n[1] Standard Errors assume that the covariance matrix of the errors is correctly specified.\n[2] The condition number is large, 2.74e+13. This might indicate that there are\nstrong multicollinearity or other numerical problems.\n\"\"\"",
      "text/html": "<table class=\"simpletable\">\n<caption>OLS Regression Results</caption>\n<tr>\n  <th>Dep. Variable:</th>       <td>demand_min</td>    <th>  R-squared:         </th> <td>   0.613</td> \n</tr>\n<tr>\n  <th>Model:</th>                   <td>OLS</td>       <th>  Adj. R-squared:    </th> <td>   0.608</td> \n</tr>\n<tr>\n  <th>Method:</th>             <td>Least Squares</td>  <th>  F-statistic:       </th> <td>   131.7</td> \n</tr>\n<tr>\n  <th>Date:</th>             <td>Sat, 25 Mar 2023</td> <th>  Prob (F-statistic):</th>  <td>  0.00</td>  \n</tr>\n<tr>\n  <th>Time:</th>                 <td>10:13:27</td>     <th>  Log-Likelihood:    </th> <td> -23060.</td> \n</tr>\n<tr>\n  <th>No. Observations:</th>      <td>  3284</td>      <th>  AIC:               </th> <td>4.620e+04</td>\n</tr>\n<tr>\n  <th>Df Residuals:</th>          <td>  3244</td>      <th>  BIC:               </th> <td>4.644e+04</td>\n</tr>\n<tr>\n  <th>Df Model:</th>              <td>    39</td>      <th>                     </th>     <td> </td>    \n</tr>\n<tr>\n  <th>Covariance Type:</th>      <td>nonrobust</td>    <th>                     </th>     <td> </td>    \n</tr>\n</table>\n<table class=\"simpletable\">\n<tr>\n                                     <td></td>                                       <th>coef</th>     <th>std err</th>      <th>t</th>      <th>P>|t|</th>  <th>[0.025</th>    <th>0.975]</th>  \n</tr>\n<tr>\n  <th>Intercept</th>                                                              <td>  2.61e+05</td> <td>  9.2e+04</td> <td>    2.837</td> <td> 0.005</td> <td> 8.07e+04</td> <td> 4.41e+05</td>\n</tr>\n<tr>\n  <th>temp_min</th>                                                               <td>-2.119e+04</td> <td> 1.08e+04</td> <td>   -1.970</td> <td> 0.049</td> <td>-4.23e+04</td> <td> -101.748</td>\n</tr>\n<tr>\n  <th>I(temp_min ** 2)</th>                                                       <td> 1721.1786</td> <td>  833.180</td> <td>    2.066</td> <td> 0.039</td> <td>   87.566</td> <td> 3354.792</td>\n</tr>\n<tr>\n  <th>temp_min:I(temp_min ** 2)</th>                                              <td>  -45.0489</td> <td>   22.199</td> <td>   -2.029</td> <td> 0.043</td> <td>  -88.574</td> <td>   -1.524</td>\n</tr>\n<tr>\n  <th>temp_max</th>                                                               <td>-1.648e+04</td> <td> 7628.819</td> <td>   -2.161</td> <td> 0.031</td> <td>-3.14e+04</td> <td>-1526.902</td>\n</tr>\n<tr>\n  <th>temp_min:temp_max</th>                                                      <td> 3103.1014</td> <td> 1565.806</td> <td>    1.982</td> <td> 0.048</td> <td>   33.032</td> <td> 6173.171</td>\n</tr>\n<tr>\n  <th>I(temp_min ** 2):temp_max</th>                                              <td> -233.8287</td> <td>  112.652</td> <td>   -2.076</td> <td> 0.038</td> <td> -454.706</td> <td>  -12.952</td>\n</tr>\n<tr>\n  <th>temp_min:I(temp_min ** 2):temp_max</th>                                     <td>    5.8010</td> <td>    2.791</td> <td>    2.079</td> <td> 0.038</td> <td>    0.329</td> <td>   11.273</td>\n</tr>\n<tr>\n  <th>I(temp_max ** 2)</th>                                                       <td>  839.0999</td> <td>  390.581</td> <td>    2.148</td> <td> 0.032</td> <td>   73.289</td> <td> 1604.910</td>\n</tr>\n<tr>\n  <th>temp_min:I(temp_max ** 2)</th>                                              <td> -154.5457</td> <td>   75.729</td> <td>   -2.041</td> <td> 0.041</td> <td> -303.027</td> <td>   -6.064</td>\n</tr>\n<tr>\n  <th>I(temp_min ** 2):I(temp_max ** 2)</th>                                      <td>   10.8714</td> <td>    5.084</td> <td>    2.138</td> <td> 0.033</td> <td>    0.902</td> <td>   20.840</td>\n</tr>\n<tr>\n  <th>temp_min:I(temp_min ** 2):I(temp_max ** 2)</th>                             <td>   -0.2556</td> <td>    0.118</td> <td>   -2.173</td> <td> 0.030</td> <td>   -0.486</td> <td>   -0.025</td>\n</tr>\n<tr>\n  <th>temp_max:I(temp_max ** 2)</th>                                              <td>  -14.5855</td> <td>    6.591</td> <td>   -2.213</td> <td> 0.027</td> <td>  -27.509</td> <td>   -1.662</td>\n</tr>\n<tr>\n  <th>temp_min:temp_max:I(temp_max ** 2)</th>                                     <td>    2.6565</td> <td>    1.217</td> <td>    2.182</td> <td> 0.029</td> <td>    0.269</td> <td>    5.044</td>\n</tr>\n<tr>\n  <th>I(temp_min ** 2):temp_max:I(temp_max ** 2)</th>                             <td>   -0.1769</td> <td>    0.077</td> <td>   -2.300</td> <td> 0.021</td> <td>   -0.328</td> <td>   -0.026</td>\n</tr>\n<tr>\n  <th>temp_min:I(temp_min ** 2):temp_max:I(temp_max ** 2)</th>                    <td>    0.0040</td> <td>    0.002</td> <td>    2.374</td> <td> 0.018</td> <td>    0.001</td> <td>    0.007</td>\n</tr>\n<tr>\n  <th>np.log(cum_output)</th>                                                     <td>-8935.1335</td> <td> 3666.570</td> <td>   -2.437</td> <td> 0.015</td> <td>-1.61e+04</td> <td>-1746.106</td>\n</tr>\n<tr>\n  <th>temp_min:np.log(cum_output)</th>                                            <td> 1735.2342</td> <td>  808.039</td> <td>    2.147</td> <td> 0.032</td> <td>  150.916</td> <td> 3319.552</td>\n</tr>\n<tr>\n  <th>I(temp_min ** 2):np.log(cum_output)</th>                                    <td> -137.3818</td> <td>   62.993</td> <td>   -2.181</td> <td> 0.029</td> <td> -260.891</td> <td>  -13.873</td>\n</tr>\n<tr>\n  <th>temp_min:I(temp_min ** 2):np.log(cum_output)</th>                           <td>    3.4958</td> <td>    1.684</td> <td>    2.075</td> <td> 0.038</td> <td>    0.193</td> <td>    6.799</td>\n</tr>\n<tr>\n  <th>temp_max:np.log(cum_output)</th>                                            <td> 1313.5399</td> <td>  565.717</td> <td>    2.322</td> <td> 0.020</td> <td>  204.341</td> <td> 2422.739</td>\n</tr>\n<tr>\n  <th>temp_min:temp_max:np.log(cum_output)</th>                                   <td> -250.3658</td> <td>  116.756</td> <td>   -2.144</td> <td> 0.032</td> <td> -479.288</td> <td>  -21.444</td>\n</tr>\n<tr>\n  <th>I(temp_min ** 2):temp_max:np.log(cum_output)</th>                           <td>   18.4112</td> <td>    8.452</td> <td>    2.178</td> <td> 0.029</td> <td>    1.840</td> <td>   34.982</td>\n</tr>\n<tr>\n  <th>temp_min:I(temp_min ** 2):temp_max:np.log(cum_output)</th>                  <td>   -0.4452</td> <td>    0.210</td> <td>   -2.115</td> <td> 0.034</td> <td>   -0.858</td> <td>   -0.033</td>\n</tr>\n<tr>\n  <th>I(temp_max ** 2):np.log(cum_output)</th>                                    <td>  -66.2797</td> <td>   28.828</td> <td>   -2.299</td> <td> 0.022</td> <td> -122.802</td> <td>   -9.758</td>\n</tr>\n<tr>\n  <th>temp_min:I(temp_max ** 2):np.log(cum_output)</th>                           <td>   12.2600</td> <td>    5.609</td> <td>    2.186</td> <td> 0.029</td> <td>    1.262</td> <td>   23.257</td>\n</tr>\n<tr>\n  <th>I(temp_min ** 2):I(temp_max ** 2):np.log(cum_output)</th>                   <td>   -0.8457</td> <td>    0.378</td> <td>   -2.235</td> <td> 0.026</td> <td>   -1.588</td> <td>   -0.104</td>\n</tr>\n<tr>\n  <th>temp_min:I(temp_min ** 2):I(temp_max ** 2):np.log(cum_output)</th>          <td>    0.0195</td> <td>    0.009</td> <td>    2.212</td> <td> 0.027</td> <td>    0.002</td> <td>    0.037</td>\n</tr>\n<tr>\n  <th>temp_max:I(temp_max ** 2):np.log(cum_output)</th>                           <td>    1.1402</td> <td>    0.485</td> <td>    2.352</td> <td> 0.019</td> <td>    0.190</td> <td>    2.091</td>\n</tr>\n<tr>\n  <th>temp_min:temp_max:I(temp_max ** 2):np.log(cum_output)</th>                  <td>   -0.2078</td> <td>    0.090</td> <td>   -2.317</td> <td> 0.021</td> <td>   -0.384</td> <td>   -0.032</td>\n</tr>\n<tr>\n  <th>I(temp_min ** 2):temp_max:I(temp_max ** 2):np.log(cum_output)</th>          <td>    0.0136</td> <td>    0.006</td> <td>    2.401</td> <td> 0.016</td> <td>    0.002</td> <td>    0.025</td>\n</tr>\n<tr>\n  <th>temp_min:I(temp_min ** 2):temp_max:I(temp_max ** 2):np.log(cum_output)</th> <td>   -0.0003</td> <td>    0.000</td> <td>   -2.426</td> <td> 0.015</td> <td>   -0.001</td> <td>-5.76e-05</td>\n</tr>\n<tr>\n  <th>np.log(population)</th>                                                     <td> 1.313e+04</td> <td> 5414.233</td> <td>    2.425</td> <td> 0.015</td> <td> 2516.162</td> <td> 2.37e+04</td>\n</tr>\n<tr>\n  <th>day</th>                                                                    <td> 1212.3083</td> <td>  919.479</td> <td>    1.318</td> <td> 0.187</td> <td> -590.509</td> <td> 3015.126</td>\n</tr>\n<tr>\n  <th>month</th>                                                                  <td>-1144.7755</td> <td> 2314.898</td> <td>   -0.495</td> <td> 0.621</td> <td>-5683.586</td> <td> 3394.035</td>\n</tr>\n<tr>\n  <th>day:month</th>                                                              <td> -146.2260</td> <td>  123.609</td> <td>   -1.183</td> <td> 0.237</td> <td> -388.585</td> <td>   96.133</td>\n</tr>\n<tr>\n  <th>year</th>                                                                   <td> -173.9852</td> <td>   80.506</td> <td>   -2.161</td> <td> 0.031</td> <td> -331.833</td> <td>  -16.137</td>\n</tr>\n<tr>\n  <th>day:year</th>                                                               <td>   -0.5996</td> <td>    0.457</td> <td>   -1.313</td> <td> 0.189</td> <td>   -1.495</td> <td>    0.296</td>\n</tr>\n<tr>\n  <th>month:year</th>                                                             <td>    0.5622</td> <td>    1.149</td> <td>    0.489</td> <td> 0.625</td> <td>   -1.691</td> <td>    2.815</td>\n</tr>\n<tr>\n  <th>day:month:year</th>                                                         <td>    0.0722</td> <td>    0.061</td> <td>    1.176</td> <td> 0.240</td> <td>   -0.048</td> <td>    0.193</td>\n</tr>\n</table>\n<table class=\"simpletable\">\n<tr>\n  <th>Omnibus:</th>       <td> 5.107</td> <th>  Durbin-Watson:     </th> <td>   0.809</td>\n</tr>\n<tr>\n  <th>Prob(Omnibus):</th> <td> 0.078</td> <th>  Jarque-Bera (JB):  </th> <td>   5.793</td>\n</tr>\n<tr>\n  <th>Skew:</th>          <td> 0.009</td> <th>  Prob(JB):          </th> <td>  0.0552</td>\n</tr>\n<tr>\n  <th>Kurtosis:</th>      <td> 3.205</td> <th>  Cond. No.          </th> <td>2.74e+13</td>\n</tr>\n</table><br/><br/>Notes:<br/>[1] Standard Errors assume that the covariance matrix of the errors is correctly specified.<br/>[2] The condition number is large, 2.74e+13. This might indicate that there are<br/>strong multicollinearity or other numerical problems."
     },
     "execution_count": 81,
     "metadata": {},
     "output_type": "execute_result"
    }
   ],
   "source": [
    "lm3_min.summary()"
   ],
   "metadata": {
    "collapsed": false
   }
  },
  {
   "cell_type": "code",
   "execution_count": 75,
   "outputs": [
    {
     "data": {
      "text/plain": "<class 'statsmodels.iolib.summary.Summary'>\n\"\"\"\n                            OLS Regression Results                            \n==============================================================================\nDep. Variable:             demand_max   R-squared:                       0.667\nModel:                            OLS   Adj. R-squared:                  0.663\nMethod:                 Least Squares   F-statistic:                     166.4\nDate:                Sat, 25 Mar 2023   Prob (F-statistic):               0.00\nTime:                        10:08:03   Log-Likelihood:                -26100.\nNo. Observations:                3284   AIC:                         5.228e+04\nDf Residuals:                    3244   BIC:                         5.252e+04\nDf Model:                          39                                         \nCovariance Type:            nonrobust                                         \n==========================================================================================================================================\n                                                                             coef    std err          t      P>|t|      [0.025      0.975]\n------------------------------------------------------------------------------------------------------------------------------------------\nIntercept                                                               7.351e+05   2.32e+05      3.166      0.002     2.8e+05    1.19e+06\ntemp_min                                                                1.385e+04   2.71e+04      0.510      0.610   -3.94e+04    6.71e+04\nI(temp_min ** 2)                                                       -1738.3624   2102.596     -0.827      0.408   -5860.912    2384.187\ntemp_min:I(temp_min ** 2)                                                 65.1079     56.021      1.162      0.245     -44.731     174.947\ntemp_max                                                                3838.6920   1.93e+04      0.199      0.842   -3.39e+04    4.16e+04\ntemp_min:temp_max                                                      -2005.3678   3951.434     -0.508      0.612   -9752.926    5742.191\nI(temp_min ** 2):temp_max                                                230.6877    284.287      0.811      0.417    -326.713     788.089\ntemp_min:I(temp_min ** 2):temp_max                                        -8.1187      7.043     -1.153      0.249     -21.928       5.690\nI(temp_max ** 2)                                                        -219.6297    985.662     -0.223      0.824   -2152.212    1712.953\ntemp_min:I(temp_max ** 2)                                                 86.2985    191.108      0.452      0.652    -288.407     461.004\nI(temp_min ** 2):I(temp_max ** 2)                                         -9.2630     12.831     -0.722      0.470     -34.420      15.894\ntemp_min:I(temp_min ** 2):I(temp_max ** 2)                                 0.3115      0.297      1.049      0.294      -0.271       0.894\ntemp_max:I(temp_max ** 2)                                                  3.2269     16.634      0.194      0.846     -29.388      35.841\ntemp_min:temp_max:I(temp_max ** 2)                                        -1.0589      3.072     -0.345      0.730      -7.083       4.965\nI(temp_min ** 2):temp_max:I(temp_max ** 2)                                 0.1084      0.194      0.558      0.577      -0.272       0.489\ntemp_min:I(temp_min ** 2):temp_max:I(temp_max ** 2)                       -0.0036      0.004     -0.848      0.396      -0.012       0.005\nnp.log(cum_output)                                                       634.3617   9252.875      0.069      0.945   -1.75e+04    1.88e+04\ntemp_min:np.log(cum_output)                                             -906.0299   2039.148     -0.444      0.657   -4904.179    3092.119\nI(temp_min ** 2):np.log(cum_output)                                      134.7984    158.967      0.848      0.397    -176.887     446.484\ntemp_min:I(temp_min ** 2):np.log(cum_output)                              -5.3597      4.251     -1.261      0.207     -13.695       2.975\ntemp_max:np.log(cum_output)                                             -210.4626   1427.631     -0.147      0.883   -3009.613    2588.688\ntemp_min:temp_max:np.log(cum_output)                                     132.4125    294.642      0.449      0.653    -445.290     710.115\nI(temp_min ** 2):temp_max:np.log(cum_output)                             -17.7680     21.328     -0.833      0.405     -59.586      24.050\ntemp_min:I(temp_min ** 2):temp_max:np.log(cum_output)                      0.6596      0.531      1.242      0.214      -0.382       1.701\nI(temp_max ** 2):np.log(cum_output)                                       12.3728     72.749      0.170      0.865    -130.265     155.011\ntemp_min:I(temp_max ** 2):np.log(cum_output)                              -5.7538     14.155     -0.406      0.684     -33.507      21.999\nI(temp_min ** 2):I(temp_max ** 2):np.log(cum_output)                       0.7096      0.955      0.743      0.458      -1.163       2.582\ntemp_min:I(temp_min ** 2):I(temp_max ** 2):np.log(cum_output)             -0.0251      0.022     -1.128      0.260      -0.069       0.019\ntemp_max:I(temp_max ** 2):np.log(cum_output)                              -0.1809      1.223     -0.148      0.882      -2.580       2.218\ntemp_min:temp_max:I(temp_max ** 2):np.log(cum_output)                      0.0699      0.226      0.309      0.758      -0.374       0.514\nI(temp_min ** 2):temp_max:I(temp_max ** 2):np.log(cum_output)             -0.0082      0.014     -0.573      0.567      -0.036       0.020\ntemp_min:I(temp_min ** 2):temp_max:I(temp_max ** 2):np.log(cum_output)     0.0003      0.000      0.911      0.363      -0.000       0.001\nnp.log(population)                                                      5.617e+04   1.37e+04      4.111      0.000    2.94e+04     8.3e+04\nday                                                                     2812.6363   2320.376      1.212      0.226   -1736.914    7362.187\nmonth                                                                  -2537.8858   5841.826     -0.434      0.664    -1.4e+04    8916.156\nday:month                                                               -220.0523    311.936     -0.705      0.481    -831.663     391.559\nyear                                                                    -807.6775    203.164     -3.976      0.000   -1206.020    -409.335\nday:year                                                                  -1.3926      1.152     -1.209      0.227      -3.652       0.866\nmonth:year                                                                 1.2104      2.900      0.417      0.676      -4.475       6.896\nday:month:year                                                             0.1085      0.155      0.701      0.484      -0.195       0.412\n==============================================================================\nOmnibus:                       17.858   Durbin-Watson:                   1.043\nProb(Omnibus):                  0.000   Jarque-Bera (JB):               17.987\nSkew:                          -0.179   Prob(JB):                     0.000124\nKurtosis:                       3.056   Cond. No.                     2.74e+13\n==============================================================================\n\nNotes:\n[1] Standard Errors assume that the covariance matrix of the errors is correctly specified.\n[2] The condition number is large, 2.74e+13. This might indicate that there are\nstrong multicollinearity or other numerical problems.\n\"\"\"",
      "text/html": "<table class=\"simpletable\">\n<caption>OLS Regression Results</caption>\n<tr>\n  <th>Dep. Variable:</th>       <td>demand_max</td>    <th>  R-squared:         </th> <td>   0.667</td> \n</tr>\n<tr>\n  <th>Model:</th>                   <td>OLS</td>       <th>  Adj. R-squared:    </th> <td>   0.663</td> \n</tr>\n<tr>\n  <th>Method:</th>             <td>Least Squares</td>  <th>  F-statistic:       </th> <td>   166.4</td> \n</tr>\n<tr>\n  <th>Date:</th>             <td>Sat, 25 Mar 2023</td> <th>  Prob (F-statistic):</th>  <td>  0.00</td>  \n</tr>\n<tr>\n  <th>Time:</th>                 <td>10:08:03</td>     <th>  Log-Likelihood:    </th> <td> -26100.</td> \n</tr>\n<tr>\n  <th>No. Observations:</th>      <td>  3284</td>      <th>  AIC:               </th> <td>5.228e+04</td>\n</tr>\n<tr>\n  <th>Df Residuals:</th>          <td>  3244</td>      <th>  BIC:               </th> <td>5.252e+04</td>\n</tr>\n<tr>\n  <th>Df Model:</th>              <td>    39</td>      <th>                     </th>     <td> </td>    \n</tr>\n<tr>\n  <th>Covariance Type:</th>      <td>nonrobust</td>    <th>                     </th>     <td> </td>    \n</tr>\n</table>\n<table class=\"simpletable\">\n<tr>\n                                     <td></td>                                       <th>coef</th>     <th>std err</th>      <th>t</th>      <th>P>|t|</th>  <th>[0.025</th>    <th>0.975]</th>  \n</tr>\n<tr>\n  <th>Intercept</th>                                                              <td> 7.351e+05</td> <td> 2.32e+05</td> <td>    3.166</td> <td> 0.002</td> <td>  2.8e+05</td> <td> 1.19e+06</td>\n</tr>\n<tr>\n  <th>temp_min</th>                                                               <td> 1.385e+04</td> <td> 2.71e+04</td> <td>    0.510</td> <td> 0.610</td> <td>-3.94e+04</td> <td> 6.71e+04</td>\n</tr>\n<tr>\n  <th>I(temp_min ** 2)</th>                                                       <td>-1738.3624</td> <td> 2102.596</td> <td>   -0.827</td> <td> 0.408</td> <td>-5860.912</td> <td> 2384.187</td>\n</tr>\n<tr>\n  <th>temp_min:I(temp_min ** 2)</th>                                              <td>   65.1079</td> <td>   56.021</td> <td>    1.162</td> <td> 0.245</td> <td>  -44.731</td> <td>  174.947</td>\n</tr>\n<tr>\n  <th>temp_max</th>                                                               <td> 3838.6920</td> <td> 1.93e+04</td> <td>    0.199</td> <td> 0.842</td> <td>-3.39e+04</td> <td> 4.16e+04</td>\n</tr>\n<tr>\n  <th>temp_min:temp_max</th>                                                      <td>-2005.3678</td> <td> 3951.434</td> <td>   -0.508</td> <td> 0.612</td> <td>-9752.926</td> <td> 5742.191</td>\n</tr>\n<tr>\n  <th>I(temp_min ** 2):temp_max</th>                                              <td>  230.6877</td> <td>  284.287</td> <td>    0.811</td> <td> 0.417</td> <td> -326.713</td> <td>  788.089</td>\n</tr>\n<tr>\n  <th>temp_min:I(temp_min ** 2):temp_max</th>                                     <td>   -8.1187</td> <td>    7.043</td> <td>   -1.153</td> <td> 0.249</td> <td>  -21.928</td> <td>    5.690</td>\n</tr>\n<tr>\n  <th>I(temp_max ** 2)</th>                                                       <td> -219.6297</td> <td>  985.662</td> <td>   -0.223</td> <td> 0.824</td> <td>-2152.212</td> <td> 1712.953</td>\n</tr>\n<tr>\n  <th>temp_min:I(temp_max ** 2)</th>                                              <td>   86.2985</td> <td>  191.108</td> <td>    0.452</td> <td> 0.652</td> <td> -288.407</td> <td>  461.004</td>\n</tr>\n<tr>\n  <th>I(temp_min ** 2):I(temp_max ** 2)</th>                                      <td>   -9.2630</td> <td>   12.831</td> <td>   -0.722</td> <td> 0.470</td> <td>  -34.420</td> <td>   15.894</td>\n</tr>\n<tr>\n  <th>temp_min:I(temp_min ** 2):I(temp_max ** 2)</th>                             <td>    0.3115</td> <td>    0.297</td> <td>    1.049</td> <td> 0.294</td> <td>   -0.271</td> <td>    0.894</td>\n</tr>\n<tr>\n  <th>temp_max:I(temp_max ** 2)</th>                                              <td>    3.2269</td> <td>   16.634</td> <td>    0.194</td> <td> 0.846</td> <td>  -29.388</td> <td>   35.841</td>\n</tr>\n<tr>\n  <th>temp_min:temp_max:I(temp_max ** 2)</th>                                     <td>   -1.0589</td> <td>    3.072</td> <td>   -0.345</td> <td> 0.730</td> <td>   -7.083</td> <td>    4.965</td>\n</tr>\n<tr>\n  <th>I(temp_min ** 2):temp_max:I(temp_max ** 2)</th>                             <td>    0.1084</td> <td>    0.194</td> <td>    0.558</td> <td> 0.577</td> <td>   -0.272</td> <td>    0.489</td>\n</tr>\n<tr>\n  <th>temp_min:I(temp_min ** 2):temp_max:I(temp_max ** 2)</th>                    <td>   -0.0036</td> <td>    0.004</td> <td>   -0.848</td> <td> 0.396</td> <td>   -0.012</td> <td>    0.005</td>\n</tr>\n<tr>\n  <th>np.log(cum_output)</th>                                                     <td>  634.3617</td> <td> 9252.875</td> <td>    0.069</td> <td> 0.945</td> <td>-1.75e+04</td> <td> 1.88e+04</td>\n</tr>\n<tr>\n  <th>temp_min:np.log(cum_output)</th>                                            <td> -906.0299</td> <td> 2039.148</td> <td>   -0.444</td> <td> 0.657</td> <td>-4904.179</td> <td> 3092.119</td>\n</tr>\n<tr>\n  <th>I(temp_min ** 2):np.log(cum_output)</th>                                    <td>  134.7984</td> <td>  158.967</td> <td>    0.848</td> <td> 0.397</td> <td> -176.887</td> <td>  446.484</td>\n</tr>\n<tr>\n  <th>temp_min:I(temp_min ** 2):np.log(cum_output)</th>                           <td>   -5.3597</td> <td>    4.251</td> <td>   -1.261</td> <td> 0.207</td> <td>  -13.695</td> <td>    2.975</td>\n</tr>\n<tr>\n  <th>temp_max:np.log(cum_output)</th>                                            <td> -210.4626</td> <td> 1427.631</td> <td>   -0.147</td> <td> 0.883</td> <td>-3009.613</td> <td> 2588.688</td>\n</tr>\n<tr>\n  <th>temp_min:temp_max:np.log(cum_output)</th>                                   <td>  132.4125</td> <td>  294.642</td> <td>    0.449</td> <td> 0.653</td> <td> -445.290</td> <td>  710.115</td>\n</tr>\n<tr>\n  <th>I(temp_min ** 2):temp_max:np.log(cum_output)</th>                           <td>  -17.7680</td> <td>   21.328</td> <td>   -0.833</td> <td> 0.405</td> <td>  -59.586</td> <td>   24.050</td>\n</tr>\n<tr>\n  <th>temp_min:I(temp_min ** 2):temp_max:np.log(cum_output)</th>                  <td>    0.6596</td> <td>    0.531</td> <td>    1.242</td> <td> 0.214</td> <td>   -0.382</td> <td>    1.701</td>\n</tr>\n<tr>\n  <th>I(temp_max ** 2):np.log(cum_output)</th>                                    <td>   12.3728</td> <td>   72.749</td> <td>    0.170</td> <td> 0.865</td> <td> -130.265</td> <td>  155.011</td>\n</tr>\n<tr>\n  <th>temp_min:I(temp_max ** 2):np.log(cum_output)</th>                           <td>   -5.7538</td> <td>   14.155</td> <td>   -0.406</td> <td> 0.684</td> <td>  -33.507</td> <td>   21.999</td>\n</tr>\n<tr>\n  <th>I(temp_min ** 2):I(temp_max ** 2):np.log(cum_output)</th>                   <td>    0.7096</td> <td>    0.955</td> <td>    0.743</td> <td> 0.458</td> <td>   -1.163</td> <td>    2.582</td>\n</tr>\n<tr>\n  <th>temp_min:I(temp_min ** 2):I(temp_max ** 2):np.log(cum_output)</th>          <td>   -0.0251</td> <td>    0.022</td> <td>   -1.128</td> <td> 0.260</td> <td>   -0.069</td> <td>    0.019</td>\n</tr>\n<tr>\n  <th>temp_max:I(temp_max ** 2):np.log(cum_output)</th>                           <td>   -0.1809</td> <td>    1.223</td> <td>   -0.148</td> <td> 0.882</td> <td>   -2.580</td> <td>    2.218</td>\n</tr>\n<tr>\n  <th>temp_min:temp_max:I(temp_max ** 2):np.log(cum_output)</th>                  <td>    0.0699</td> <td>    0.226</td> <td>    0.309</td> <td> 0.758</td> <td>   -0.374</td> <td>    0.514</td>\n</tr>\n<tr>\n  <th>I(temp_min ** 2):temp_max:I(temp_max ** 2):np.log(cum_output)</th>          <td>   -0.0082</td> <td>    0.014</td> <td>   -0.573</td> <td> 0.567</td> <td>   -0.036</td> <td>    0.020</td>\n</tr>\n<tr>\n  <th>temp_min:I(temp_min ** 2):temp_max:I(temp_max ** 2):np.log(cum_output)</th> <td>    0.0003</td> <td>    0.000</td> <td>    0.911</td> <td> 0.363</td> <td>   -0.000</td> <td>    0.001</td>\n</tr>\n<tr>\n  <th>np.log(population)</th>                                                     <td> 5.617e+04</td> <td> 1.37e+04</td> <td>    4.111</td> <td> 0.000</td> <td> 2.94e+04</td> <td>  8.3e+04</td>\n</tr>\n<tr>\n  <th>day</th>                                                                    <td> 2812.6363</td> <td> 2320.376</td> <td>    1.212</td> <td> 0.226</td> <td>-1736.914</td> <td> 7362.187</td>\n</tr>\n<tr>\n  <th>month</th>                                                                  <td>-2537.8858</td> <td> 5841.826</td> <td>   -0.434</td> <td> 0.664</td> <td> -1.4e+04</td> <td> 8916.156</td>\n</tr>\n<tr>\n  <th>day:month</th>                                                              <td> -220.0523</td> <td>  311.936</td> <td>   -0.705</td> <td> 0.481</td> <td> -831.663</td> <td>  391.559</td>\n</tr>\n<tr>\n  <th>year</th>                                                                   <td> -807.6775</td> <td>  203.164</td> <td>   -3.976</td> <td> 0.000</td> <td>-1206.020</td> <td> -409.335</td>\n</tr>\n<tr>\n  <th>day:year</th>                                                               <td>   -1.3926</td> <td>    1.152</td> <td>   -1.209</td> <td> 0.227</td> <td>   -3.652</td> <td>    0.866</td>\n</tr>\n<tr>\n  <th>month:year</th>                                                             <td>    1.2104</td> <td>    2.900</td> <td>    0.417</td> <td> 0.676</td> <td>   -4.475</td> <td>    6.896</td>\n</tr>\n<tr>\n  <th>day:month:year</th>                                                         <td>    0.1085</td> <td>    0.155</td> <td>    0.701</td> <td> 0.484</td> <td>   -0.195</td> <td>    0.412</td>\n</tr>\n</table>\n<table class=\"simpletable\">\n<tr>\n  <th>Omnibus:</th>       <td>17.858</td> <th>  Durbin-Watson:     </th> <td>   1.043</td>\n</tr>\n<tr>\n  <th>Prob(Omnibus):</th> <td> 0.000</td> <th>  Jarque-Bera (JB):  </th> <td>  17.987</td>\n</tr>\n<tr>\n  <th>Skew:</th>          <td>-0.179</td> <th>  Prob(JB):          </th> <td>0.000124</td>\n</tr>\n<tr>\n  <th>Kurtosis:</th>      <td> 3.056</td> <th>  Cond. No.          </th> <td>2.74e+13</td>\n</tr>\n</table><br/><br/>Notes:<br/>[1] Standard Errors assume that the covariance matrix of the errors is correctly specified.<br/>[2] The condition number is large, 2.74e+13. This might indicate that there are<br/>strong multicollinearity or other numerical problems."
     },
     "execution_count": 75,
     "metadata": {},
     "output_type": "execute_result"
    }
   ],
   "source": [
    "lm3_max.summary()"
   ],
   "metadata": {
    "collapsed": false
   }
  },
  {
   "cell_type": "code",
   "execution_count": 76,
   "outputs": [
    {
     "data": {
      "text/plain": "431.85168468326685"
     },
     "execution_count": 76,
     "metadata": {},
     "output_type": "execute_result"
    }
   ],
   "source": [
    "# Calc RMSE for model for min model 3\n",
    "np.sqrt(mean_squared_error(test_df['demand_min'],lm3_min.predict(test_df)))"
   ],
   "metadata": {
    "collapsed": false
   }
  },
  {
   "cell_type": "code",
   "execution_count": 77,
   "outputs": [
    {
     "data": {
      "text/plain": "1169.8857706673257"
     },
     "execution_count": 77,
     "metadata": {},
     "output_type": "execute_result"
    }
   ],
   "source": [
    "# Calc RMSE for model for max model 3\n",
    "np.sqrt(mean_squared_error(test_df['demand_max'],lm3_max.predict(test_df)))"
   ],
   "metadata": {
    "collapsed": false
   }
  },
  {
   "cell_type": "markdown",
   "source": [
    "Looks like model performance has actually gotten worse.\n",
    "This may show that linear regression is not the best option for modelling this problem due to being inflexible."
   ],
   "metadata": {
    "collapsed": false
   }
  }
 ],
 "metadata": {
  "kernelspec": {
   "display_name": "Python 3",
   "language": "python",
   "name": "python3"
  },
  "language_info": {
   "codemirror_mode": {
    "name": "ipython",
    "version": 2
   },
   "file_extension": ".py",
   "mimetype": "text/x-python",
   "name": "python",
   "nbconvert_exporter": "python",
   "pygments_lexer": "ipython2",
   "version": "2.7.6"
  }
 },
 "nbformat": 4,
 "nbformat_minor": 0
}
