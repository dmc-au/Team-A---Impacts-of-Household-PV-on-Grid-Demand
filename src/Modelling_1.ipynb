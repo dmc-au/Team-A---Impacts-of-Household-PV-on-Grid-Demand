{
 "cells": [
  {
   "cell_type": "markdown",
   "source": [
    "# Initial Modelling\n",
    "We are going to make some basic models to predict both Min and Max demands for a day using findings from the EDA phase of the projects.\n",
    "Models will start simple using a few datasets to predict and then get more complex.\n",
    "Models will be using RMSE and MAE to evaluate and compare."
   ],
   "metadata": {
    "collapsed": false
   }
  },
  {
   "cell_type": "code",
   "execution_count": 1,
   "outputs": [],
   "source": [
    "# Import general packages\n",
    "import pandas as pd\n",
    "import numpy as np\n",
    "import matplotlib.pyplot as plt\n",
    "import seaborn as sns\n",
    "from sklearn.metrics import mean_squared_error, mean_absolute_error"
   ],
   "metadata": {
    "collapsed": false
   }
  },
  {
   "cell_type": "markdown",
   "source": [
    "## Load Data and Format for Modelling\n",
    "To begin with we will load in the:\n",
    "- Total Demand Dataset\n",
    "- NSW Temperature Dataset\n",
    "- NSW Residential Solar Data\n",
    "- NSW Population Data\n",
    "\n",
    "Seeing as the Residential Solar Data only goes up to 2020 and Demand Data is only from 2010, when doing the train test split data from 2010-2018 will be used for training, 2019 and 2020 will be used for test. Other data will be discarded for now.\n",
    "\n",
    "Data that have recording interval periods greater than 1 day will be linearly interpolated for now for simplicity."
   ],
   "metadata": {
    "collapsed": false
   }
  },
  {
   "cell_type": "code",
   "execution_count": 2,
   "outputs": [
    {
     "data": {
      "text/plain": "            demand_min  demand_max\ndatetime                          \n2010-01-01     6157.36     8922.42\n2010-01-02     6112.73     9326.64\n2010-01-03     6014.91     8277.85\n2010-01-04     6023.79     9522.30\n2010-01-05     6287.12    10728.72",
      "text/html": "<div>\n<style scoped>\n    .dataframe tbody tr th:only-of-type {\n        vertical-align: middle;\n    }\n\n    .dataframe tbody tr th {\n        vertical-align: top;\n    }\n\n    .dataframe thead th {\n        text-align: right;\n    }\n</style>\n<table border=\"1\" class=\"dataframe\">\n  <thead>\n    <tr style=\"text-align: right;\">\n      <th></th>\n      <th>demand_min</th>\n      <th>demand_max</th>\n    </tr>\n    <tr>\n      <th>datetime</th>\n      <th></th>\n      <th></th>\n    </tr>\n  </thead>\n  <tbody>\n    <tr>\n      <th>2010-01-01</th>\n      <td>6157.36</td>\n      <td>8922.42</td>\n    </tr>\n    <tr>\n      <th>2010-01-02</th>\n      <td>6112.73</td>\n      <td>9326.64</td>\n    </tr>\n    <tr>\n      <th>2010-01-03</th>\n      <td>6014.91</td>\n      <td>8277.85</td>\n    </tr>\n    <tr>\n      <th>2010-01-04</th>\n      <td>6023.79</td>\n      <td>9522.30</td>\n    </tr>\n    <tr>\n      <th>2010-01-05</th>\n      <td>6287.12</td>\n      <td>10728.72</td>\n    </tr>\n  </tbody>\n</table>\n</div>"
     },
     "execution_count": 2,
     "metadata": {},
     "output_type": "execute_result"
    }
   ],
   "source": [
    "# Import demand dataset\n",
    "demand_df = pd.read_csv('../data/raw/totaldemand_nsw.csv', names=['datetime', 'region', 'demand'], header=0)\n",
    "demand_df['datetime'] = pd.to_datetime(demand_df['datetime'])\n",
    "demand_df = demand_df.resample('D', on='datetime')['demand'].agg(['min', 'max'])\n",
    "demand_df.rename(columns={'min':'demand_min', 'max':'demand_max'}, inplace=True)\n",
    "demand_df.head()"
   ],
   "metadata": {
    "collapsed": false
   }
  },
  {
   "cell_type": "code",
   "execution_count": 3,
   "outputs": [
    {
     "data": {
      "text/plain": "            temp_min  temp_max  temp_mean\ndatetime                                 \n2010-01-01      22.1      28.8  25.094000\n2010-01-02      21.6      29.4  24.765385\n2010-01-03      17.9      21.5  19.429825\n2010-01-04      17.9      23.9  20.625926\n2010-01-05      15.4      27.7  22.660417",
      "text/html": "<div>\n<style scoped>\n    .dataframe tbody tr th:only-of-type {\n        vertical-align: middle;\n    }\n\n    .dataframe tbody tr th {\n        vertical-align: top;\n    }\n\n    .dataframe thead th {\n        text-align: right;\n    }\n</style>\n<table border=\"1\" class=\"dataframe\">\n  <thead>\n    <tr style=\"text-align: right;\">\n      <th></th>\n      <th>temp_min</th>\n      <th>temp_max</th>\n      <th>temp_mean</th>\n    </tr>\n    <tr>\n      <th>datetime</th>\n      <th></th>\n      <th></th>\n      <th></th>\n    </tr>\n  </thead>\n  <tbody>\n    <tr>\n      <th>2010-01-01</th>\n      <td>22.1</td>\n      <td>28.8</td>\n      <td>25.094000</td>\n    </tr>\n    <tr>\n      <th>2010-01-02</th>\n      <td>21.6</td>\n      <td>29.4</td>\n      <td>24.765385</td>\n    </tr>\n    <tr>\n      <th>2010-01-03</th>\n      <td>17.9</td>\n      <td>21.5</td>\n      <td>19.429825</td>\n    </tr>\n    <tr>\n      <th>2010-01-04</th>\n      <td>17.9</td>\n      <td>23.9</td>\n      <td>20.625926</td>\n    </tr>\n    <tr>\n      <th>2010-01-05</th>\n      <td>15.4</td>\n      <td>27.7</td>\n      <td>22.660417</td>\n    </tr>\n  </tbody>\n</table>\n</div>"
     },
     "execution_count": 3,
     "metadata": {},
     "output_type": "execute_result"
    }
   ],
   "source": [
    "# Import temperature data\n",
    "temp_df = pd.read_csv('../data/raw/temperature_nsw.csv', names=['datetime', 'location', 'temp'], header=0)\n",
    "temp_df['datetime'] = pd.to_datetime(temp_df['datetime'])\n",
    "temp_df.drop(temp_df[temp_df['temp'] <= -9999].index, inplace = True)\n",
    "temp_df = temp_df.resample('D', on='datetime')['temp'].agg(['min', 'max', 'mean'])\n",
    "temp_df.rename(columns={'min':'temp_min', 'max':'temp_max', 'mean':'temp_mean'}, inplace=True)\n",
    "temp_df.head()"
   ],
   "metadata": {
    "collapsed": false
   }
  },
  {
   "cell_type": "code",
   "execution_count": 21,
   "outputs": [
    {
     "data": {
      "text/plain": "                   units      cum_units         output    cum_output\ndatetime                                                            \n2008-01-01    127.000000    1882.000000     287.946000  2.710745e+03\n2008-01-02    128.451613    1887.548387     286.983677  2.719071e+03\n2008-01-03    129.903226    1893.096774     286.021355  2.727398e+03\n2008-01-04    131.354839    1898.645161     285.059032  2.735724e+03\n2008-01-05    132.806452    1904.193548     284.096710  2.744050e+03\n...                  ...            ...            ...           ...\n2020-11-27  11792.333333  677988.866667  110417.842533  3.493903e+06\n2020-11-28  11777.000000  678379.900000  110718.932400  3.497624e+06\n2020-11-29  11761.666667  678770.933333  111020.022267  3.501344e+06\n2020-11-30  11746.333333  679161.966667  111321.112133  3.505065e+06\n2020-12-01  11731.000000  679553.000000  111622.202000  3.508786e+06\n\n[4719 rows x 4 columns]",
      "text/html": "<div>\n<style scoped>\n    .dataframe tbody tr th:only-of-type {\n        vertical-align: middle;\n    }\n\n    .dataframe tbody tr th {\n        vertical-align: top;\n    }\n\n    .dataframe thead th {\n        text-align: right;\n    }\n</style>\n<table border=\"1\" class=\"dataframe\">\n  <thead>\n    <tr style=\"text-align: right;\">\n      <th></th>\n      <th>units</th>\n      <th>cum_units</th>\n      <th>output</th>\n      <th>cum_output</th>\n    </tr>\n    <tr>\n      <th>datetime</th>\n      <th></th>\n      <th></th>\n      <th></th>\n      <th></th>\n    </tr>\n  </thead>\n  <tbody>\n    <tr>\n      <th>2008-01-01</th>\n      <td>127.000000</td>\n      <td>1882.000000</td>\n      <td>287.946000</td>\n      <td>2.710745e+03</td>\n    </tr>\n    <tr>\n      <th>2008-01-02</th>\n      <td>128.451613</td>\n      <td>1887.548387</td>\n      <td>286.983677</td>\n      <td>2.719071e+03</td>\n    </tr>\n    <tr>\n      <th>2008-01-03</th>\n      <td>129.903226</td>\n      <td>1893.096774</td>\n      <td>286.021355</td>\n      <td>2.727398e+03</td>\n    </tr>\n    <tr>\n      <th>2008-01-04</th>\n      <td>131.354839</td>\n      <td>1898.645161</td>\n      <td>285.059032</td>\n      <td>2.735724e+03</td>\n    </tr>\n    <tr>\n      <th>2008-01-05</th>\n      <td>132.806452</td>\n      <td>1904.193548</td>\n      <td>284.096710</td>\n      <td>2.744050e+03</td>\n    </tr>\n    <tr>\n      <th>...</th>\n      <td>...</td>\n      <td>...</td>\n      <td>...</td>\n      <td>...</td>\n    </tr>\n    <tr>\n      <th>2020-11-27</th>\n      <td>11792.333333</td>\n      <td>677988.866667</td>\n      <td>110417.842533</td>\n      <td>3.493903e+06</td>\n    </tr>\n    <tr>\n      <th>2020-11-28</th>\n      <td>11777.000000</td>\n      <td>678379.900000</td>\n      <td>110718.932400</td>\n      <td>3.497624e+06</td>\n    </tr>\n    <tr>\n      <th>2020-11-29</th>\n      <td>11761.666667</td>\n      <td>678770.933333</td>\n      <td>111020.022267</td>\n      <td>3.501344e+06</td>\n    </tr>\n    <tr>\n      <th>2020-11-30</th>\n      <td>11746.333333</td>\n      <td>679161.966667</td>\n      <td>111321.112133</td>\n      <td>3.505065e+06</td>\n    </tr>\n    <tr>\n      <th>2020-12-01</th>\n      <td>11731.000000</td>\n      <td>679553.000000</td>\n      <td>111622.202000</td>\n      <td>3.508786e+06</td>\n    </tr>\n  </tbody>\n</table>\n<p>4719 rows × 4 columns</p>\n</div>"
     },
     "execution_count": 21,
     "metadata": {},
     "output_type": "execute_result"
    }
   ],
   "source": [
    "# Import solar data\n",
    "solar_df = pd.read_csv('../data/raw/nsw_residential_solar.csv', names=['datetime', 'units', 'cum_units', 'output', 'cum_output'], header=0)\n",
    "solar_df['datetime'] = pd.to_datetime(solar_df['datetime'])\n",
    "# Interpolate to get daily data\n",
    "solar_df = solar_df.set_index('datetime').resample('D', convention='end').interpolate(method='linear')\n",
    "solar_df.head()"
   ],
   "metadata": {
    "collapsed": false
   }
  },
  {
   "cell_type": "code",
   "execution_count": 5,
   "outputs": [
    {
     "data": {
      "text/plain": "              population\ndatetime                \n2001-01-01  6.530349e+06\n2001-01-02  6.530487e+06\n2001-01-03  6.530625e+06\n2001-01-04  6.530764e+06\n2001-01-05  6.530902e+06",
      "text/html": "<div>\n<style scoped>\n    .dataframe tbody tr th:only-of-type {\n        vertical-align: middle;\n    }\n\n    .dataframe tbody tr th {\n        vertical-align: top;\n    }\n\n    .dataframe thead th {\n        text-align: right;\n    }\n</style>\n<table border=\"1\" class=\"dataframe\">\n  <thead>\n    <tr style=\"text-align: right;\">\n      <th></th>\n      <th>population</th>\n    </tr>\n    <tr>\n      <th>datetime</th>\n      <th></th>\n    </tr>\n  </thead>\n  <tbody>\n    <tr>\n      <th>2001-01-01</th>\n      <td>6.530349e+06</td>\n    </tr>\n    <tr>\n      <th>2001-01-02</th>\n      <td>6.530487e+06</td>\n    </tr>\n    <tr>\n      <th>2001-01-03</th>\n      <td>6.530625e+06</td>\n    </tr>\n    <tr>\n      <th>2001-01-04</th>\n      <td>6.530764e+06</td>\n    </tr>\n    <tr>\n      <th>2001-01-05</th>\n      <td>6.530902e+06</td>\n    </tr>\n  </tbody>\n</table>\n</div>"
     },
     "execution_count": 5,
     "metadata": {},
     "output_type": "execute_result"
    }
   ],
   "source": [
    "# Import population data\n",
    "pop_df = pd.read_csv('../data/raw/NSW_population.csv', usecols=['TIME_PERIOD: Time Period', 'OBS_VALUE'], header=0)\n",
    "pop_df.rename(columns={'TIME_PERIOD: Time Period':'datetime', 'OBS_VALUE':'population'}, inplace=True)\n",
    "pop_df['datetime'] = pd.to_datetime(pop_df['datetime'], format='%Y')\n",
    "pop_df.head()\n",
    "pop_df = pop_df.set_index('datetime').resample('D', convention='start').interpolate(method='linear')\n",
    "pop_df.head()"
   ],
   "metadata": {
    "collapsed": false
   }
  },
  {
   "cell_type": "code",
   "execution_count": 13,
   "outputs": [
    {
     "data": {
      "text/plain": "            demand_min  demand_max  temp_min  temp_max  temp_mean  units  \\\ndatetime                                                                   \n2001-01-01         NaN         NaN       NaN       NaN        NaN    NaN   \n2001-01-02         NaN         NaN       NaN       NaN        NaN    NaN   \n2001-01-03         NaN         NaN       NaN       NaN        NaN    NaN   \n2001-01-04         NaN         NaN       NaN       NaN        NaN    NaN   \n2001-01-05         NaN         NaN       NaN       NaN        NaN    NaN   \n\n            cum_units  output  cum_output    population  \ndatetime                                                 \n2001-01-01        NaN     NaN         NaN  6.530349e+06  \n2001-01-02        NaN     NaN         NaN  6.530487e+06  \n2001-01-03        NaN     NaN         NaN  6.530625e+06  \n2001-01-04        NaN     NaN         NaN  6.530764e+06  \n2001-01-05        NaN     NaN         NaN  6.530902e+06  ",
      "text/html": "<div>\n<style scoped>\n    .dataframe tbody tr th:only-of-type {\n        vertical-align: middle;\n    }\n\n    .dataframe tbody tr th {\n        vertical-align: top;\n    }\n\n    .dataframe thead th {\n        text-align: right;\n    }\n</style>\n<table border=\"1\" class=\"dataframe\">\n  <thead>\n    <tr style=\"text-align: right;\">\n      <th></th>\n      <th>demand_min</th>\n      <th>demand_max</th>\n      <th>temp_min</th>\n      <th>temp_max</th>\n      <th>temp_mean</th>\n      <th>units</th>\n      <th>cum_units</th>\n      <th>output</th>\n      <th>cum_output</th>\n      <th>population</th>\n    </tr>\n    <tr>\n      <th>datetime</th>\n      <th></th>\n      <th></th>\n      <th></th>\n      <th></th>\n      <th></th>\n      <th></th>\n      <th></th>\n      <th></th>\n      <th></th>\n      <th></th>\n    </tr>\n  </thead>\n  <tbody>\n    <tr>\n      <th>2001-01-01</th>\n      <td>NaN</td>\n      <td>NaN</td>\n      <td>NaN</td>\n      <td>NaN</td>\n      <td>NaN</td>\n      <td>NaN</td>\n      <td>NaN</td>\n      <td>NaN</td>\n      <td>NaN</td>\n      <td>6.530349e+06</td>\n    </tr>\n    <tr>\n      <th>2001-01-02</th>\n      <td>NaN</td>\n      <td>NaN</td>\n      <td>NaN</td>\n      <td>NaN</td>\n      <td>NaN</td>\n      <td>NaN</td>\n      <td>NaN</td>\n      <td>NaN</td>\n      <td>NaN</td>\n      <td>6.530487e+06</td>\n    </tr>\n    <tr>\n      <th>2001-01-03</th>\n      <td>NaN</td>\n      <td>NaN</td>\n      <td>NaN</td>\n      <td>NaN</td>\n      <td>NaN</td>\n      <td>NaN</td>\n      <td>NaN</td>\n      <td>NaN</td>\n      <td>NaN</td>\n      <td>6.530625e+06</td>\n    </tr>\n    <tr>\n      <th>2001-01-04</th>\n      <td>NaN</td>\n      <td>NaN</td>\n      <td>NaN</td>\n      <td>NaN</td>\n      <td>NaN</td>\n      <td>NaN</td>\n      <td>NaN</td>\n      <td>NaN</td>\n      <td>NaN</td>\n      <td>6.530764e+06</td>\n    </tr>\n    <tr>\n      <th>2001-01-05</th>\n      <td>NaN</td>\n      <td>NaN</td>\n      <td>NaN</td>\n      <td>NaN</td>\n      <td>NaN</td>\n      <td>NaN</td>\n      <td>NaN</td>\n      <td>NaN</td>\n      <td>NaN</td>\n      <td>6.530902e+06</td>\n    </tr>\n  </tbody>\n</table>\n</div>"
     },
     "execution_count": 13,
     "metadata": {},
     "output_type": "execute_result"
    }
   ],
   "source": [
    "# Merge data frames and split into train/test sets. Start with untransformed data then add models with transformations eg sqrt(temp), ln(solar output)\n",
    "full_df = demand_df.merge(temp_df, on='datetime', how='outer')\n",
    "full_df = full_df.merge(solar_df, on='datetime', how='outer')\n",
    "full_df = full_df.merge(pop_df, on='datetime', how='outer')\n",
    "full_df.sort_index(inplace=True)\n",
    "full_df.head()"
   ],
   "metadata": {
    "collapsed": false
   }
  },
  {
   "cell_type": "code",
   "execution_count": 22,
   "outputs": [],
   "source": [
    "# Filter dataframe and split into train-test sets\n",
    "train_mask = (full_df.index >= '2010-01-01') & (full_df.index < '2019-01-01')\n",
    "test_mask = (full_df.index >= '2019-01-01') & (full_df.index < '2020-12-01') # interpolation didn't fill to the end of 2020 for solar_df\n",
    "\n",
    "train_df = full_df[train_mask]\n",
    "test_df = full_df[test_mask]"
   ],
   "metadata": {
    "collapsed": false
   }
  },
  {
   "cell_type": "code",
   "execution_count": 23,
   "outputs": [
    {
     "data": {
      "text/plain": "            demand_min  demand_max  temp_min  temp_max  temp_mean  \\\ndatetime                                                            \n2010-01-01     6157.36     8922.42      22.1      28.8  25.094000   \n2010-01-02     6112.73     9326.64      21.6      29.4  24.765385   \n2010-01-03     6014.91     8277.85      17.9      21.5  19.429825   \n2010-01-04     6023.79     9522.30      17.9      23.9  20.625926   \n2010-01-05     6287.12    10728.72      15.4      27.7  22.660417   \n...                ...         ...       ...       ...        ...   \n2018-12-27     6001.25    11050.31      17.9      32.1  23.083077   \n2018-12-28     6269.06    11347.41      19.0      33.6  26.010417   \n2018-12-29     6306.77    10910.29      18.6      33.9  25.675000   \n2018-12-30     6317.15    10250.37      19.2      35.4  25.783333   \n2018-12-31     6445.07    10718.77      19.9      32.8  24.238095   \n\n                  units      cum_units        output    cum_output  \\\ndatetime                                                             \n2010-01-01  1790.000000   21518.000000   2767.019000  3.036293e+04   \n2010-01-02  1810.677419   21596.419355   2811.171258  3.049634e+04   \n2010-01-03  1831.354839   21674.838710   2855.323516  3.062975e+04   \n2010-01-04  1852.032258   21753.258065   2899.475774  3.076316e+04   \n2010-01-05  1872.709677   21831.677419   2943.628032  3.089657e+04   \n...                 ...            ...           ...           ...   \n2018-12-27  4677.258065  485574.903226  34342.086194  1.972439e+06   \n2018-12-28  4624.806452  485717.322581  33666.076355  1.973437e+06   \n2018-12-29  4572.354839  485859.741935  32990.066516  1.974436e+06   \n2018-12-30  4519.903226  486002.161290  32314.056677  1.975435e+06   \n2018-12-31  4467.451613  486144.580645  31638.046839  1.976434e+06   \n\n              population  \ndatetime                  \n2010-01-01  7.144292e+06  \n2010-01-02  7.144495e+06  \n2010-01-03  7.144699e+06  \n2010-01-04  7.144902e+06  \n2010-01-05  7.145106e+06  \n...                  ...  \n2018-12-27  8.033090e+06  \n2018-12-28  8.033333e+06  \n2018-12-29  8.033576e+06  \n2018-12-30  8.033819e+06  \n2018-12-31  8.034062e+06  \n\n[3287 rows x 10 columns]",
      "text/html": "<div>\n<style scoped>\n    .dataframe tbody tr th:only-of-type {\n        vertical-align: middle;\n    }\n\n    .dataframe tbody tr th {\n        vertical-align: top;\n    }\n\n    .dataframe thead th {\n        text-align: right;\n    }\n</style>\n<table border=\"1\" class=\"dataframe\">\n  <thead>\n    <tr style=\"text-align: right;\">\n      <th></th>\n      <th>demand_min</th>\n      <th>demand_max</th>\n      <th>temp_min</th>\n      <th>temp_max</th>\n      <th>temp_mean</th>\n      <th>units</th>\n      <th>cum_units</th>\n      <th>output</th>\n      <th>cum_output</th>\n      <th>population</th>\n    </tr>\n    <tr>\n      <th>datetime</th>\n      <th></th>\n      <th></th>\n      <th></th>\n      <th></th>\n      <th></th>\n      <th></th>\n      <th></th>\n      <th></th>\n      <th></th>\n      <th></th>\n    </tr>\n  </thead>\n  <tbody>\n    <tr>\n      <th>2010-01-01</th>\n      <td>6157.36</td>\n      <td>8922.42</td>\n      <td>22.1</td>\n      <td>28.8</td>\n      <td>25.094000</td>\n      <td>1790.000000</td>\n      <td>21518.000000</td>\n      <td>2767.019000</td>\n      <td>3.036293e+04</td>\n      <td>7.144292e+06</td>\n    </tr>\n    <tr>\n      <th>2010-01-02</th>\n      <td>6112.73</td>\n      <td>9326.64</td>\n      <td>21.6</td>\n      <td>29.4</td>\n      <td>24.765385</td>\n      <td>1810.677419</td>\n      <td>21596.419355</td>\n      <td>2811.171258</td>\n      <td>3.049634e+04</td>\n      <td>7.144495e+06</td>\n    </tr>\n    <tr>\n      <th>2010-01-03</th>\n      <td>6014.91</td>\n      <td>8277.85</td>\n      <td>17.9</td>\n      <td>21.5</td>\n      <td>19.429825</td>\n      <td>1831.354839</td>\n      <td>21674.838710</td>\n      <td>2855.323516</td>\n      <td>3.062975e+04</td>\n      <td>7.144699e+06</td>\n    </tr>\n    <tr>\n      <th>2010-01-04</th>\n      <td>6023.79</td>\n      <td>9522.30</td>\n      <td>17.9</td>\n      <td>23.9</td>\n      <td>20.625926</td>\n      <td>1852.032258</td>\n      <td>21753.258065</td>\n      <td>2899.475774</td>\n      <td>3.076316e+04</td>\n      <td>7.144902e+06</td>\n    </tr>\n    <tr>\n      <th>2010-01-05</th>\n      <td>6287.12</td>\n      <td>10728.72</td>\n      <td>15.4</td>\n      <td>27.7</td>\n      <td>22.660417</td>\n      <td>1872.709677</td>\n      <td>21831.677419</td>\n      <td>2943.628032</td>\n      <td>3.089657e+04</td>\n      <td>7.145106e+06</td>\n    </tr>\n    <tr>\n      <th>...</th>\n      <td>...</td>\n      <td>...</td>\n      <td>...</td>\n      <td>...</td>\n      <td>...</td>\n      <td>...</td>\n      <td>...</td>\n      <td>...</td>\n      <td>...</td>\n      <td>...</td>\n    </tr>\n    <tr>\n      <th>2018-12-27</th>\n      <td>6001.25</td>\n      <td>11050.31</td>\n      <td>17.9</td>\n      <td>32.1</td>\n      <td>23.083077</td>\n      <td>4677.258065</td>\n      <td>485574.903226</td>\n      <td>34342.086194</td>\n      <td>1.972439e+06</td>\n      <td>8.033090e+06</td>\n    </tr>\n    <tr>\n      <th>2018-12-28</th>\n      <td>6269.06</td>\n      <td>11347.41</td>\n      <td>19.0</td>\n      <td>33.6</td>\n      <td>26.010417</td>\n      <td>4624.806452</td>\n      <td>485717.322581</td>\n      <td>33666.076355</td>\n      <td>1.973437e+06</td>\n      <td>8.033333e+06</td>\n    </tr>\n    <tr>\n      <th>2018-12-29</th>\n      <td>6306.77</td>\n      <td>10910.29</td>\n      <td>18.6</td>\n      <td>33.9</td>\n      <td>25.675000</td>\n      <td>4572.354839</td>\n      <td>485859.741935</td>\n      <td>32990.066516</td>\n      <td>1.974436e+06</td>\n      <td>8.033576e+06</td>\n    </tr>\n    <tr>\n      <th>2018-12-30</th>\n      <td>6317.15</td>\n      <td>10250.37</td>\n      <td>19.2</td>\n      <td>35.4</td>\n      <td>25.783333</td>\n      <td>4519.903226</td>\n      <td>486002.161290</td>\n      <td>32314.056677</td>\n      <td>1.975435e+06</td>\n      <td>8.033819e+06</td>\n    </tr>\n    <tr>\n      <th>2018-12-31</th>\n      <td>6445.07</td>\n      <td>10718.77</td>\n      <td>19.9</td>\n      <td>32.8</td>\n      <td>24.238095</td>\n      <td>4467.451613</td>\n      <td>486144.580645</td>\n      <td>31638.046839</td>\n      <td>1.976434e+06</td>\n      <td>8.034062e+06</td>\n    </tr>\n  </tbody>\n</table>\n<p>3287 rows × 10 columns</p>\n</div>"
     },
     "execution_count": 23,
     "metadata": {},
     "output_type": "execute_result"
    }
   ],
   "source": [
    "train_df"
   ],
   "metadata": {
    "collapsed": false
   }
  },
  {
   "cell_type": "code",
   "execution_count": 24,
   "outputs": [
    {
     "data": {
      "text/plain": "            demand_min  demand_max  temp_min  temp_max  temp_mean  \\\ndatetime                                                            \n2019-01-01     6162.55    10674.41      21.7      32.8  26.456863   \n2019-01-02     6412.74    10978.13      21.3      28.9  23.941667   \n2019-01-03     6487.59    10593.87      21.6      27.2  23.968750   \n2019-01-04     6450.30    11916.46      19.0      29.8  24.429630   \n2019-01-05     6692.19    10882.52      19.3      37.9  23.664865   \n...                ...         ...       ...       ...        ...   \n2020-11-26     6051.38    10871.75      14.8      32.5  22.887500   \n2020-11-27     6152.19    10173.41      18.6      26.3  21.774510   \n2020-11-28     6284.18    12421.83      18.3      40.4  30.079167   \n2020-11-29     6835.45    11955.44      19.7      40.1  28.787500   \n2020-11-30     6074.96     8821.67      18.6      22.6  20.279167   \n\n                   units      cum_units         output    cum_output  \\\ndatetime                                                               \n2019-01-01   4415.000000  486287.000000   30962.037000  1.977433e+06   \n2019-01-02   4460.709677  486475.129032   31341.130548  1.978810e+06   \n2019-01-03   4506.419355  486663.258065   31720.224097  1.980188e+06   \n2019-01-04   4552.129032  486851.387097   32099.317645  1.981566e+06   \n2019-01-05   4597.838710  487039.516129   32478.411194  1.982944e+06   \n...                  ...            ...            ...           ...   \n2020-11-26  11807.666667  677597.833333  110116.752667  3.490182e+06   \n2020-11-27  11792.333333  677988.866667  110417.842533  3.493903e+06   \n2020-11-28  11777.000000  678379.900000  110718.932400  3.497624e+06   \n2020-11-29  11761.666667  678770.933333  111020.022267  3.501344e+06   \n2020-11-30  11746.333333  679161.966667  111321.112133  3.505065e+06   \n\n              population  \ndatetime                  \n2019-01-01  8.034305e+06  \n2019-01-02  8.034469e+06  \n2019-01-03  8.034634e+06  \n2019-01-04  8.034798e+06  \n2019-01-05  8.034963e+06  \n...                  ...  \n2020-11-26  8.093864e+06  \n2020-11-27  8.093863e+06  \n2020-11-28  8.093862e+06  \n2020-11-29  8.093860e+06  \n2020-11-30  8.093859e+06  \n\n[700 rows x 10 columns]",
      "text/html": "<div>\n<style scoped>\n    .dataframe tbody tr th:only-of-type {\n        vertical-align: middle;\n    }\n\n    .dataframe tbody tr th {\n        vertical-align: top;\n    }\n\n    .dataframe thead th {\n        text-align: right;\n    }\n</style>\n<table border=\"1\" class=\"dataframe\">\n  <thead>\n    <tr style=\"text-align: right;\">\n      <th></th>\n      <th>demand_min</th>\n      <th>demand_max</th>\n      <th>temp_min</th>\n      <th>temp_max</th>\n      <th>temp_mean</th>\n      <th>units</th>\n      <th>cum_units</th>\n      <th>output</th>\n      <th>cum_output</th>\n      <th>population</th>\n    </tr>\n    <tr>\n      <th>datetime</th>\n      <th></th>\n      <th></th>\n      <th></th>\n      <th></th>\n      <th></th>\n      <th></th>\n      <th></th>\n      <th></th>\n      <th></th>\n      <th></th>\n    </tr>\n  </thead>\n  <tbody>\n    <tr>\n      <th>2019-01-01</th>\n      <td>6162.55</td>\n      <td>10674.41</td>\n      <td>21.7</td>\n      <td>32.8</td>\n      <td>26.456863</td>\n      <td>4415.000000</td>\n      <td>486287.000000</td>\n      <td>30962.037000</td>\n      <td>1.977433e+06</td>\n      <td>8.034305e+06</td>\n    </tr>\n    <tr>\n      <th>2019-01-02</th>\n      <td>6412.74</td>\n      <td>10978.13</td>\n      <td>21.3</td>\n      <td>28.9</td>\n      <td>23.941667</td>\n      <td>4460.709677</td>\n      <td>486475.129032</td>\n      <td>31341.130548</td>\n      <td>1.978810e+06</td>\n      <td>8.034469e+06</td>\n    </tr>\n    <tr>\n      <th>2019-01-03</th>\n      <td>6487.59</td>\n      <td>10593.87</td>\n      <td>21.6</td>\n      <td>27.2</td>\n      <td>23.968750</td>\n      <td>4506.419355</td>\n      <td>486663.258065</td>\n      <td>31720.224097</td>\n      <td>1.980188e+06</td>\n      <td>8.034634e+06</td>\n    </tr>\n    <tr>\n      <th>2019-01-04</th>\n      <td>6450.30</td>\n      <td>11916.46</td>\n      <td>19.0</td>\n      <td>29.8</td>\n      <td>24.429630</td>\n      <td>4552.129032</td>\n      <td>486851.387097</td>\n      <td>32099.317645</td>\n      <td>1.981566e+06</td>\n      <td>8.034798e+06</td>\n    </tr>\n    <tr>\n      <th>2019-01-05</th>\n      <td>6692.19</td>\n      <td>10882.52</td>\n      <td>19.3</td>\n      <td>37.9</td>\n      <td>23.664865</td>\n      <td>4597.838710</td>\n      <td>487039.516129</td>\n      <td>32478.411194</td>\n      <td>1.982944e+06</td>\n      <td>8.034963e+06</td>\n    </tr>\n    <tr>\n      <th>...</th>\n      <td>...</td>\n      <td>...</td>\n      <td>...</td>\n      <td>...</td>\n      <td>...</td>\n      <td>...</td>\n      <td>...</td>\n      <td>...</td>\n      <td>...</td>\n      <td>...</td>\n    </tr>\n    <tr>\n      <th>2020-11-26</th>\n      <td>6051.38</td>\n      <td>10871.75</td>\n      <td>14.8</td>\n      <td>32.5</td>\n      <td>22.887500</td>\n      <td>11807.666667</td>\n      <td>677597.833333</td>\n      <td>110116.752667</td>\n      <td>3.490182e+06</td>\n      <td>8.093864e+06</td>\n    </tr>\n    <tr>\n      <th>2020-11-27</th>\n      <td>6152.19</td>\n      <td>10173.41</td>\n      <td>18.6</td>\n      <td>26.3</td>\n      <td>21.774510</td>\n      <td>11792.333333</td>\n      <td>677988.866667</td>\n      <td>110417.842533</td>\n      <td>3.493903e+06</td>\n      <td>8.093863e+06</td>\n    </tr>\n    <tr>\n      <th>2020-11-28</th>\n      <td>6284.18</td>\n      <td>12421.83</td>\n      <td>18.3</td>\n      <td>40.4</td>\n      <td>30.079167</td>\n      <td>11777.000000</td>\n      <td>678379.900000</td>\n      <td>110718.932400</td>\n      <td>3.497624e+06</td>\n      <td>8.093862e+06</td>\n    </tr>\n    <tr>\n      <th>2020-11-29</th>\n      <td>6835.45</td>\n      <td>11955.44</td>\n      <td>19.7</td>\n      <td>40.1</td>\n      <td>28.787500</td>\n      <td>11761.666667</td>\n      <td>678770.933333</td>\n      <td>111020.022267</td>\n      <td>3.501344e+06</td>\n      <td>8.093860e+06</td>\n    </tr>\n    <tr>\n      <th>2020-11-30</th>\n      <td>6074.96</td>\n      <td>8821.67</td>\n      <td>18.6</td>\n      <td>22.6</td>\n      <td>20.279167</td>\n      <td>11746.333333</td>\n      <td>679161.966667</td>\n      <td>111321.112133</td>\n      <td>3.505065e+06</td>\n      <td>8.093859e+06</td>\n    </tr>\n  </tbody>\n</table>\n<p>700 rows × 10 columns</p>\n</div>"
     },
     "execution_count": 24,
     "metadata": {},
     "output_type": "execute_result"
    }
   ],
   "source": [
    "test_df"
   ],
   "metadata": {
    "collapsed": false
   }
  },
  {
   "cell_type": "markdown",
   "source": [
    "## Linear Regression Models\n",
    "Now that we have all the data entered, let's build some preliminary linear regression models\n",
    "- untransformed models\n",
    "    - add normalisation\n",
    "- transformed models with normalisation\n",
    "- add in interactions between variables e.g. temp-solaroutput\n",
    "... later look at other ML algorithms and data that could improve model"
   ],
   "metadata": {
    "collapsed": false
   }
  },
  {
   "cell_type": "code",
   "execution_count": 25,
   "outputs": [],
   "source": [
    "import statsmodels.api as sm\n",
    "import statsmodels.formula.api as smf"
   ],
   "metadata": {
    "collapsed": false
   }
  },
  {
   "cell_type": "code",
   "execution_count": 38,
   "outputs": [
    {
     "name": "stderr",
     "output_type": "stream",
     "text": [
      "C:\\Users\\sambo\\anaconda3\\lib\\site-packages\\pandas\\core\\arraylike.py:397: RuntimeWarning: invalid value encountered in sqrt\n",
      "  result = getattr(ufunc, method)(*inputs, **kwargs)\n"
     ]
    }
   ],
   "source": [
    "lm1 = smf.ols('demand_min ~ np.sqrt(temp_min) + np.sqrt(temp_max) + np.log(cum_output) + np.log(population)', data = train_df).fit()"
   ],
   "metadata": {
    "collapsed": false
   }
  },
  {
   "cell_type": "code",
   "execution_count": 39,
   "outputs": [
    {
     "data": {
      "text/plain": "<class 'statsmodels.iolib.summary.Summary'>\n\"\"\"\n                            OLS Regression Results                            \n==============================================================================\nDep. Variable:             demand_min   R-squared:                       0.316\nModel:                            OLS   Adj. R-squared:                  0.315\nMethod:                 Least Squares   F-statistic:                     378.4\nDate:                Wed, 22 Mar 2023   Prob (F-statistic):          3.48e-268\nTime:                        21:02:44   Log-Likelihood:                -23962.\nNo. Observations:                3281   AIC:                         4.793e+04\nDf Residuals:                    3276   BIC:                         4.796e+04\nDf Model:                           4                                         \nCovariance Type:            nonrobust                                         \n======================================================================================\n                         coef    std err          t      P>|t|      [0.025      0.975]\n--------------------------------------------------------------------------------------\nIntercept          -2.719e+04   5956.948     -4.565      0.000   -3.89e+04   -1.55e+04\nnp.sqrt(temp_min)   -200.3181     10.474    -19.125      0.000    -220.855    -179.781\nnp.sqrt(temp_max)    -90.4402     16.348     -5.532      0.000    -122.494     -58.387\nnp.log(cum_output)  -255.6177     15.521    -16.469      0.000    -286.051    -225.185\nnp.log(population)  2396.4613    388.004      6.176      0.000    1635.706    3157.217\n==============================================================================\nOmnibus:                      186.785   Durbin-Watson:                   0.389\nProb(Omnibus):                  0.000   Jarque-Bera (JB):              269.029\nSkew:                           0.501   Prob(JB):                     3.81e-59\nKurtosis:                       3.983   Cond. No.                     2.05e+04\n==============================================================================\n\nNotes:\n[1] Standard Errors assume that the covariance matrix of the errors is correctly specified.\n[2] The condition number is large, 2.05e+04. This might indicate that there are\nstrong multicollinearity or other numerical problems.\n\"\"\"",
      "text/html": "<table class=\"simpletable\">\n<caption>OLS Regression Results</caption>\n<tr>\n  <th>Dep. Variable:</th>       <td>demand_min</td>    <th>  R-squared:         </th> <td>   0.316</td> \n</tr>\n<tr>\n  <th>Model:</th>                   <td>OLS</td>       <th>  Adj. R-squared:    </th> <td>   0.315</td> \n</tr>\n<tr>\n  <th>Method:</th>             <td>Least Squares</td>  <th>  F-statistic:       </th> <td>   378.4</td> \n</tr>\n<tr>\n  <th>Date:</th>             <td>Wed, 22 Mar 2023</td> <th>  Prob (F-statistic):</th> <td>3.48e-268</td>\n</tr>\n<tr>\n  <th>Time:</th>                 <td>21:02:44</td>     <th>  Log-Likelihood:    </th> <td> -23962.</td> \n</tr>\n<tr>\n  <th>No. Observations:</th>      <td>  3281</td>      <th>  AIC:               </th> <td>4.793e+04</td>\n</tr>\n<tr>\n  <th>Df Residuals:</th>          <td>  3276</td>      <th>  BIC:               </th> <td>4.796e+04</td>\n</tr>\n<tr>\n  <th>Df Model:</th>              <td>     4</td>      <th>                     </th>     <td> </td>    \n</tr>\n<tr>\n  <th>Covariance Type:</th>      <td>nonrobust</td>    <th>                     </th>     <td> </td>    \n</tr>\n</table>\n<table class=\"simpletable\">\n<tr>\n           <td></td>             <th>coef</th>     <th>std err</th>      <th>t</th>      <th>P>|t|</th>  <th>[0.025</th>    <th>0.975]</th>  \n</tr>\n<tr>\n  <th>Intercept</th>          <td>-2.719e+04</td> <td> 5956.948</td> <td>   -4.565</td> <td> 0.000</td> <td>-3.89e+04</td> <td>-1.55e+04</td>\n</tr>\n<tr>\n  <th>np.sqrt(temp_min)</th>  <td> -200.3181</td> <td>   10.474</td> <td>  -19.125</td> <td> 0.000</td> <td> -220.855</td> <td> -179.781</td>\n</tr>\n<tr>\n  <th>np.sqrt(temp_max)</th>  <td>  -90.4402</td> <td>   16.348</td> <td>   -5.532</td> <td> 0.000</td> <td> -122.494</td> <td>  -58.387</td>\n</tr>\n<tr>\n  <th>np.log(cum_output)</th> <td> -255.6177</td> <td>   15.521</td> <td>  -16.469</td> <td> 0.000</td> <td> -286.051</td> <td> -225.185</td>\n</tr>\n<tr>\n  <th>np.log(population)</th> <td> 2396.4613</td> <td>  388.004</td> <td>    6.176</td> <td> 0.000</td> <td> 1635.706</td> <td> 3157.217</td>\n</tr>\n</table>\n<table class=\"simpletable\">\n<tr>\n  <th>Omnibus:</th>       <td>186.785</td> <th>  Durbin-Watson:     </th> <td>   0.389</td>\n</tr>\n<tr>\n  <th>Prob(Omnibus):</th> <td> 0.000</td>  <th>  Jarque-Bera (JB):  </th> <td> 269.029</td>\n</tr>\n<tr>\n  <th>Skew:</th>          <td> 0.501</td>  <th>  Prob(JB):          </th> <td>3.81e-59</td>\n</tr>\n<tr>\n  <th>Kurtosis:</th>      <td> 3.983</td>  <th>  Cond. No.          </th> <td>2.05e+04</td>\n</tr>\n</table><br/><br/>Notes:<br/>[1] Standard Errors assume that the covariance matrix of the errors is correctly specified.<br/>[2] The condition number is large, 2.05e+04. This might indicate that there are<br/>strong multicollinearity or other numerical problems."
     },
     "execution_count": 39,
     "metadata": {},
     "output_type": "execute_result"
    }
   ],
   "source": [
    "lm1.summary()"
   ],
   "metadata": {
    "collapsed": false
   }
  }
 ],
 "metadata": {
  "kernelspec": {
   "display_name": "Python 3",
   "language": "python",
   "name": "python3"
  },
  "language_info": {
   "codemirror_mode": {
    "name": "ipython",
    "version": 2
   },
   "file_extension": ".py",
   "mimetype": "text/x-python",
   "name": "python",
   "nbconvert_exporter": "python",
   "pygments_lexer": "ipython2",
   "version": "2.7.6"
  }
 },
 "nbformat": 4,
 "nbformat_minor": 0
}
