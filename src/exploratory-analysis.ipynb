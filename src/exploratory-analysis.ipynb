{
 "cells": [
  {
   "cell_type": "markdown",
   "metadata": {
    "id": "KvzS9oPYBJQZ"
   },
   "source": [
    "<a href=\"https://colab.research.google.com/github/UNSW-ZZSC9020-2023H2/project/blob/main/src/GoogleColab.ipynb\" target=\"_parent\">\n",
    "  <img src=\"https://colab.research.google.com/assets/colab-badge.svg\" alt=\"Open In Colab\"/>\n",
    "</a>"
   ]
  },
  {
   "attachments": {},
   "cell_type": "markdown",
   "metadata": {},
   "source": [
    "# Exploratory Analysis Notebook \n",
    "The goal of this workbook is to explore the data and the relationships within for use in downstream modelling."
   ]
  },
  {
   "attachments": {},
   "cell_type": "markdown",
   "metadata": {},
   "source": [
    "## Ideas\n",
    "- Check literature first for what's already been done and ideas before embarking on time-consuming stuff.\n",
    "- Then think about business use cases for the relationship between temperature and demand.\n",
    "- Can we incorporate other data?"
   ]
  },
  {
   "attachments": {},
   "cell_type": "markdown",
   "metadata": {},
   "source": [
    "## Setup"
   ]
  },
  {
   "cell_type": "code",
   "execution_count": 51,
   "metadata": {},
   "outputs": [],
   "source": [
    "import numpy as np\n",
    "import scipy as sp\n",
    "import matplotlib.pyplot as plt\n",
    "import pandas as pd\n",
    "import datetime"
   ]
  },
  {
   "cell_type": "code",
   "execution_count": 32,
   "metadata": {},
   "outputs": [],
   "source": [
    "temp = pd.read_csv('../data/raw/temperature_nsw.csv')\n",
    "demand = pd.read_csv('../data/raw/totaldemand_nsw.csv')\n",
    "demand_forecast = pd.read_csv('../data/raw/forecastdemand_nsw.csv')"
   ]
  },
  {
   "attachments": {},
   "cell_type": "markdown",
   "metadata": {},
   "source": [
    "## Temperature Analysis"
   ]
  },
  {
   "attachments": {},
   "cell_type": "markdown",
   "metadata": {},
   "source": [
    "### General"
   ]
  },
  {
   "cell_type": "code",
   "execution_count": 58,
   "metadata": {},
   "outputs": [
    {
     "data": {
      "text/html": [
       "<div>\n",
       "<style scoped>\n",
       "    .dataframe tbody tr th:only-of-type {\n",
       "        vertical-align: middle;\n",
       "    }\n",
       "\n",
       "    .dataframe tbody tr th {\n",
       "        vertical-align: top;\n",
       "    }\n",
       "\n",
       "    .dataframe thead th {\n",
       "        text-align: right;\n",
       "    }\n",
       "</style>\n",
       "<table border=\"1\" class=\"dataframe\">\n",
       "  <thead>\n",
       "    <tr style=\"text-align: right;\">\n",
       "      <th></th>\n",
       "      <th>DATETIME</th>\n",
       "      <th>LOCATION</th>\n",
       "      <th>TEMPERATURE</th>\n",
       "    </tr>\n",
       "  </thead>\n",
       "  <tbody>\n",
       "    <tr>\n",
       "      <th>0</th>\n",
       "      <td>2010-01-01 00:00:00</td>\n",
       "      <td>94766.0</td>\n",
       "      <td>23.1</td>\n",
       "    </tr>\n",
       "    <tr>\n",
       "      <th>1</th>\n",
       "      <td>2010-01-01 00:01:00</td>\n",
       "      <td>94766.0</td>\n",
       "      <td>23.1</td>\n",
       "    </tr>\n",
       "    <tr>\n",
       "      <th>2</th>\n",
       "      <td>2010-01-01 00:30:00</td>\n",
       "      <td>94766.0</td>\n",
       "      <td>22.9</td>\n",
       "    </tr>\n",
       "    <tr>\n",
       "      <th>3</th>\n",
       "      <td>2010-01-01 00:50:00</td>\n",
       "      <td>94766.0</td>\n",
       "      <td>22.7</td>\n",
       "    </tr>\n",
       "    <tr>\n",
       "      <th>4</th>\n",
       "      <td>2010-01-01 01:00:00</td>\n",
       "      <td>94766.0</td>\n",
       "      <td>22.6</td>\n",
       "    </tr>\n",
       "    <tr>\n",
       "      <th>...</th>\n",
       "      <td>...</td>\n",
       "      <td>...</td>\n",
       "      <td>...</td>\n",
       "    </tr>\n",
       "    <tr>\n",
       "      <th>247640</th>\n",
       "      <td>2022-07-31 21:30:00</td>\n",
       "      <td>94766.0</td>\n",
       "      <td>14.0</td>\n",
       "    </tr>\n",
       "    <tr>\n",
       "      <th>247641</th>\n",
       "      <td>2022-07-31 22:00:00</td>\n",
       "      <td>94766.0</td>\n",
       "      <td>14.0</td>\n",
       "    </tr>\n",
       "    <tr>\n",
       "      <th>247642</th>\n",
       "      <td>2022-07-31 22:30:00</td>\n",
       "      <td>94766.0</td>\n",
       "      <td>13.2</td>\n",
       "    </tr>\n",
       "    <tr>\n",
       "      <th>247643</th>\n",
       "      <td>2022-07-31 23:00:00</td>\n",
       "      <td>94766.0</td>\n",
       "      <td>13.3</td>\n",
       "    </tr>\n",
       "    <tr>\n",
       "      <th>247644</th>\n",
       "      <td>2022-07-31 23:30:00</td>\n",
       "      <td>94766.0</td>\n",
       "      <td>12.7</td>\n",
       "    </tr>\n",
       "  </tbody>\n",
       "</table>\n",
       "<p>247626 rows × 3 columns</p>\n",
       "</div>"
      ],
      "text/plain": [
       "                   DATETIME  LOCATION  TEMPERATURE\n",
       "0       2010-01-01 00:00:00   94766.0         23.1\n",
       "1       2010-01-01 00:01:00   94766.0         23.1\n",
       "2       2010-01-01 00:30:00   94766.0         22.9\n",
       "3       2010-01-01 00:50:00   94766.0         22.7\n",
       "4       2010-01-01 01:00:00   94766.0         22.6\n",
       "...                     ...       ...          ...\n",
       "247640  2022-07-31 21:30:00   94766.0         14.0\n",
       "247641  2022-07-31 22:00:00   94766.0         14.0\n",
       "247642  2022-07-31 22:30:00   94766.0         13.2\n",
       "247643  2022-07-31 23:00:00   94766.0         13.3\n",
       "247644  2022-07-31 23:30:00   94766.0         12.7\n",
       "\n",
       "[247626 rows x 3 columns]"
      ]
     },
     "execution_count": 58,
     "metadata": {},
     "output_type": "execute_result"
    }
   ],
   "source": [
    "temp.head(-1)"
   ]
  },
  {
   "cell_type": "code",
   "execution_count": 34,
   "metadata": {},
   "outputs": [
    {
     "data": {
      "text/plain": [
       "0"
      ]
     },
     "execution_count": 34,
     "metadata": {},
     "output_type": "execute_result"
    }
   ],
   "source": [
    "# Check NAs\n",
    "temp['TEMPERATURE'].isnull().sum()"
   ]
  },
  {
   "cell_type": "code",
   "execution_count": 35,
   "metadata": {},
   "outputs": [],
   "source": [
    "# Remove outlier at -9999\n",
    "temp.drop(temp[temp['TEMPERATURE'] <= -9999].index, inplace = True)"
   ]
  },
  {
   "cell_type": "code",
   "execution_count": 36,
   "metadata": {},
   "outputs": [
    {
     "data": {
      "text/html": [
       "<div>\n",
       "<style scoped>\n",
       "    .dataframe tbody tr th:only-of-type {\n",
       "        vertical-align: middle;\n",
       "    }\n",
       "\n",
       "    .dataframe tbody tr th {\n",
       "        vertical-align: top;\n",
       "    }\n",
       "\n",
       "    .dataframe thead th {\n",
       "        text-align: right;\n",
       "    }\n",
       "</style>\n",
       "<table border=\"1\" class=\"dataframe\">\n",
       "  <thead>\n",
       "    <tr style=\"text-align: right;\">\n",
       "      <th></th>\n",
       "      <th>LOCATION</th>\n",
       "      <th>TEMPERATURE</th>\n",
       "    </tr>\n",
       "  </thead>\n",
       "  <tbody>\n",
       "    <tr>\n",
       "      <th>count</th>\n",
       "      <td>247627.0</td>\n",
       "      <td>247627.000000</td>\n",
       "    </tr>\n",
       "    <tr>\n",
       "      <th>mean</th>\n",
       "      <td>94766.0</td>\n",
       "      <td>17.286950</td>\n",
       "    </tr>\n",
       "    <tr>\n",
       "      <th>std</th>\n",
       "      <td>0.0</td>\n",
       "      <td>5.820358</td>\n",
       "    </tr>\n",
       "    <tr>\n",
       "      <th>min</th>\n",
       "      <td>94766.0</td>\n",
       "      <td>-1.300000</td>\n",
       "    </tr>\n",
       "    <tr>\n",
       "      <th>25%</th>\n",
       "      <td>94766.0</td>\n",
       "      <td>13.300000</td>\n",
       "    </tr>\n",
       "    <tr>\n",
       "      <th>50%</th>\n",
       "      <td>94766.0</td>\n",
       "      <td>17.600000</td>\n",
       "    </tr>\n",
       "    <tr>\n",
       "      <th>75%</th>\n",
       "      <td>94766.0</td>\n",
       "      <td>21.200000</td>\n",
       "    </tr>\n",
       "    <tr>\n",
       "      <th>max</th>\n",
       "      <td>94766.0</td>\n",
       "      <td>44.700000</td>\n",
       "    </tr>\n",
       "  </tbody>\n",
       "</table>\n",
       "</div>"
      ],
      "text/plain": [
       "       LOCATION    TEMPERATURE\n",
       "count  247627.0  247627.000000\n",
       "mean    94766.0      17.286950\n",
       "std         0.0       5.820358\n",
       "min     94766.0      -1.300000\n",
       "25%     94766.0      13.300000\n",
       "50%     94766.0      17.600000\n",
       "75%     94766.0      21.200000\n",
       "max     94766.0      44.700000"
      ]
     },
     "execution_count": 36,
     "metadata": {},
     "output_type": "execute_result"
    }
   ],
   "source": [
    "temp.describe()"
   ]
  },
  {
   "cell_type": "code",
   "execution_count": 37,
   "metadata": {},
   "outputs": [
    {
     "data": {
      "image/png": "[encoded data removed]",
      "text/plain": [
       "<Figure size 432x288 with 1 Axes>"
      ]
     },
     "metadata": {
      "needs_background": "light"
     },
     "output_type": "display_data"
    }
   ],
   "source": [
    "plt.boxplot(x=temp[\"TEMPERATURE\"])\n",
    "plt.title(\"Temperature Boxplot\")\n",
    "plt.savefig(\"../images/exploratory/temperature-boxplot.png\")"
   ]
  },
  {
   "cell_type": "code",
   "execution_count": 38,
   "metadata": {},
   "outputs": [
    {
     "data": {
      "image/png": "[encoded data removed]",
      "text/plain": [
       "<Figure size 432x288 with 1 Axes>"
      ]
     },
     "metadata": {
      "needs_background": "light"
     },
     "output_type": "display_data"
    }
   ],
   "source": [
    "plt.hist(x=temp[\"TEMPERATURE\"])\n",
    "plt.title(\"Temperature Histogram\")\n",
    "plt.savefig(\"../images/exploratory/temperature-histogram.png\")"
   ]
  },
  {
   "attachments": {},
   "cell_type": "markdown",
   "metadata": {},
   "source": [
    "### Time Statistics "
   ]
  },
  {
   "cell_type": "code",
   "execution_count": 115,
   "metadata": {},
   "outputs": [
    {
     "data": {
      "image/png": "[encoded data removed]",
      "text/plain": [
       "<Figure size 432x288 with 1 Axes>"
      ]
     },
     "metadata": {
      "needs_background": "light"
     },
     "output_type": "display_data"
    }
   ],
   "source": [
    "# Histogram plot of the measurement minute time.\n",
    "plt.hist(x=pd.to_datetime(temp[\"DATETIME\"]).dt.minute)\n",
    "plt.title(\"Temperature Timing Histogram\")\n",
    "plt.xticks(np.arange(0,60,step=5))\n",
    "plt.savefig(\"../images/exploratory/temperature-timing-histogram.png\")"
   ]
  },
  {
   "cell_type": "code",
   "execution_count": 134,
   "metadata": {},
   "outputs": [
    {
     "data": {
      "text/plain": [
       "389318"
      ]
     },
     "execution_count": 134,
     "metadata": {},
     "output_type": "execute_result"
    }
   ],
   "source": [
    "# This shows that there are some minute values not either 0 or 30\n",
    "sum(pd.to_datetime(temp[\"DATETIME\"]).dt.minute % 30)"
   ]
  },
  {
   "attachments": {},
   "cell_type": "markdown",
   "metadata": {},
   "source": [
    "## Demand Analysis"
   ]
  },
  {
   "cell_type": "markdown",
   "metadata": {},
   "source": [
    "### General"
   ]
  },
  {
   "cell_type": "code",
   "execution_count": 56,
   "metadata": {},
   "outputs": [
    {
     "data": {
      "text/html": [
       "<div>\n",
       "<style scoped>\n",
       "    .dataframe tbody tr th:only-of-type {\n",
       "        vertical-align: middle;\n",
       "    }\n",
       "\n",
       "    .dataframe tbody tr th {\n",
       "        vertical-align: top;\n",
       "    }\n",
       "\n",
       "    .dataframe thead th {\n",
       "        text-align: right;\n",
       "    }\n",
       "</style>\n",
       "<table border=\"1\" class=\"dataframe\">\n",
       "  <thead>\n",
       "    <tr style=\"text-align: right;\">\n",
       "      <th></th>\n",
       "      <th>DATETIME</th>\n",
       "      <th>REGIONID</th>\n",
       "      <th>TOTALDEMAND</th>\n",
       "    </tr>\n",
       "  </thead>\n",
       "  <tbody>\n",
       "    <tr>\n",
       "      <th>0</th>\n",
       "      <td>2010-01-01 00:00:00</td>\n",
       "      <td>NSW1</td>\n",
       "      <td>7997.41</td>\n",
       "    </tr>\n",
       "    <tr>\n",
       "      <th>1</th>\n",
       "      <td>2010-01-01 00:05:00</td>\n",
       "      <td>NSW1</td>\n",
       "      <td>7946.51</td>\n",
       "    </tr>\n",
       "    <tr>\n",
       "      <th>2</th>\n",
       "      <td>2010-01-01 00:10:00</td>\n",
       "      <td>NSW1</td>\n",
       "      <td>7921.55</td>\n",
       "    </tr>\n",
       "    <tr>\n",
       "      <th>3</th>\n",
       "      <td>2010-01-01 00:15:00</td>\n",
       "      <td>NSW1</td>\n",
       "      <td>7837.84</td>\n",
       "    </tr>\n",
       "    <tr>\n",
       "      <th>4</th>\n",
       "      <td>2010-01-01 00:20:00</td>\n",
       "      <td>NSW1</td>\n",
       "      <td>7781.11</td>\n",
       "    </tr>\n",
       "    <tr>\n",
       "      <th>...</th>\n",
       "      <td>...</td>\n",
       "      <td>...</td>\n",
       "      <td>...</td>\n",
       "    </tr>\n",
       "    <tr>\n",
       "      <th>1323392</th>\n",
       "      <td>2022-07-31 23:35:00</td>\n",
       "      <td>NSW1</td>\n",
       "      <td>8275.87</td>\n",
       "    </tr>\n",
       "    <tr>\n",
       "      <th>1323393</th>\n",
       "      <td>2022-07-31 23:40:00</td>\n",
       "      <td>NSW1</td>\n",
       "      <td>8180.34</td>\n",
       "    </tr>\n",
       "    <tr>\n",
       "      <th>1323394</th>\n",
       "      <td>2022-07-31 23:45:00</td>\n",
       "      <td>NSW1</td>\n",
       "      <td>8237.50</td>\n",
       "    </tr>\n",
       "    <tr>\n",
       "      <th>1323395</th>\n",
       "      <td>2022-07-31 23:50:00</td>\n",
       "      <td>NSW1</td>\n",
       "      <td>8109.83</td>\n",
       "    </tr>\n",
       "    <tr>\n",
       "      <th>1323396</th>\n",
       "      <td>2022-07-31 23:55:00</td>\n",
       "      <td>NSW1</td>\n",
       "      <td>8044.52</td>\n",
       "    </tr>\n",
       "  </tbody>\n",
       "</table>\n",
       "<p>1323397 rows × 3 columns</p>\n",
       "</div>"
      ],
      "text/plain": [
       "                    DATETIME REGIONID  TOTALDEMAND\n",
       "0        2010-01-01 00:00:00     NSW1      7997.41\n",
       "1        2010-01-01 00:05:00     NSW1      7946.51\n",
       "2        2010-01-01 00:10:00     NSW1      7921.55\n",
       "3        2010-01-01 00:15:00     NSW1      7837.84\n",
       "4        2010-01-01 00:20:00     NSW1      7781.11\n",
       "...                      ...      ...          ...\n",
       "1323392  2022-07-31 23:35:00     NSW1      8275.87\n",
       "1323393  2022-07-31 23:40:00     NSW1      8180.34\n",
       "1323394  2022-07-31 23:45:00     NSW1      8237.50\n",
       "1323395  2022-07-31 23:50:00     NSW1      8109.83\n",
       "1323396  2022-07-31 23:55:00     NSW1      8044.52\n",
       "\n",
       "[1323397 rows x 3 columns]"
      ]
     },
     "execution_count": 56,
     "metadata": {},
     "output_type": "execute_result"
    }
   ],
   "source": [
    "demand.head(-1)"
   ]
  },
  {
   "cell_type": "code",
   "execution_count": 40,
   "metadata": {},
   "outputs": [
    {
     "data": {
      "text/html": [
       "<div>\n",
       "<style scoped>\n",
       "    .dataframe tbody tr th:only-of-type {\n",
       "        vertical-align: middle;\n",
       "    }\n",
       "\n",
       "    .dataframe tbody tr th {\n",
       "        vertical-align: top;\n",
       "    }\n",
       "\n",
       "    .dataframe thead th {\n",
       "        text-align: right;\n",
       "    }\n",
       "</style>\n",
       "<table border=\"1\" class=\"dataframe\">\n",
       "  <thead>\n",
       "    <tr style=\"text-align: right;\">\n",
       "      <th></th>\n",
       "      <th>TOTALDEMAND</th>\n",
       "    </tr>\n",
       "  </thead>\n",
       "  <tbody>\n",
       "    <tr>\n",
       "      <th>count</th>\n",
       "      <td>1.323398e+06</td>\n",
       "    </tr>\n",
       "    <tr>\n",
       "      <th>mean</th>\n",
       "      <td>8.067966e+03</td>\n",
       "    </tr>\n",
       "    <tr>\n",
       "      <th>std</th>\n",
       "      <td>1.308206e+03</td>\n",
       "    </tr>\n",
       "    <tr>\n",
       "      <th>min</th>\n",
       "      <td>4.286190e+03</td>\n",
       "    </tr>\n",
       "    <tr>\n",
       "      <th>25%</th>\n",
       "      <td>7.097480e+03</td>\n",
       "    </tr>\n",
       "    <tr>\n",
       "      <th>50%</th>\n",
       "      <td>7.996510e+03</td>\n",
       "    </tr>\n",
       "    <tr>\n",
       "      <th>75%</th>\n",
       "      <td>8.914310e+03</td>\n",
       "    </tr>\n",
       "    <tr>\n",
       "      <th>max</th>\n",
       "      <td>1.464883e+04</td>\n",
       "    </tr>\n",
       "  </tbody>\n",
       "</table>\n",
       "</div>"
      ],
      "text/plain": [
       "        TOTALDEMAND\n",
       "count  1.323398e+06\n",
       "mean   8.067966e+03\n",
       "std    1.308206e+03\n",
       "min    4.286190e+03\n",
       "25%    7.097480e+03\n",
       "50%    7.996510e+03\n",
       "75%    8.914310e+03\n",
       "max    1.464883e+04"
      ]
     },
     "execution_count": 40,
     "metadata": {},
     "output_type": "execute_result"
    }
   ],
   "source": [
    "demand.describe()"
   ]
  },
  {
   "cell_type": "code",
   "execution_count": 41,
   "metadata": {},
   "outputs": [
    {
     "data": {
      "text/plain": [
       "0"
      ]
     },
     "execution_count": 41,
     "metadata": {},
     "output_type": "execute_result"
    }
   ],
   "source": [
    "demand['TOTALDEMAND'].isnull().sum()"
   ]
  },
  {
   "cell_type": "code",
   "execution_count": 42,
   "metadata": {},
   "outputs": [
    {
     "data": {
      "image/png": "[encoded data removed]",
      "text/plain": [
       "<Figure size 432x288 with 1 Axes>"
      ]
     },
     "metadata": {
      "needs_background": "light"
     },
     "output_type": "display_data"
    }
   ],
   "source": [
    "plt.boxplot(x=demand[\"TOTALDEMAND\"])\n",
    "plt.title(\"Demand Boxplot\")\n",
    "plt.savefig(\"../images/exploratory/demand-boxplot.png\")"
   ]
  },
  {
   "cell_type": "code",
   "execution_count": 43,
   "metadata": {},
   "outputs": [
    {
     "data": {
      "image/png": "[encoded data removed]",
      "text/plain": [
       "<Figure size 432x288 with 1 Axes>"
      ]
     },
     "metadata": {
      "needs_background": "light"
     },
     "output_type": "display_data"
    }
   ],
   "source": [
    "plt.hist(x=demand[\"TOTALDEMAND\"])\n",
    "plt.title(\"Demand Histogram\")\n",
    "plt.savefig(\"../images/exploratory/demand-histogram.png\")"
   ]
  },
  {
   "cell_type": "markdown",
   "metadata": {},
   "source": [
    "### Time Statistics"
   ]
  },
  {
   "cell_type": "code",
   "execution_count": 135,
   "metadata": {},
   "outputs": [
    {
     "data": {
      "image/png": "[encoded data removed]",
      "text/plain": [
       "<Figure size 432x288 with 1 Axes>"
      ]
     },
     "metadata": {
      "needs_background": "light"
     },
     "output_type": "display_data"
    }
   ],
   "source": [
    "# Histogram plot of the measurement minute time.\n",
    "plt.hist(x=pd.to_datetime(demand[\"DATETIME\"]).dt.minute, bins=12)\n",
    "plt.xticks(np.arange(0,60,step=5))\n",
    "plt.ylim([110250, 110340])\n",
    "plt.title(\"Demand Timing Histogram\")\n",
    "plt.savefig(\"../images/exploratory/demand-timing-histogram.png\")"
   ]
  },
  {
   "cell_type": "code",
   "execution_count": 136,
   "metadata": {},
   "outputs": [
    {
     "data": {
      "text/plain": [
       "0"
      ]
     },
     "execution_count": 136,
     "metadata": {},
     "output_type": "execute_result"
    }
   ],
   "source": [
    "# All time interval minutes are 0 or 5\n",
    "sum(pd.to_datetime(demand[\"DATETIME\"]).dt.minute % 5)"
   ]
  },
  {
   "cell_type": "markdown",
   "metadata": {},
   "source": [
    "## Previously Forecasted Demand "
   ]
  },
  {
   "cell_type": "code",
   "execution_count": 59,
   "metadata": {},
   "outputs": [
    {
     "data": {
      "text/html": [
       "<div>\n",
       "<style scoped>\n",
       "    .dataframe tbody tr th:only-of-type {\n",
       "        vertical-align: middle;\n",
       "    }\n",
       "\n",
       "    .dataframe tbody tr th {\n",
       "        vertical-align: top;\n",
       "    }\n",
       "\n",
       "    .dataframe thead th {\n",
       "        text-align: right;\n",
       "    }\n",
       "</style>\n",
       "<table border=\"1\" class=\"dataframe\">\n",
       "  <thead>\n",
       "    <tr style=\"text-align: right;\">\n",
       "      <th></th>\n",
       "      <th>DATETIME</th>\n",
       "      <th>REGIONID</th>\n",
       "      <th>FORECASTDEMAND</th>\n",
       "      <th>PREDISPATCHSEQNO</th>\n",
       "      <th>PERIODID</th>\n",
       "      <th>LASTCHANGED</th>\n",
       "    </tr>\n",
       "  </thead>\n",
       "  <tbody>\n",
       "    <tr>\n",
       "      <th>0</th>\n",
       "      <td>2010-01-01 00:00:00</td>\n",
       "      <td>NSW1</td>\n",
       "      <td>7832.04</td>\n",
       "      <td>2009123018</td>\n",
       "      <td>71</td>\n",
       "      <td>2009-12-30 12:31:49</td>\n",
       "    </tr>\n",
       "    <tr>\n",
       "      <th>1</th>\n",
       "      <td>2010-01-01 00:00:00</td>\n",
       "      <td>NSW1</td>\n",
       "      <td>7832.04</td>\n",
       "      <td>2009123019</td>\n",
       "      <td>70</td>\n",
       "      <td>2009-12-30 13:01:43</td>\n",
       "    </tr>\n",
       "    <tr>\n",
       "      <th>2</th>\n",
       "      <td>2010-01-01 00:00:00</td>\n",
       "      <td>NSW1</td>\n",
       "      <td>7832.03</td>\n",
       "      <td>2009123020</td>\n",
       "      <td>69</td>\n",
       "      <td>2009-12-30 13:31:36</td>\n",
       "    </tr>\n",
       "    <tr>\n",
       "      <th>3</th>\n",
       "      <td>2010-01-01 00:00:00</td>\n",
       "      <td>NSW1</td>\n",
       "      <td>7832.03</td>\n",
       "      <td>2009123021</td>\n",
       "      <td>68</td>\n",
       "      <td>2009-12-30 14:01:44</td>\n",
       "    </tr>\n",
       "    <tr>\n",
       "      <th>4</th>\n",
       "      <td>2010-01-01 00:00:00</td>\n",
       "      <td>NSW1</td>\n",
       "      <td>7830.96</td>\n",
       "      <td>2009123022</td>\n",
       "      <td>67</td>\n",
       "      <td>2009-12-30 14:31:35</td>\n",
       "    </tr>\n",
       "    <tr>\n",
       "      <th>...</th>\n",
       "      <td>...</td>\n",
       "      <td>...</td>\n",
       "      <td>...</td>\n",
       "      <td>...</td>\n",
       "      <td>...</td>\n",
       "      <td>...</td>\n",
       "    </tr>\n",
       "    <tr>\n",
       "      <th>11619497</th>\n",
       "      <td>2022-08-01 00:00:00</td>\n",
       "      <td>NSW1</td>\n",
       "      <td>8246.38</td>\n",
       "      <td>2022073135</td>\n",
       "      <td>6</td>\n",
       "      <td>2022-07-31 21:02:05</td>\n",
       "    </tr>\n",
       "    <tr>\n",
       "      <th>11619498</th>\n",
       "      <td>2022-08-01 00:00:00</td>\n",
       "      <td>NSW1</td>\n",
       "      <td>8227.36</td>\n",
       "      <td>2022073136</td>\n",
       "      <td>5</td>\n",
       "      <td>2022-07-31 21:32:14</td>\n",
       "    </tr>\n",
       "    <tr>\n",
       "      <th>11619499</th>\n",
       "      <td>2022-08-01 00:00:00</td>\n",
       "      <td>NSW1</td>\n",
       "      <td>8175.04</td>\n",
       "      <td>2022073137</td>\n",
       "      <td>4</td>\n",
       "      <td>2022-07-31 22:01:54</td>\n",
       "    </tr>\n",
       "    <tr>\n",
       "      <th>11619500</th>\n",
       "      <td>2022-08-01 00:00:00</td>\n",
       "      <td>NSW1</td>\n",
       "      <td>8145.10</td>\n",
       "      <td>2022073138</td>\n",
       "      <td>3</td>\n",
       "      <td>2022-07-31 22:32:00</td>\n",
       "    </tr>\n",
       "    <tr>\n",
       "      <th>11619501</th>\n",
       "      <td>2022-08-01 00:00:00</td>\n",
       "      <td>NSW1</td>\n",
       "      <td>8136.92</td>\n",
       "      <td>2022073139</td>\n",
       "      <td>2</td>\n",
       "      <td>2022-07-31 23:01:49</td>\n",
       "    </tr>\n",
       "  </tbody>\n",
       "</table>\n",
       "<p>11619502 rows × 6 columns</p>\n",
       "</div>"
      ],
      "text/plain": [
       "                     DATETIME REGIONID  FORECASTDEMAND  PREDISPATCHSEQNO  \\\n",
       "0         2010-01-01 00:00:00     NSW1         7832.04        2009123018   \n",
       "1         2010-01-01 00:00:00     NSW1         7832.04        2009123019   \n",
       "2         2010-01-01 00:00:00     NSW1         7832.03        2009123020   \n",
       "3         2010-01-01 00:00:00     NSW1         7832.03        2009123021   \n",
       "4         2010-01-01 00:00:00     NSW1         7830.96        2009123022   \n",
       "...                       ...      ...             ...               ...   \n",
       "11619497  2022-08-01 00:00:00     NSW1         8246.38        2022073135   \n",
       "11619498  2022-08-01 00:00:00     NSW1         8227.36        2022073136   \n",
       "11619499  2022-08-01 00:00:00     NSW1         8175.04        2022073137   \n",
       "11619500  2022-08-01 00:00:00     NSW1         8145.10        2022073138   \n",
       "11619501  2022-08-01 00:00:00     NSW1         8136.92        2022073139   \n",
       "\n",
       "          PERIODID          LASTCHANGED  \n",
       "0               71  2009-12-30 12:31:49  \n",
       "1               70  2009-12-30 13:01:43  \n",
       "2               69  2009-12-30 13:31:36  \n",
       "3               68  2009-12-30 14:01:44  \n",
       "4               67  2009-12-30 14:31:35  \n",
       "...            ...                  ...  \n",
       "11619497         6  2022-07-31 21:02:05  \n",
       "11619498         5  2022-07-31 21:32:14  \n",
       "11619499         4  2022-07-31 22:01:54  \n",
       "11619500         3  2022-07-31 22:32:00  \n",
       "11619501         2  2022-07-31 23:01:49  \n",
       "\n",
       "[11619502 rows x 6 columns]"
      ]
     },
     "execution_count": 59,
     "metadata": {},
     "output_type": "execute_result"
    }
   ],
   "source": [
    "demand_forecast.head(-1)"
   ]
  },
  {
   "cell_type": "code",
   "execution_count": 45,
   "metadata": {},
   "outputs": [
    {
     "data": {
      "text/html": [
       "<div>\n",
       "<style scoped>\n",
       "    .dataframe tbody tr th:only-of-type {\n",
       "        vertical-align: middle;\n",
       "    }\n",
       "\n",
       "    .dataframe tbody tr th {\n",
       "        vertical-align: top;\n",
       "    }\n",
       "\n",
       "    .dataframe thead th {\n",
       "        text-align: right;\n",
       "    }\n",
       "</style>\n",
       "<table border=\"1\" class=\"dataframe\">\n",
       "  <thead>\n",
       "    <tr style=\"text-align: right;\">\n",
       "      <th></th>\n",
       "      <th>FORECASTDEMAND</th>\n",
       "      <th>PREDISPATCHSEQNO</th>\n",
       "      <th>PERIODID</th>\n",
       "    </tr>\n",
       "  </thead>\n",
       "  <tbody>\n",
       "    <tr>\n",
       "      <th>count</th>\n",
       "      <td>1.161950e+07</td>\n",
       "      <td>1.161950e+07</td>\n",
       "      <td>1.161950e+07</td>\n",
       "    </tr>\n",
       "    <tr>\n",
       "      <th>mean</th>\n",
       "      <td>8.044976e+03</td>\n",
       "      <td>2.015718e+09</td>\n",
       "      <td>2.999162e+01</td>\n",
       "    </tr>\n",
       "    <tr>\n",
       "      <th>std</th>\n",
       "      <td>1.326532e+03</td>\n",
       "      <td>3.667742e+06</td>\n",
       "      <td>1.870715e+01</td>\n",
       "    </tr>\n",
       "    <tr>\n",
       "      <th>min</th>\n",
       "      <td>4.317310e+03</td>\n",
       "      <td>2.009123e+09</td>\n",
       "      <td>1.000000e+00</td>\n",
       "    </tr>\n",
       "    <tr>\n",
       "      <th>25%</th>\n",
       "      <td>7.049500e+03</td>\n",
       "      <td>2.012123e+09</td>\n",
       "      <td>1.400000e+01</td>\n",
       "    </tr>\n",
       "    <tr>\n",
       "      <th>50%</th>\n",
       "      <td>7.978180e+03</td>\n",
       "      <td>2.015122e+09</td>\n",
       "      <td>2.800000e+01</td>\n",
       "    </tr>\n",
       "    <tr>\n",
       "      <th>75%</th>\n",
       "      <td>8.908280e+03</td>\n",
       "      <td>2.019051e+09</td>\n",
       "      <td>4.400000e+01</td>\n",
       "    </tr>\n",
       "    <tr>\n",
       "      <th>max</th>\n",
       "      <td>1.473666e+04</td>\n",
       "      <td>2.022073e+09</td>\n",
       "      <td>7.900000e+01</td>\n",
       "    </tr>\n",
       "  </tbody>\n",
       "</table>\n",
       "</div>"
      ],
      "text/plain": [
       "       FORECASTDEMAND  PREDISPATCHSEQNO      PERIODID\n",
       "count    1.161950e+07      1.161950e+07  1.161950e+07\n",
       "mean     8.044976e+03      2.015718e+09  2.999162e+01\n",
       "std      1.326532e+03      3.667742e+06  1.870715e+01\n",
       "min      4.317310e+03      2.009123e+09  1.000000e+00\n",
       "25%      7.049500e+03      2.012123e+09  1.400000e+01\n",
       "50%      7.978180e+03      2.015122e+09  2.800000e+01\n",
       "75%      8.908280e+03      2.019051e+09  4.400000e+01\n",
       "max      1.473666e+04      2.022073e+09  7.900000e+01"
      ]
     },
     "execution_count": 45,
     "metadata": {},
     "output_type": "execute_result"
    }
   ],
   "source": [
    "demand_forecast.describe()"
   ]
  },
  {
   "cell_type": "code",
   "execution_count": 46,
   "metadata": {},
   "outputs": [
    {
     "data": {
      "text/plain": [
       "DATETIME            0\n",
       "REGIONID            0\n",
       "FORECASTDEMAND      0\n",
       "PREDISPATCHSEQNO    0\n",
       "PERIODID            0\n",
       "LASTCHANGED         0\n",
       "dtype: int64"
      ]
     },
     "execution_count": 46,
     "metadata": {},
     "output_type": "execute_result"
    }
   ],
   "source": [
    "demand_forecast.isnull().sum()"
   ]
  },
  {
   "cell_type": "code",
   "execution_count": 47,
   "metadata": {},
   "outputs": [
    {
     "data": {
      "image/png": "[encoded data removed]",
      "text/plain": [
       "<Figure size 432x288 with 1 Axes>"
      ]
     },
     "metadata": {
      "needs_background": "light"
     },
     "output_type": "display_data"
    }
   ],
   "source": [
    "plt.boxplot(demand_forecast[\"FORECASTDEMAND\"])\n",
    "plt.title(\"Historic Forecast Boxplot\")\n",
    "plt.savefig(\"../images/exploratory/historic-forecast-boxplot.png\")"
   ]
  },
  {
   "cell_type": "code",
   "execution_count": 48,
   "metadata": {},
   "outputs": [
    {
     "data": {
      "image/png": "[encoded data removed]",
      "text/plain": [
       "<Figure size 432x288 with 1 Axes>"
      ]
     },
     "metadata": {
      "needs_background": "light"
     },
     "output_type": "display_data"
    }
   ],
   "source": [
    "plt.hist(x=demand_forecast[\"FORECASTDEMAND\"])\n",
    "plt.title(\"Historic Forecast Histogram\")\n",
    "plt.savefig(\"../images/exploratory/historic-forecast-histogram.png\")"
   ]
  },
  {
   "cell_type": "markdown",
   "metadata": {},
   "source": [
    "### Time Statistics"
   ]
  }
 ],
 "metadata": {
  "colab": {
   "collapsed_sections": [],
   "name": "GoogleColab.ipynb",
   "provenance": []
  },
  "kernelspec": {
   "display_name": "Python 3",
   "language": "python",
   "name": "python3"
  },
  "language_info": {
   "codemirror_mode": {
    "name": "ipython",
    "version": 3
   },
   "file_extension": ".py",
   "mimetype": "text/x-python",
   "name": "python",
   "nbconvert_exporter": "python",
   "pygments_lexer": "ipython3",
   "version": "3.9.13"
  },
  "vscode": {
   "interpreter": {
    "hash": "b0fa6594d8f4cbf19f97940f81e996739fb7646882a419484c72d19e05852a7e"
   }
  }
 },
 "nbformat": 4,
 "nbformat_minor": 1
}
