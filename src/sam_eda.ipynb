{
 "cells": [
  {
   "cell_type": "markdown",
   "source": [
    "# EDA Capstone Project\n",
    "Sam's EDA on datasets"
   ],
   "metadata": {
    "collapsed": false
   }
  },
  {
   "cell_type": "code",
   "execution_count": 2,
   "outputs": [],
   "source": [
    "import pandas as pd\n",
    "import seaborn as sns"
   ],
   "metadata": {
    "collapsed": false
   }
  },
  {
   "cell_type": "code",
   "execution_count": 13,
   "outputs": [],
   "source": [
    "demand_df = pd.read_csv('../data/raw/totaldemand_nsw.csv')"
   ],
   "metadata": {
    "collapsed": false
   }
  },
  {
   "cell_type": "code",
   "execution_count": 14,
   "outputs": [
    {
     "data": {
      "text/plain": "              DATETIME REGIONID  TOTALDEMAND\n0  2010-01-01 00:00:00     NSW1      7997.41\n1  2010-01-01 00:05:00     NSW1      7946.51\n2  2010-01-01 00:10:00     NSW1      7921.55\n3  2010-01-01 00:15:00     NSW1      7837.84\n4  2010-01-01 00:20:00     NSW1      7781.11",
      "text/html": "<div>\n<style scoped>\n    .dataframe tbody tr th:only-of-type {\n        vertical-align: middle;\n    }\n\n    .dataframe tbody tr th {\n        vertical-align: top;\n    }\n\n    .dataframe thead th {\n        text-align: right;\n    }\n</style>\n<table border=\"1\" class=\"dataframe\">\n  <thead>\n    <tr style=\"text-align: right;\">\n      <th></th>\n      <th>DATETIME</th>\n      <th>REGIONID</th>\n      <th>TOTALDEMAND</th>\n    </tr>\n  </thead>\n  <tbody>\n    <tr>\n      <th>0</th>\n      <td>2010-01-01 00:00:00</td>\n      <td>NSW1</td>\n      <td>7997.41</td>\n    </tr>\n    <tr>\n      <th>1</th>\n      <td>2010-01-01 00:05:00</td>\n      <td>NSW1</td>\n      <td>7946.51</td>\n    </tr>\n    <tr>\n      <th>2</th>\n      <td>2010-01-01 00:10:00</td>\n      <td>NSW1</td>\n      <td>7921.55</td>\n    </tr>\n    <tr>\n      <th>3</th>\n      <td>2010-01-01 00:15:00</td>\n      <td>NSW1</td>\n      <td>7837.84</td>\n    </tr>\n    <tr>\n      <th>4</th>\n      <td>2010-01-01 00:20:00</td>\n      <td>NSW1</td>\n      <td>7781.11</td>\n    </tr>\n  </tbody>\n</table>\n</div>"
     },
     "execution_count": 14,
     "metadata": {},
     "output_type": "execute_result"
    }
   ],
   "source": [
    "demand_df.head()"
   ],
   "metadata": {
    "collapsed": false
   }
  },
  {
   "cell_type": "code",
   "execution_count": 19,
   "outputs": [
    {
     "data": {
      "text/plain": "DATETIME        object\nREGIONID        object\nTOTALDEMAND    float64\ndtype: object"
     },
     "execution_count": 19,
     "metadata": {},
     "output_type": "execute_result"
    }
   ],
   "source": [
    "demand_df.dtypes"
   ],
   "metadata": {
    "collapsed": false
   }
  },
  {
   "cell_type": "code",
   "execution_count": null,
   "outputs": [],
   "source": [],
   "metadata": {
    "collapsed": false
   }
  }
 ],
 "metadata": {
  "kernelspec": {
   "display_name": "Python 3 (ipykernel)",
   "language": "python",
   "name": "python3"
  },
  "language_info": {
   "codemirror_mode": {
    "name": "ipython",
    "version": 3
   },
   "file_extension": ".py",
   "mimetype": "text/x-python",
   "name": "python",
   "nbconvert_exporter": "python",
   "pygments_lexer": "ipython3",
   "version": "3.9.7"
  }
 },
 "nbformat": 4,
 "nbformat_minor": 5
}
